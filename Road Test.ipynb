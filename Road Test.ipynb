{
 "cells": [
  {
   "cell_type": "markdown",
   "metadata": {
    "collapsed": true
   },
   "source": [
    "# Try Bentley link"
   ]
  },
  {
   "cell_type": "code",
   "execution_count": 38,
   "metadata": {
    "collapsed": true
   },
   "outputs": [],
   "source": [
    "import requests\n",
    "from lxml import html"
   ]
  },
  {
   "cell_type": "code",
   "execution_count": 39,
   "metadata": {
    "collapsed": true
   },
   "outputs": [],
   "source": [
    "session_requests=requests.session()"
   ]
  },
  {
   "cell_type": "code",
   "execution_count": 40,
   "metadata": {
    "collapsed": true
   },
   "outputs": [],
   "source": [
    "login_url='https://career-bentley-csm.symplicity.com/students/'\n",
    "result=session_requests.get(login_url)"
   ]
  },
  {
   "cell_type": "code",
   "execution_count": 41,
   "metadata": {
    "collapsed": true
   },
   "outputs": [],
   "source": [
    "#tree = html.fromstring(result.text)"
   ]
  },
  {
   "cell_type": "code",
   "execution_count": 42,
   "metadata": {
    "collapsed": false
   },
   "outputs": [],
   "source": [
    "#type(tree)"
   ]
  },
  {
   "cell_type": "code",
   "execution_count": 43,
   "metadata": {
    "collapsed": false
   },
   "outputs": [],
   "source": [
    "#authenticity_token = list(set(tree.xpath(\"//input[@name='csrfmiddlewaretoken']/@value\")))[0] "
   ]
  },
  {
   "cell_type": "code",
   "execution_count": 44,
   "metadata": {
    "collapsed": true
   },
   "outputs": [],
   "source": [
    "payload={\n",
    "    'username':'LI_XIAN@bentley.edu',\n",
    "    'password':'Li@123236',\n",
    "}"
   ]
  },
  {
   "cell_type": "code",
   "execution_count": 45,
   "metadata": {
    "collapsed": true
   },
   "outputs": [],
   "source": [
    "result=session_requests.post(\n",
    "login_url,\n",
    "data=payload,\n",
    "headers=dict(referer=login_url))"
   ]
  },
  {
   "cell_type": "code",
   "execution_count": 46,
   "metadata": {
    "collapsed": false
   },
   "outputs": [
    {
     "data": {
      "text/plain": [
       "True"
      ]
     },
     "execution_count": 46,
     "metadata": {},
     "output_type": "execute_result"
    }
   ],
   "source": [
    "result.ok"
   ]
  },
  {
   "cell_type": "code",
   "execution_count": 47,
   "metadata": {
    "collapsed": true
   },
   "outputs": [],
   "source": [
    "url = 'https://career-bentley-csm.symplicity.com/students/index.php?s=home'\n",
    "result = session_requests.get(\n",
    "url,\n",
    "headers=dict(referer = url))"
   ]
  },
  {
   "cell_type": "code",
   "execution_count": 48,
   "metadata": {
    "collapsed": false
   },
   "outputs": [
    {
     "data": {
      "text/plain": [
       "True"
      ]
     },
     "execution_count": 48,
     "metadata": {},
     "output_type": "execute_result"
    }
   ],
   "source": [
    "result.ok"
   ]
  },
  {
   "cell_type": "code",
   "execution_count": 49,
   "metadata": {
    "collapsed": true
   },
   "outputs": [],
   "source": [
    "text=result.content"
   ]
  },
  {
   "cell_type": "code",
   "execution_count": 50,
   "metadata": {
    "collapsed": true
   },
   "outputs": [
    {
     "data": {
      "text/plain": [
       "b'<!doctype html>\\n<html lang=\"en\">\\n<head>\\n\\t\\t\\n\\t\\t\\t<meta name=\"viewport\" content=\"width=device-width,initial-scale=1,minimum-scale=1,maximum-scale=1,user-scalable=no\">\\n\\t\\t<title>BentleyLink</title>\\n    <meta http-equiv=\"X-UA-Compatible\" content=\"IE=edge,chrome=1\">\\n    <meta charset=\"utf-8\">\\t\\n\\t<link rel=\"shortcut icon\" href=\"/favicon.ico\">\\n\\t\\t\\t\\t        <link rel=\"apple-touch-icon\" href=\"/si_ei/images/careers-icon.png\" />\\n\\t        <meta name=\"apple-itunes-app\" content=\"app-id=962184987\">\\n\\t    \\t    \\t        <link rel=\"android-touch-icon\" href=\"/si_ei/images/careers-icon.png\" />\\n\\t        <meta name=\"google-play-app\" content=\"app-id=com.symplicity.careers\">\\n\\t        \\t<script type=\"text/javascript\"> var RESPONSIVE_THEME = true, TAB_SESSION_LINK = \"\";</script>\\n\\t<link rel=\"stylesheet\" type=\"text/css\" href=\"/yui/build/container/assets/skins/sam/container.css?t=1309361679&css=container\" media=\"all\">\\n<link rel=\"stylesheet\" type=\"text/css\" href=\"/css/ajaxfilter.css?t=1480967837&css=ajaxfilter\" media=\"all\">\\n<link rel=\"stylesheet\" type=\"text/css\" href=\"/components/font-awesome/css/font-awesome.min.css?t=1480953654&css=font-awesome.min\" media=\"all\">\\n<link rel=\"stylesheet\" type=\"text/css\" href=\"/css/meter.css?t=1480967838&css=meter\" media=\"all\">\\n<link rel=\"stylesheet\" type=\"text/css\" href=\"/css/job_match.css?t=1480967838&css=job_match\" media=\"all\">\\n<link rel=\"stylesheet\" type=\"text/css\" href=\"/js/bootstrap/css/bootstrap-popover.css?t=1427475221&css=bootstrap-popover\" media=\"all\">\\n<link rel=\"stylesheet\" type=\"text/css\" href=\"/css/sponsors.css?t=1480967838&css=sponsors\" media=\"all\">\\n<link rel=\"stylesheet\" type=\"text/css\" href=\"/js/smart-app-banner/smart-app-banner.css?t=1480967843&css=smart-app-banner\" media=\"all\">\\n<link rel=\"stylesheet\" type=\"text/css\" href=\"/css/cache/e/ec356e98e0f427a87eb68b10f0f0655f.css?t=1483547063&css=colors\" media=\"all\">\\n<link rel=\"stylesheet\" type=\"text/css\" href=\"/css/cache/d/d1160c399aa7bf5c4278a367ecaefb40.css?t=1483547067&css=student\" media=\"all\">\\n<link rel=\"stylesheet\" type=\"text/css\" href=\"/students/psx/components/angular-material/angular-material.css?t=1480953650&css=angular-material\" media=\"all\">\\n<link rel=\"stylesheet\" type=\"text/css\" href=\"//fonts.googleapis.com/icon?family=Material+Icons\" media=\"all\">\\n<link rel=\"stylesheet\" type=\"text/css\" href=\"/students/psx/components/mdi/css/materialdesignicons.min.css?t=1480953651&css=materialdesignicons.min\" media=\"all\">\\n<script type=\"text/javascript\" src=\"/yui/build/yahoo-dom-event/yahoo-dom-event.js?t=1336141012\"></script>\\n<script type=\"text/javascript\" src=\"/yui/build/connection/connection-min.js?t=1309361653\"></script>\\n<script type=\"text/javascript\" src=\"/yui/build/container/container-min.js?t=1309361681\"></script>\\n<script type=\"text/javascript\" src=\"/students/psx/components/jquery/dist/jquery.min.js?t=1480953658\"></script>\\n<script type=\"text/javascript\" src=\"/students/psx/components/angular/angular.js?t=1480953650\"></script>\\n<script type=\"text/javascript\" src=\"/js/utils.js?t=1480967843\"></script>\\n<script type=\"text/javascript\" src=\"/js/jquery/current/jquery.min.js?t=1427475281\"></script>\\n<script type=\"text/javascript\" src=\"/js/jquery/plugins/jquery.tipsy.js?t=1427475235\"></script>\\n<script type=\"text/javascript\" src=\"/js/jquery/plugins/jquery.masonry.min.js?t=1427475238\"></script>\\n<script type=\"text/javascript\" src=\"/js/frontend.js?t=1480967841\"></script>\\n<script type=\"text/javascript\" src=\"/js/timeout.js?t=1480967843\"></script>\\n<script type=\"text/javascript\" src=\"/si_ei/si_ei.js?t=1480967848\"></script>\\n<script type=\"text/javascript\" src=\"/js/forms.js?t=1480967841\"></script>\\n<script type=\"text/javascript\" src=\"/popwin/windows.js?t=1199583957\"></script>\\n<script type=\"text/javascript\" src=\"/js/windows.js?t=1480967843\"></script>\\n<script type=\"text/javascript\" src=\"/js/list.js?t=1481223059\"></script>\\n<script type=\"text/javascript\" src=\"/js/jquery/jquery-ui/current/jquery.ui.effect.min.js?t=1427475277\"></script>\\n<script type=\"text/javascript\" src=\"/js/placeholder.js?t=1480967842\"></script>\\n<script type=\"text/javascript\" src=\"/js/job_edit.js?t=1480967841\"></script>\\n<script type=\"text/javascript\" src=\"/js/rpc/JSRPC-min.js?t=1471275715\"></script>\\n<script type=\"text/javascript\" src=\"/js/bootstrap/js/bootstrap.min.js?t=1427475221\"></script>\\n<script type=\"text/javascript\" src=\"/js/bootstrap/js/bootstrap-tooltip.js?t=1427475221\"></script>\\n<script type=\"text/javascript\" src=\"/js/bootstrap/js/bootstrap-popover.js?t=1427475221\"></script>\\n<script type=\"text/javascript\" src=\"https://ecn.dev.virtualearth.net/mapcontrol/mapcontrol.ashx?v=6.2&s=1\"></script>\\n<script type=\"text/javascript\" src=\"/si_ei/list_jobs.js?t=1480967847\"></script>\\n<script type=\"text/javascript\" src=\"/js/jquery/plugins/cycle2/jquery.cycle2.min.js?t=1427475264\"></script>\\n<script type=\"text/javascript\" src=\"/js/smart-app-banner/smart-app-banner.js?t=1480967843\"></script>\\n<script type=\"text/javascript\" src=\"/components/valkyrie/js/jquery.scrolltabs.js?t=1481753763\"></script>\\n<script type=\"text/javascript\" src=\"/components/valkyrie/js/utils.js?t=1481753763\"></script>\\n<script type=\"text/javascript\" src=\"/components/valkyrie/js/valkyrie-nav.js?t=1481753763\"></script>\\n<script type=\"text/javascript\" src=\"/students/psx/components/angular-sanitize/angular-sanitize.min.js?t=1480953651\"></script>\\n<script type=\"text/javascript\" src=\"/students/psx/components/angular-animate/angular-animate.js?t=1480953649\"></script>\\n<script type=\"text/javascript\" src=\"/students/psx/components/angular-aria/angular-aria.js?t=1480953650\"></script>\\n<script type=\"text/javascript\" src=\"/students/psx/components/angular-material/angular-material.js?t=1480953650\"></script>\\n<script type=\"text/javascript\" src=\"/students/psx/components/angular-resource/angular-resource.min.js?t=1480953650\"></script>\\n<script type=\"text/javascript\" src=\"/students/psx/components/angular-ui-router/release/angular-ui-router.js?t=1480953651\"></script>\\n<script type=\"text/javascript\" src=\"/students/psx/components/ngstorage/ngStorage.js?t=1480953655\"></script>\\n<script type=\"text/javascript\" src=\"/students/psx/components/song/auth/dist/auth.js?t=1480953649\"></script>\\n<script type=\"text/javascript\" src=\"/students/psx/components/song/widgets/dist/widgets.js?t=1480953649\"></script>\\n<script type=\"text/javascript\" src=\"/students/psx/components/song/widgets/dist/widgets-tpls.js?t=1480953649\"></script>\\n<script type=\"text/javascript\" src=\"/students/psx/components/angular-strap/dist/angular-strap.js?t=1480953655\"></script>\\n<script type=\"text/javascript\" src=\"/students/psx/components/angular-strap/dist/angular-strap.tpl.min.js?t=1480953655\"></script>\\n<script type=\"text/javascript\" src=\"/students/psx/components/ng-focus-on/ng-focus-on.js?t=1480953655\"></script>\\n<script type=\"text/javascript\" src=\"/students/psx/components/moment/moment.js?t=1480953651\"></script>\\n<script type=\"text/javascript\" src=\"/students/psx/components/angular-moment/angular-moment.js?t=1480953649\"></script>\\n<script type=\"text/javascript\" src=\"/students/psx/components/angular-loading-bar/build/loading-bar.min.js?t=1480953650\"></script>\\n<script type=\"text/javascript\" src=\"/students/psx/components/angular-growl-v2/build/angular-growl.min.js?t=1480953655\"></script>\\n<script type=\"text/javascript\" src=\"/students/psx/components/song/notifications/dist/notifications.js?t=1480953649\"></script>\\n<script type=\"text/javascript\" src=\"/students/psx/app/valkyrie.app.js?t=1480967848\"></script>\\n<script type=\"text/javascript\" src=\"/students/psx/app/common/base-resource-service.js?t=1480967848\"></script>\\n<script type=\"text/javascript\" src=\"/students/psx/app/quicksearch/quicksearch.controller.js?t=1480967848\"></script>\\n<script type=\"text/javascript\" src=\"/students/psx/app/quicksearch/quicksearch.factory.js?t=1480967848\"></script>\\n<script type=\"text/javascript\" src=\"/students/psx/app/quicksearch/quicksearch.service.js?t=1480967848\"></script>\\n<script type=\"text/javascript\" src=\"/students/psx/app/notifications/notifications.factory.js?t=1480967848\"></script>\\n<script type=\"text/javascript\" src=\"/students/psx/app/notifications/notifications.service.js?t=1480967848\"></script>\\n<script type=\"text/javascript\" src=\"/students/psx/app/notifications/notifications.directive.js?t=1480967848\"></script>\\n<script type=\"text/javascript\" src=\"/students/psx/app/profile/profile.controller.js?t=1480967848\"></script>\\n<script type=\"text/javascript\" src=\"/students/psx/app/profile/profile.factory.js?t=1480967848\"></script>\\n<script type=\"text/javascript\" src=\"/students/psx/app/profile/profile.service.js?t=1480967848\"></script>\\n<script type=\"text/javascript\" src=\"/students/psx/app/layout/toolbar/contact-chip.directive.js?t=1480967848\"></script>\\n<script type=\"text/javascript\" src=\"/students/psx/app/common/misc.filter.js?t=1484061164\"></script>\\n<script type=\"text/javascript\" src=\"/jscache/6/67ba830060931179181b5431e8f4c35f.js\"></script>\\n</head>\\n<body class=\"yui-skin-sam  responsive-section page-students\">\\n\\t<ul class=\"skip-links\">\\n\\t\\t<li><a href=\"#content\" title=\"Skip to content. Accesskey: C\" accesskey=\"c\" class=\"sr-only sr-only-focusable\">Skip to content</a></li>\\n\\t\\t<li><a href=\"#menu\" title=\"Skip to main menu. Accesskey: M\" accesskey=\"m\" class=\"sr-only sr-only-focusable\">Skip to main menu</a></li>\\n\\t\\t\\t</ul>\\n\\t<div id=\"helpdiv\"></div>\\n\\t\\t\\t\\t\\t\\t\\n\\n\\n\\t\\t\\n\\t\\t\\t\\t<div id=\"nav-container\" class=\"nav-showicons\" tabindex=\"0\"><a name=\"menu\"></a>\\n\\t\\t\\n\\t\\n\\t<ul role=\"navigation\">\\n\\t\\t\\t\\t\\t<li><div class=\\'xlate-nav-w\\'></div></li>\\n\\t\\t\\n\\t\\t\\n\\t\\t\\t\\t\\t\\t\\n\\t\\t\\t\\t\\n\\t\\t\\t\\t\\t\\t\\t\\t\\t\\t\\n\\t\\t\\t<li class=\"nav-item\"><a href=\"/students/index.php?s=home\" class=\"active\"><i class=\"icn-speedometer\" aria-hidden=\"true\"></i><span> Home</span></a></li>\\n\\t\\t\\n\\t\\t\\t\\t\\t\\t\\n\\t\\t\\t\\t\\n\\t\\t\\t\\t\\t\\t\\t\\t\\t\\t\\n\\t\\t\\t<li class=\"nav-item\"><a href=\"javascript:;\" aria-controls=\"menu_6a111443527ade798a9e3969b771cfd9\" aria-expanded=\"false\"><i class=\"icn-satchel\" aria-hidden=\"true\"></i><span> Jobs</span><i class=\"ti-angle-down\"></i></a>\\n\\n\\n\\t\\t\\n\\t\\t\\t\\t<div class=\"nav-level\">\\n\\t\\t\\n\\t\\n\\t<ul id=\"menu_6a111443527ade798a9e3969b771cfd9\">\\n\\t\\t\\n\\t\\t\\n\\t\\t\\t\\t\\t\\t\\n\\t\\t\\t\\t\\n\\t\\t\\t\\t\\t\\t\\t\\t\\t\\t\\n\\t\\t\\t<li class=\"nav-item\"><a href=\"/students/index.php?s=jobs&ss=jobs&mode=list\"><i class=\"icn-next\" aria-hidden=\"true\"></i><span> Bentley Jobs</span></a></li>\\n\\t\\t\\n\\t\\t\\t\\t\\t\\t\\n\\t\\t\\t\\t\\n\\t\\t\\t\\t\\t\\t\\t\\t\\t\\t\\n\\t\\t\\t<li class=\"nav-item\"><a href=\"/students/index.php?s=jobs&ss=jobmatches&mode=list\"><i class=\"icn-next\" aria-hidden=\"true\"></i><span> Recommended Jobs</span></a></li>\\n\\t\\t\\n\\t\\t\\t\\t\\t\\t\\n\\t\\t\\t\\t\\n\\t\\t\\t\\t\\t\\t\\t\\t\\t\\t\\n\\t\\t\\t<li class=\"nav-item\"><a href=\"/students/index.php?s=jobs&ss=applied&mode=list&subtab=nocr\"><i class=\"icn-next\" aria-hidden=\"true\"></i><span> My Job Applications</span></a></li>\\n\\t\\t\\n\\t\\t\\t\\t\\t\\t\\n\\t\\t\\t\\t\\n\\t\\t\\t\\t\\t\\t\\t\\t\\t\\t\\n\\t\\t\\t<li class=\"nav-item\"><a href=\"http://nacelinknetwork.jobs\" target=\"_blank\"><i class=\"icn-next\" aria-hidden=\"true\"></i><span> NACElink Network</span></a></li>\\n\\t\\t\\t</ul>\\n\\t\\n\\t</div>\\t\\n\\t\\n\\n</li>\\n\\t\\t\\n\\t\\t\\t\\t\\t\\t\\n\\t\\t\\t\\t\\n\\t\\t\\t\\t\\t\\t\\t\\t\\t\\t\\n\\t\\t\\t<li class=\"nav-item\"><a href=\"/students/psx/profile\"><i class=\"icn-contacts\" aria-hidden=\"true\"></i><span> Profile</span></a></li>\\n\\t\\t\\n\\t\\t\\t\\t\\t\\t\\n\\t\\t\\t\\t\\n\\t\\t\\t\\t\\t\\t\\t\\t\\t\\t\\n\\t\\t\\t<li class=\"nav-item\"><a href=\"javascript:;\" aria-controls=\"menu_135721a861eb6dd8d0d2a15e82ac207f\" aria-expanded=\"false\"><i class=\"icn-documents\" aria-hidden=\"true\"></i><span> Documents</span><i class=\"ti-angle-down\"></i></a>\\n\\n\\n\\t\\t\\n\\t\\t\\t\\t<div class=\"nav-level\">\\n\\t\\t\\n\\t\\n\\t<ul id=\"menu_135721a861eb6dd8d0d2a15e82ac207f\">\\n\\t\\t\\n\\t\\t\\n\\t\\t\\t\\t\\t\\t\\n\\t\\t\\t\\t\\n\\t\\t\\t\\t\\t\\t\\t\\t\\t\\t\\n\\t\\t\\t<li class=\"nav-item\"><a href=\"/students/index.php?s=resume&ss=resumes\"><i class=\"icn-next\" aria-hidden=\"true\"></i><span> Approved</span></a></li>\\n\\t\\t\\t</ul>\\n\\t\\n\\t</div>\\t\\n\\t\\n\\n</li>\\n\\t\\t\\n\\t\\t\\t\\t\\t\\t\\n\\t\\t\\t\\t\\n\\t\\t\\t\\t\\t\\t\\t\\t\\t\\t\\n\\t\\t\\t<li class=\"nav-item\"><a href=\"javascript:;\" aria-controls=\"menu_2297e5149497c19e1097a76fcc0cf3e8\" aria-expanded=\"false\"><i class=\"icn-signposts\" aria-hidden=\"true\"></i><span> Events</span><i class=\"ti-angle-down\"></i></a>\\n\\n\\n\\t\\t\\n\\t\\t\\t\\t<div class=\"nav-level\">\\n\\t\\t\\n\\t\\n\\t<ul id=\"menu_2297e5149497c19e1097a76fcc0cf3e8\">\\n\\t\\t\\n\\t\\t\\n\\t\\t\\t\\t\\t\\t\\n\\t\\t\\t\\t\\n\\t\\t\\t\\t\\t\\t\\t\\t\\t\\t\\n\\t\\t\\t<li class=\"nav-item\"><a href=\"/students/index.php?s=event&ss=cf&_ksl=1&mode=list\"><i class=\"icn-next\" aria-hidden=\"true\"></i><span> Career Fairs</span></a></li>\\n\\t\\t\\n\\t\\t\\t\\t\\t\\t\\n\\t\\t\\t\\t\\n\\t\\t\\t\\t\\t\\t\\t\\t\\t\\t\\n\\t\\t\\t<li class=\"nav-item\"><a href=\"/students/index.php?s=event&ss=is&_ksl=1&mode=list\"><i class=\"icn-next\" aria-hidden=\"true\"></i><span> Employer Pre-select Information Sessions Or Off-Campus Events</span></a></li>\\n\\t\\t\\n\\t\\t\\t\\t\\t\\t\\n\\t\\t\\t\\t\\n\\t\\t\\t\\t\\t\\t\\t\\t\\t\\t\\n\\t\\t\\t<li class=\"nav-item\"><a href=\"/students/index.php?s=event&ss=ws&_ksl=1&mode=list\"><i class=\"icn-next\" aria-hidden=\"true\"></i><span> Workshops and Employer Events</span></a></li>\\n\\t\\t\\t</ul>\\n\\t\\n\\t</div>\\t\\n\\t\\n\\n</li>\\n\\t\\t\\n\\t\\t\\t\\t\\t\\t\\n\\t\\t\\t\\t\\n\\t\\t\\t\\t\\t\\t\\t\\t\\t\\t\\n\\t\\t\\t<li class=\"nav-item\"><a href=\"/students/index.php?s=interviews&mode=list&ss=pending\"><i class=\"icn-chats\" aria-hidden=\"true\"></i><span> Interviews</span></a></li>\\n\\t\\t\\n\\t\\t\\t\\t\\t\\t\\n\\t\\t\\t\\t\\n\\t\\t\\t\\t\\t\\t\\t\\t\\t\\t\\n\\t\\t\\t<li class=\"nav-item\"><a href=\"javascript:;\" aria-controls=\"menu_5f7bb18fd3970349d9efe2b0ccd8437e\" aria-expanded=\"false\"><i class=\"icn-rocket\" aria-hidden=\"true\"></i><span> Employers</span><i class=\"ti-angle-down\"></i></a>\\n\\n\\n\\t\\t\\n\\t\\t\\t\\t<div class=\"nav-level\">\\n\\t\\t\\n\\t\\n\\t<ul id=\"menu_5f7bb18fd3970349d9efe2b0ccd8437e\">\\n\\t\\t\\n\\t\\t\\n\\t\\t\\t\\t\\t\\t\\n\\t\\t\\t\\t\\n\\t\\t\\t\\t\\t\\t\\t\\t\\t\\t\\n\\t\\t\\t<li class=\"nav-item\"><a href=\"/students/index.php?s=employers&mode=list&ss=employers&_ksl=1\"><i class=\"icn-next\" aria-hidden=\"true\"></i><span> Employer Directory</span></a></li>\\n\\t\\t\\n\\t\\t\\t\\t\\t\\t\\n\\t\\t\\t\\t\\n\\t\\t\\t\\t\\t\\t\\t\\t\\t\\t\\n\\t\\t\\t<li class=\"nav-item\"><a href=\"/students/index.php?s=employers&mode=list&ss=favorites&_ksl=1\"><i class=\"icn-next\" aria-hidden=\"true\"></i><span> Favorite Employers</span></a></li>\\n\\t\\t\\n\\t\\t\\t\\t\\t\\t\\n\\t\\t\\t\\t\\n\\t\\t\\t\\t\\t\\t\\t\\t\\t\\t\\n\\t\\t\\t<li class=\"nav-item\"><a href=\"/students/index.php?s=employers&mode=list&ss=mini_contacts&_ksl=1\"><i class=\"icn-next\" aria-hidden=\"true\"></i><span> Contact Directory</span></a></li>\\n\\t\\t\\n\\t\\t\\t\\t\\t\\t\\n\\t\\t\\t\\t\\n\\t\\t\\t\\t\\t\\t\\t\\t\\t\\t\\n\\t\\t\\t<li class=\"nav-item\"><a href=\"/students/index.php?s=employers&mode=list&ss=fav_minicontacts&_ksl=1\"><i class=\"icn-next\" aria-hidden=\"true\"></i><span> Favorite Contacts</span></a></li>\\n\\t\\t\\t</ul>\\n\\t\\n\\t</div>\\t\\n\\t\\n\\n</li>\\n\\t\\t\\n\\t\\t\\t\\t\\t\\t\\n\\t\\t\\t\\t\\n\\t\\t\\t\\t\\t\\t\\t\\t\\t\\t\\n\\t\\t\\t<li class=\"nav-item\"><a href=\"/students/index.php?s=surveys&mode=list\"><i class=\"icn-top_charts\" aria-hidden=\"true\"></i><span> Surveys</span></a></li>\\n\\t\\t\\n\\t\\t\\t\\t\\t\\t\\n\\t\\t\\t\\t\\n\\t\\t\\t\\t\\t\\t\\t\\t\\t\\t\\n\\t\\t\\t<li class=\"nav-item\"><a href=\"javascript:;\" aria-controls=\"menu_05b4b33f6638788fd4a4de9c57124b74\" aria-expanded=\"false\"><i class=\"icn-light\" aria-hidden=\"true\"></i><span> Resources</span><i class=\"ti-angle-down\"></i></a>\\n\\n\\n\\t\\t\\n\\t\\t\\t\\t<div class=\"nav-level\">\\n\\t\\t\\n\\t\\n\\t<ul id=\"menu_05b4b33f6638788fd4a4de9c57124b74\">\\n\\t\\t\\n\\t\\t\\n\\t\\t\\t\\t\\t\\t\\n\\t\\t\\t\\t\\n\\t\\t\\t\\t\\t\\t\\t\\t\\t\\t\\n\\t\\t\\t<li class=\"nav-item\"><a href=\"/students/index.php?s=resource&ss=onet&mode=landing\"><i class=\"icn-next\" aria-hidden=\"true\"></i><span> Career Explorer</span></a></li>\\n\\t\\t\\n\\t\\t\\t\\t\\t\\t\\n\\t\\t\\t\\t\\n\\t\\t\\t\\t\\t\\t\\t\\t\\t\\t\\n\\t\\t\\t<li class=\"nav-item\"><a href=\"/students/index.php?s=resource&ss=doclib&mode=list\"><i class=\"icn-next\" aria-hidden=\"true\"></i><span> Virtual Career Center</span></a></li>\\n\\t\\t\\n\\t\\t\\t\\t\\t\\t\\n\\t\\t\\t\\t\\n\\t\\t\\t\\t\\t\\t\\t\\t\\t\\t\\n\\t\\t\\t<li class=\"nav-item\"><a href=\"/students/index.php?s=resource&ss=career_advice&mode=landing\"><i class=\"icn-next\" aria-hidden=\"true\"></i><span> Career Advice</span></a></li>\\n\\t\\t\\t</ul>\\n\\t\\n\\t</div>\\t\\n\\t\\n\\n</li>\\n\\t\\t\\n\\t\\t\\t\\t\\t\\t\\n\\t\\t\\t\\t\\n\\t\\t\\t\\t\\t\\t\\t\\t\\t\\t\\n\\t\\t\\t<li class=\"nav-item\"><a href=\"javascript:;\" aria-controls=\"menu_e8b63d297d006dfb59a4800e7df3900e\" aria-expanded=\"false\"><i class=\"icn-next\" aria-hidden=\"true\"></i><span> Calendar</span><i class=\"ti-angle-down\"></i></a>\\n\\n\\n\\t\\t\\n\\t\\t\\t\\t<div class=\"nav-level\">\\n\\t\\t\\n\\t\\n\\t<ul id=\"menu_e8b63d297d006dfb59a4800e7df3900e\">\\n\\t\\t\\n\\t\\t\\n\\t\\t\\t\\t\\t\\t\\n\\t\\t\\t\\t\\n\\t\\t\\t\\t\\t\\t\\t\\t\\t\\t\\n\\t\\t\\t<li class=\"nav-item\"><a href=\"/students/index.php/students/?s=calendar&ss=ical_today&mode=list\"><i class=\"icn-next\" aria-hidden=\"true\"></i><span> Agenda</span></a></li>\\n\\t\\t\\t</ul>\\n\\t\\n\\t</div>\\t\\n\\t\\n\\n</li>\\n\\t\\t\\n\\t\\t\\t\\t\\t\\t\\n\\t\\t\\t\\t\\n\\t\\t\\t\\t\\t\\t\\t\\t\\t\\t\\n\\t\\t\\t<li class=\"nav-item\"><a href=\"javascript:;\" aria-controls=\"menu_7c817f9b2040d3540ec1d25ff01aad97\" aria-expanded=\"false\"><i class=\"icn-mortar_board\" aria-hidden=\"true\"></i><span> My Account</span><i class=\"ti-angle-down\"></i></a>\\n\\n\\n\\t\\t\\n\\t\\t\\t\\t<div class=\"nav-level\">\\n\\t\\t\\n\\t\\n\\t<ul id=\"menu_7c817f9b2040d3540ec1d25ff01aad97\">\\n\\t\\t\\n\\t\\t\\n\\t\\t\\t\\t\\t\\t\\n\\t\\t\\t\\t\\n\\t\\t\\t\\t\\t\\t\\t\\t\\t\\t\\n\\t\\t\\t<li class=\"nav-item\"><a href=\"/students/index.php?s=profile&ss=profile\"><i class=\"icn-next\" aria-hidden=\"true\"></i><span> Personal</span></a></li>\\n\\t\\t\\n\\t\\t\\t\\t\\t\\t\\n\\t\\t\\t\\t\\n\\t\\t\\t\\t\\t\\t\\t\\t\\t\\t\\n\\t\\t\\t<li class=\"nav-item\"><a href=\"/students/index.php?s=profile&ss=sprofile\"><i class=\"icn-next\" aria-hidden=\"true\"></i><span> Academic</span></a></li>\\n\\t\\t\\n\\t\\t\\t\\t\\t\\t\\n\\t\\t\\t\\t\\n\\t\\t\\t\\t\\t\\t\\t\\t\\t\\t\\n\\t\\t\\t<li class=\"nav-item\"><a href=\"/students/index.php?s=profile&ss=pref\"><i class=\"icn-next\" aria-hidden=\"true\"></i><span> Privacy</span></a></li>\\n\\t\\t\\n\\t\\t\\t\\t\\t\\t\\n\\t\\t\\t\\t\\n\\t\\t\\t\\t\\t\\t\\t\\t\\t\\t\\n\\t\\t\\t<li class=\"nav-item\"><a href=\"/students/index.php?s=profile&ss=invoices\"><i class=\"icn-next\" aria-hidden=\"true\"></i><span> Invoice</span></a></li>\\n\\t\\t\\n\\t\\t\\t\\t\\t\\t\\n\\t\\t\\t\\t\\n\\t\\t\\t\\t\\t\\t\\t\\t\\t\\t\\n\\t\\t\\t<li class=\"nav-item\"><a href=\"/students/index.php?s=profile&ss=explearning&mode=list&current_section=explearning\"><i class=\"icn-next\" aria-hidden=\"true\"></i><span> CDI 102</span></a></li>\\n\\t\\t\\t</ul>\\n\\t\\n\\t</div>\\t\\n\\t\\n\\n</li>\\n\\t\\t\\t</ul>\\n\\t\\n\\t</div>\\t\\n\\t\\t\\t\\t</div> \\t\\t\\t<div class=\"nav-mask\"></div>\\n\\t\\n\\n\\t\\t\\t\\t\\t\\t\\n\\t<div id=\"frame\">\\n\\t\\t<div class=\"page-top\">\\n\\t\\t\\t<div id=\"page-menu\" class=\"nav-toggle\">\\n\\t\\t\\t\\t<i class=\"icn-menu\"></i>\\n\\t\\t\\t</div>\\n\\t\\t\\t<div id=\"page-brand\">\\n\\t\\t\\t\\t<a href=\"www.bentley.edu/bentleylink-career\" target=\"_blank\" class=\"nav-brand\">\\n\\t\\t\\t\\t\\t<span class=\"sr-only\">Visit Site</span>\\n\\t\\t\\t\\t\\t<div style=\"background-image: url(https://career-bentley-csm.symplicity.com/files/117/1173eec19731f97380067b7fd04b814a_166_166.jpg)\"></div>\\n\\t\\t\\t\\t</a>\\n\\t\\t\\t</div>\\n\\t\\t\\t\\n\\t\\t\\t<div id=\"page-flex-fill\"></div>\\n\\t\\t\\t\\n\\t\\t\\t\\t\\t\\t\\t<div id=\"quicksearch-ng-app\">\\n\\t <div id=\"page-search\" ng-include=\"\\'/students/psx/app/quicksearch/quicksearch.html\\'\" flex></div>\\n</div>\\n<script>\\n\\tangular.bootstrap(document.getElementById(\"quicksearch-ng-app\"), [\\'studentCSMApp\\', \\'ngStorage\\']);\\n</script>\\t\\t\\t\\t\\t\\t\\n\\t\\t\\t\\t\\t\\t\\n\\n\\t\\t\\t\\t\\t\\t\\t<div id=\"page-user\">\\n\\t\\t\\t\\t\\t\\t\\t\\t\\t\\t\\t\\t<contact-chip></contact-chip>\\n\\t\\t\\t\\t\\t\\t\\t\\t\\t\\t\\t\\t\\t\\t</div>\\n\\t\\t\\t\\t\\t</div>\\n\\n\\t\\t<div class=\"page-utils\">\\n\\t\\t\\t<div class=\"row\">\\n\\t\\t\\t\\t<div class=\"col col-8 sm-col-12 back-links\">\\n\\t\\t\\t\\t\\t\\t\\t\\t\\t</div>\\n\\t\\t\\t\\t<div class=\"col col-4 sm-col-12 text-right pull-right\">\\n\\t\\t\\t\\t\\t<span id=\"xlate-container\"></span>\\n\\t\\t\\t\\t</div>\\n\\t\\t\\t</div>\\n\\t\\t</div>\\n\\n\\t\\t\\t\\t\\n\\t\\t\\n\\n\\t\\n<div class=\"student-dashboard-wrapper\">\\n\\t<a name=\"content\" id=\"content\"></a>\\n\\t<div class=\"row\">\\n\\t\\t<div class=\"col col-12\">\\n\\t\\t\\t\\t\\t\\t\\t\\t\\t\\t\\t\\t\\t\\t</div>\\n\\t</div>\\n\\t<div class=\"row\">\\n\\t\\t<div id=\"home-left\" class=\"col col-9 md-col-12\">\\n\\t\\t\\t<div class=\"card profile-card\">\\n\\t\\t\\t\\t<div class=\"content\">\\n\\t\\t\\t\\t\\t<div class=\"profile-top\" data-linkto=\"/students/psx/profile\" tabindex=\"0\" aria-label=\"Update your profile\" role=\"button\">\\n\\t\\t\\t\\t\\t\\t<div class=\"profile-background\"></div>\\n\\t\\t\\t\\t\\t\\t<div class=\"profile-wrapper\">\\n\\t\\t\\t\\t\\t\\t\\t<div class=\"profile-mask\"></div>\\n\\t\\t\\t\\t\\t\\t\\t<div class=\"profile-avatar-wrapper\">\\n\\t\\t\\t\\t\\t\\t\\t\\t\\t\\t\\t\\t\\t\\t\\t\\t<img class=\"profile-image\" alt=\"Xiang Li\" src=\"https://career-bentley-csm.symplicity.com/files/391/391d9f233795cfc5bebf6cd95f83c312_90_90.jpg\">\\n\\t\\t\\t\\t\\t\\t\\t\\t\\t\\t\\t\\t\\t\\t\\t</div>\\n\\t\\t\\t\\t\\t\\t\\t<div class=\"profile-info\">\\n\\t\\t\\t\\t\\t\\t\\t\\t<h2 class=\"student-name\">Xiang Li</h2>\\n\\t\\t\\t\\t\\t\\t\\t\\t<div class=\"student-grad\">Graduate - FT, Graduating May 2017</div>\\n\\t\\t\\t\\t\\t\\t\\t\\t<div class=\"student-major\">Business Analytics</div>\\n\\t\\t\\t\\t\\t\\t\\t</div>\\n\\n\\t\\t\\t\\t\\t\\t\\t\\t\\t\\t\\t\\t\\t\\t\\t<div class=\"profile-completion\" id=\"profile_completion_container\">\\n\\t\\t\\t\\t\\t\\t\\t\\tProfile <span id=\"profile_completion_value\"></span> Complete\\n\\t\\t\\t\\t\\t\\t\\t\\t\\t\\t\\t\\t\\t\\t\\t\\t</div>\\n\\t\\t\\t\\t\\t\\t\\t\\t\\t\\t\\t\\t\\t</div>\\n\\t\\t\\t\\t\\t</div>\\n\\t\\t\\t\\t\\t<div class=\"row\">\\n\\t\\t\\t\\t\\t\\t\\t\\t\\t\\t\\t\\t\\t<div class=\"col col-8\">\\n\\t\\t\\t\\t\\t\\t\\t\\t<ul class=\"stats\">\\n\\t\\t\\t\\t\\t\\t\\t\\t\\t\\t\\t\\t\\t\\t\\t\\t\\t\\t\\t<li >\\n\\t\\t\\t\\t\\t\\t\\t\\t\\t\\t\\t<a href=\"/students/index.php?s=jobs&ss=applied&mode=list&subtab=nocr\" class=\"clearfix\">\\n\\t\\t\\t\\t\\t\\t\\t\\t\\t\\t\\t\\t<span class=\"stat_num\">15</span>\\n\\t\\t\\t\\t\\t\\t\\t\\t\\t\\t\\t\\t<span class=\"stat_content\">\\n\\t\\t\\t\\t\\t\\t\\t\\t\\t\\t\\t\\t\\tApplications Submitted\\t\\t\\t\\t\\t\\t\\t\\t\\t\\t\\t\\t</span>\\n\\t\\t\\t\\t\\t\\t\\t\\t\\t\\t\\t</a>\\n\\t\\t\\t\\t\\t\\t\\t\\t\\t\\t</li>\\n\\t\\t\\t\\t\\t\\t\\t\\t\\t\\t\\t\\t\\t\\t\\t\\t\\t\\t\\t<li class=\"last\">\\n\\t\\t\\t\\t\\t\\t\\t\\t\\t\\t\\t<a href=\"/students/index.php?s=employers&ss=favorites\" class=\"clearfix\">\\n\\t\\t\\t\\t\\t\\t\\t\\t\\t\\t\\t\\t<span class=\"stat_num\">3</span>\\n\\t\\t\\t\\t\\t\\t\\t\\t\\t\\t\\t\\t<span class=\"stat_content\">\\n\\t\\t\\t\\t\\t\\t\\t\\t\\t\\t\\t\\t\\tEmployers Followed\\t\\t\\t\\t\\t\\t\\t\\t\\t\\t\\t\\t</span>\\n\\t\\t\\t\\t\\t\\t\\t\\t\\t\\t\\t</a>\\n\\t\\t\\t\\t\\t\\t\\t\\t\\t\\t</li>\\n\\t\\t\\t\\t\\t\\t\\t\\t\\t\\t\\t\\t\\t\\t\\t\\t\\t</ul>\\n\\t\\t\\t\\t\\t\\t\\t</div>\\n\\t\\t\\t\\t\\t\\t\\t\\t\\t\\t\\t\\t<div class=\"col col-4\">\\n\\t\\t\\t\\t\\t\\t\\t\\t\\t\\t\\t\\t\\t\\t\\t<div class=\"student-email\">\\n\\t\\t\\t\\t\\t\\t\\t\\t\\t<span class=\"icn icn-email_plane\"></span>\\n\\t\\t\\t\\t\\t\\t\\t\\t\\t<a href=\"mailto:li_xian@bentley.edu\">li_xian@bentley.edu</a>\\n\\t\\t\\t\\t\\t\\t\\t\\t</div>\\n\\t\\t\\t\\t\\t\\t\\t\\t\\t\\t\\t\\t\\t\\t\\t\\t\\t\\t\\t\\t</div>\\n\\t\\t\\t\\t\\t</div>\\n\\t\\t\\t\\t</div>\\n\\t\\t\\t</div>\\n\\t\\t\\t<div class=\"card feed-card\">\\n\\t\\t\\t\\t<div class=\"content\">\\n\\t\\t\\t\\t\\t\\t\\t\\t\\t\\t\\t<a href=\"http://career-bentley-csm.symplicity.com/students/rss_feeds.php?__key=nQa_NLCJBEN7D41S15i4Jj_rHSv9wmqlWWOhPz31giQ\" target=\"\" title=\"Subscribe to our RSS Feed\" class=\"rss-link\"><span class=\"sr-only\">RSS Feed</span></a>\\n\\t\\t\\t\\t\\t\\t\\t\\t\\t\\t<h2>News Feed</h2>\\n\\t\\t\\t\\t\\t<div id=\"feed-main\" class=\"list-full-width\">\\n\\t\\t\\t\\t\\t\\t<ul class=\"feed\" id=\"\">\\n\\t\\t\\t\\t\\t\\t\\t\\t\\t\\t\\t\\t\\t\\t\\t<li class=\"feed-item list-item clearfix\">\\n\\t\\t\\t\\t\\t\\t\\t\\t\\t\\t\\t\\t\\t\\t\\t\\t\\t\\t\\t\\t\\t\\t\\t\\t\\t\\t\\t\\t\\t\\t\\t\\t\\t\\t\\t\\t\\t\\t\\t\\t\\t\\t\\t\\t\\t\\t\\t\\t\\t\\t\\t\\t\\t\\t\\t\\t\\t\\t\\t\\t\\t\\t\\t\\t\\t\\t\\t\\t\\t\\t\\t\\t\\t\\t<div class=\"feed-item-icon list-item-image\">\\n\\t\\t\\t\\t\\t\\t\\t\\t\\t\\t\\t\\t\\t\\t\\t\\t\\t\\t\\t\\t\\t\\t\\t<i class=\"icn-satchel\"></i>\\n\\t\\t\\t\\t\\t\\t\\t\\t\\t\\t\\t\\t\\t\\t\\t\\t\\t\\t\\t\\t\\t</div>\\n\\t\\t\\t\\t\\t\\t\\t\\t\\t\\t\\t\\t\\t\\t\\t\\t\\t\\t<div class=\"feed-item-content list-item-content\">\\n\\t\\t\\t\\t\\t\\t\\t\\t\\t\\t\\t\\t\\t\\t\\t\\t\\t\\t\\t\\t\\t\\t\\t\\t\\t\\t\\t\\t\\t\\t\\t<div class=\"feed-item-blurb\">Job Finder has matches for you</div>\\n\\t\\t\\t\\t\\t\\t\\t\\t\\t\\t\\t\\t\\t\\t\\t\\t\\t\\t\\t\\t\\t\\t\\t\\t\\t\\t\\t\\t\\t\\t\\t<div class=\"feed-item-ttl\"><a href=\"?s=jobs&ss=jobmatches&mode=list\">23 Recommended Jobs</a></div>\\n\\t\\t\\t\\t\\t\\t\\t\\t\\t\\t\\t\\t\\t\\t\\t\\t\\t\\t\\t\\t<div class=\"feed-item-body\">\\n\\t\\t\\t\\t\\t\\t\\t\\t\\t\\t\\t\\n\\t\\t\\t\\t\\t\\t\\t\\t\\t\\t</div>\\n\\t\\t\\t\\t\\t\\t\\t\\t\\t</div>\\n\\t\\t\\t\\t\\t\\t\\t\\t</li>\\n\\t\\t\\t\\t\\t\\t\\t\\t\\t\\t\\t\\t\\t\\t\\t<li class=\"feed-item list-item clearfix\">\\n\\t\\t\\t\\t\\t\\t\\t\\t\\t\\t\\t\\t\\t\\t\\t\\t\\t\\t\\t\\t\\t\\t\\t\\t\\t\\t\\t\\t\\t\\t\\t\\t\\t\\t\\t\\t\\t\\t\\t\\t\\t\\t\\t\\t\\t\\t\\t\\t\\t\\t\\t\\t\\t\\t\\t\\t\\t\\t\\t\\t\\t\\t\\t\\t\\t\\t\\t\\t\\t\\t\\t\\t\\t\\t<div class=\"feed-item-icon list-item-image\">\\n\\t\\t\\t\\t\\t\\t\\t\\t\\t\\t\\t\\t\\t\\t\\t\\t\\t\\t\\t\\t\\t\\t\\t<div class=\"avatar avatar-square\">\\n\\t\\t\\t\\t\\t\\t\\t\\t\\t\\t\\t\\t\\t<img src=\"/utils/view.php?id=ca3d034f3e32ef1034c009f427df7be0\" alt=\"Logo\" role=\"presentation\">\\n\\t\\t\\t\\t\\t\\t\\t\\t\\t\\t\\t\\t</div>\\n\\t\\t\\t\\t\\t\\t\\t\\t\\t\\t\\t\\t\\t\\t\\t\\t\\t\\t\\t\\t\\t</div>\\n\\t\\t\\t\\t\\t\\t\\t\\t\\t\\t\\t\\t\\t\\t\\t\\t\\t\\t<div class=\"feed-item-content list-item-content\">\\n\\t\\t\\t\\t\\t\\t\\t\\t\\t\\t\\t\\t\\t\\t\\t\\t\\t\\t\\t\\t\\t\\t\\t\\t\\t\\t\\t\\t\\t\\t\\t<div class=\"feed-item-blurb\">Vistaprint, a Cimpress Company posted a new job</div>\\n\\t\\t\\t\\t\\t\\t\\t\\t\\t\\t\\t\\t\\t\\t\\t\\t\\t\\t\\t\\t\\t\\t\\t\\t\\t\\t\\t\\t\\t\\t\\t<div class=\"feed-item-ttl\"><a href=\"?s=jobs&ss=jobs&mode=form&id=fb5a94c4d06612722bf8321206966cfd\">Specialist, Email Marketing</a></div>\\n\\t\\t\\t\\t\\t\\t\\t\\t\\t\\t\\t\\t\\t\\t\\t\\t\\t\\t\\t\\t<div class=\"feed-item-body\">\\n\\t\\t\\t\\t\\t\\t\\t\\t\\t\\t\\t\\n\\t\\t\\t\\t\\t\\t\\t\\t\\t\\t</div>\\n\\t\\t\\t\\t\\t\\t\\t\\t\\t</div>\\n\\t\\t\\t\\t\\t\\t\\t\\t</li>\\n\\t\\t\\t\\t\\t\\t\\t\\t\\t\\t\\t\\t\\t\\t\\t<li class=\"feed-item list-item clearfix\">\\n\\t\\t\\t\\t\\t\\t\\t\\t\\t\\t\\t\\t\\t\\t\\t\\t\\t\\t\\t\\t\\t\\t\\t\\t\\t\\t\\t\\t\\t\\t\\t\\t\\t\\t\\t\\t\\t\\t\\t\\t\\t\\t\\t\\t\\t\\t\\t\\t\\t\\t\\t\\t\\t\\t\\t\\t\\t\\t\\t\\t\\t\\t\\t\\t\\t\\t\\t\\t\\t\\t\\t\\t\\t\\t<div class=\"feed-item-icon list-item-image\">\\n\\t\\t\\t\\t\\t\\t\\t\\t\\t\\t\\t\\t\\t\\t\\t\\t\\t\\t\\t\\t\\t\\t\\t<div class=\"avatar avatar-square\">\\n\\t\\t\\t\\t\\t\\t\\t\\t\\t\\t\\t\\t\\t<img src=\"/utils/view.php?id=ca3d034f3e32ef1034c009f427df7be0\" alt=\"Logo\" role=\"presentation\">\\n\\t\\t\\t\\t\\t\\t\\t\\t\\t\\t\\t\\t</div>\\n\\t\\t\\t\\t\\t\\t\\t\\t\\t\\t\\t\\t\\t\\t\\t\\t\\t\\t\\t\\t\\t</div>\\n\\t\\t\\t\\t\\t\\t\\t\\t\\t\\t\\t\\t\\t\\t\\t\\t\\t\\t<div class=\"feed-item-content list-item-content\">\\n\\t\\t\\t\\t\\t\\t\\t\\t\\t\\t\\t\\t\\t\\t\\t\\t\\t\\t\\t\\t\\t\\t\\t\\t\\t\\t\\t\\t\\t\\t\\t<div class=\"feed-item-blurb\">Vistaprint, a Cimpress Company will attend a career fair</div>\\n\\t\\t\\t\\t\\t\\t\\t\\t\\t\\t\\t\\t\\t\\t\\t\\t\\t\\t\\t\\t\\t\\t\\t\\t\\t\\t\\t\\t\\t\\t\\t<div class=\"feed-item-ttl\"><a href=\"?s=event&ss=cf&mode=form&id=66dd07f80deab08fcf44d646b1082921\">Bentley University Spring 2017 Career Fair - 2/15/2017</a></div>\\n\\t\\t\\t\\t\\t\\t\\t\\t\\t\\t\\t\\t\\t\\t\\t\\t\\t\\t\\t\\t<div class=\"feed-item-body\">\\n\\t\\t\\t\\t\\t\\t\\t\\t\\t\\t\\t\\n\\t\\t\\t\\t\\t\\t\\t\\t\\t\\t</div>\\n\\t\\t\\t\\t\\t\\t\\t\\t\\t</div>\\n\\t\\t\\t\\t\\t\\t\\t\\t</li>\\n\\t\\t\\t\\t\\t\\t\\t\\t\\t\\t\\t\\t\\t\\t\\t<li class=\"feed-item list-item clearfix\">\\n\\t\\t\\t\\t\\t\\t\\t\\t\\t\\t\\t\\t\\t\\t\\t\\t\\t\\t\\t\\t\\t\\t\\t\\t\\t\\t\\t\\t\\t\\t\\t\\t\\t\\t\\t\\t\\t\\t\\t\\t\\t\\t\\t\\t\\t\\t\\t\\t\\t\\t\\t\\t\\t\\t\\t\\t\\t\\t\\t\\t\\t\\t\\t\\t\\t\\t\\t\\t\\t\\t\\t\\t\\t\\t<div class=\"feed-item-icon list-item-image\">\\n\\t\\t\\t\\t\\t\\t\\t\\t\\t\\t\\t\\t\\t\\t\\t\\t\\t\\t\\t\\t\\t\\t\\t<div class=\"avatar avatar-square\">\\n\\t\\t\\t\\t\\t\\t\\t\\t\\t\\t\\t\\t\\t<img src=\"/utils/view.php?id=ca3d034f3e32ef1034c009f427df7be0\" alt=\"Logo\" role=\"presentation\">\\n\\t\\t\\t\\t\\t\\t\\t\\t\\t\\t\\t\\t</div>\\n\\t\\t\\t\\t\\t\\t\\t\\t\\t\\t\\t\\t\\t\\t\\t\\t\\t\\t\\t\\t\\t</div>\\n\\t\\t\\t\\t\\t\\t\\t\\t\\t\\t\\t\\t\\t\\t\\t\\t\\t\\t<div class=\"feed-item-content list-item-content\">\\n\\t\\t\\t\\t\\t\\t\\t\\t\\t\\t\\t\\t\\t\\t\\t\\t\\t\\t\\t\\t\\t\\t\\t\\t\\t\\t\\t\\t\\t\\t\\t<div class=\"feed-item-blurb\">Vistaprint, a Cimpress Company posted a new job</div>\\n\\t\\t\\t\\t\\t\\t\\t\\t\\t\\t\\t\\t\\t\\t\\t\\t\\t\\t\\t\\t\\t\\t\\t\\t\\t\\t\\t\\t\\t\\t\\t<div class=\"feed-item-ttl\"><a href=\"?s=jobs&ss=jobs&mode=form&id=8dd0fd33b6d0f46861bd7a65f61fb5c8\">Marketing Specialist</a></div>\\n\\t\\t\\t\\t\\t\\t\\t\\t\\t\\t\\t\\t\\t\\t\\t\\t\\t\\t\\t\\t<div class=\"feed-item-body\">\\n\\t\\t\\t\\t\\t\\t\\t\\t\\t\\t\\t\\n\\t\\t\\t\\t\\t\\t\\t\\t\\t\\t</div>\\n\\t\\t\\t\\t\\t\\t\\t\\t\\t</div>\\n\\t\\t\\t\\t\\t\\t\\t\\t</li>\\n\\t\\t\\t\\t\\t\\t\\t\\t\\t\\t\\t\\t\\t\\t\\t<li class=\"feed-item list-item clearfix\">\\n\\t\\t\\t\\t\\t\\t\\t\\t\\t\\t\\t\\t\\t\\t\\t\\t\\t\\t\\t\\t\\t\\t\\t\\t\\t\\t\\t\\t\\t\\t\\t\\t\\t\\t\\t\\t\\t\\t\\t\\t\\t\\t\\t\\t\\t\\t\\t\\t\\t\\t\\t\\t\\t\\t\\t\\t\\t\\t\\t\\t\\t\\t\\t\\t\\t\\t\\t\\t\\t\\t\\t\\t\\t\\t<div class=\"feed-item-icon list-item-image\">\\n\\t\\t\\t\\t\\t\\t\\t\\t\\t\\t\\t\\t\\t\\t\\t\\t\\t\\t\\t\\t\\t\\t\\t<div class=\"avatar avatar-square\">\\n\\t\\t\\t\\t\\t\\t\\t\\t\\t\\t\\t\\t\\t<img src=\"/utils/view.php?id=ca3d034f3e32ef1034c009f427df7be0\" alt=\"Logo\" role=\"presentation\">\\n\\t\\t\\t\\t\\t\\t\\t\\t\\t\\t\\t\\t</div>\\n\\t\\t\\t\\t\\t\\t\\t\\t\\t\\t\\t\\t\\t\\t\\t\\t\\t\\t\\t\\t\\t</div>\\n\\t\\t\\t\\t\\t\\t\\t\\t\\t\\t\\t\\t\\t\\t\\t\\t\\t\\t<div class=\"feed-item-content list-item-content\">\\n\\t\\t\\t\\t\\t\\t\\t\\t\\t\\t\\t\\t\\t\\t\\t\\t\\t\\t\\t\\t\\t\\t\\t\\t\\t\\t\\t\\t\\t\\t\\t<div class=\"feed-item-blurb\">Vistaprint, a Cimpress Company posted a new job</div>\\n\\t\\t\\t\\t\\t\\t\\t\\t\\t\\t\\t\\t\\t\\t\\t\\t\\t\\t\\t\\t\\t\\t\\t\\t\\t\\t\\t\\t\\t\\t\\t<div class=\"feed-item-ttl\"><a href=\"?s=jobs&ss=jobs&mode=form&id=454b792d15bfd81eb9d347e044d1f605\">Business Development Specialist </a></div>\\n\\t\\t\\t\\t\\t\\t\\t\\t\\t\\t\\t\\t\\t\\t\\t\\t\\t\\t\\t\\t<div class=\"feed-item-body\">\\n\\t\\t\\t\\t\\t\\t\\t\\t\\t\\t\\t\\n\\t\\t\\t\\t\\t\\t\\t\\t\\t\\t</div>\\n\\t\\t\\t\\t\\t\\t\\t\\t\\t</div>\\n\\t\\t\\t\\t\\t\\t\\t\\t</li>\\n\\t\\t\\t\\t\\t\\t\\t\\t\\t\\t\\t\\t\\t</ul>\\n\\t\\t\\t\\t\\t\\t\\t\\t\\t\\t</div>\\n\\t\\t\\t\\t</div>\\n\\t\\t\\t</div>\\n\\t\\t</div>\\n\\t\\t<div id=\"home-right\" class=\"col col-3 md-col-12\">\\n\\t\\t\\t\\t\\t\\t\\t\\t\\t\\t\\t\\t\\t\\t<div class=\"card sponsors-card\">\\n\\t\\t\\t\\t\\t<div class=\"content\">\\n\\t\\t\\t\\t\\t\\t<h2 class=\"home-inset-title\">Sponsors</h2>\\n\\t\\t\\t\\t\\t\\t<div id=\"sponsor_rotation\" class=\"cycle-slideshow\" data-cycle-log=\"false\" data-cycle-slides=\"> a\" data-cycle-timeout=\"4000\" data-cycle-pause-on-hover=\"true\" data-cycle-next=\".sponsors_card .lst-next-btn\" data-cycle-prev=\".sponsors_card .lst-prev-btn\" data-cycle-caption=\"#sponsors-caption\" data-cycle-caption-template=\"{{cycleTitle}}\">\\n\\t\\t\\t\\t\\t\\t\\t\\t\\t\\t\\t\\t\\t\\t\\t\\t\\t\\t\\t\\t\\t\\t\\t\\t\\t\\t\\t\\t\\t\\t\\t\\t\\t\\t<a href=\"https://www.travelers.com/\" target=\"_blank\" data-cycle-title=\"\">\\n\\t\\t\\t\\t\\t\\t\\t\\t\\t\\t\\t\\t\\t\\t\\t\\t\\t\\t\\t\\t\\t\\t\\t\\t\\t\\t\\t\\t<img src=\"/utils/view.php?id=6056b7398a908290fbe21936ba89c862\" alt=\"Travelers\" title=\"Travelers\">\\n\\t\\t\\t\\t\\t\\t\\t\\t\\t\\t\\t\\t\\t\\t\\t\\t\\t\\t\\t</a>\\n\\t\\t\\t\\t\\t\\t\\t\\t\\t\\t\\t\\t\\t\\t\\t\\t\\t\\t\\t\\t\\t\\t\\t\\t\\t\\t\\t\\t\\t\\t\\t\\t\\t\\t\\t\\t\\t\\t\\t\\t\\t\\t<a href=\"http://www.windsormarketing.com\" target=\"_blank\" data-cycle-title=\"\">\\n\\t\\t\\t\\t\\t\\t\\t\\t\\t\\t\\t\\t\\t\\t\\t\\t\\t\\t\\t\\t\\t\\t\\t\\t\\t\\t\\t\\t<img src=\"/utils/view.php?id=238d955f899355b8219975b42c6be0f3\" alt=\"Windsor Marketing Group\" title=\"Windsor Marketing Group\">\\n\\t\\t\\t\\t\\t\\t\\t\\t\\t\\t\\t\\t\\t\\t\\t\\t\\t\\t\\t</a>\\n\\t\\t\\t\\t\\t\\t\\t\\t\\t\\t\\t\\t\\t\\t\\t\\t\\t\\t\\t\\t\\t\\t\\t\\t\\t\\t\\t\\t\\t\\t\\t\\t\\t\\t\\t\\t\\t\\t\\t\\t\\t\\t<a href=\"http://www.go.enterprise.com\" target=\"_blank\" data-cycle-title=\"\">\\n\\t\\t\\t\\t\\t\\t\\t\\t\\t\\t\\t\\t\\t\\t\\t\\t\\t\\t\\t\\t\\t\\t\\t\\t\\t\\t\\t\\t<img src=\"/utils/view.php?id=9c516b662e3da68d64648d1a1c4bbd58\" alt=\"Enterprise Holdings\" title=\"Enterprise Holdings\">\\n\\t\\t\\t\\t\\t\\t\\t\\t\\t\\t\\t\\t\\t\\t\\t\\t\\t\\t\\t</a>\\n\\t\\t\\t\\t\\t\\t\\t\\t\\t\\t\\t\\t\\t\\t\\t\\t\\t\\t\\t\\t\\t\\t\\t\\t\\t\\t\\t\\t\\t\\t\\t\\t\\t\\t\\t\\t\\t\\t\\t\\t\\t\\t<a href=\"http://www.emc.com\" target=\"_blank\" data-cycle-title=\"\">\\n\\t\\t\\t\\t\\t\\t\\t\\t\\t\\t\\t\\t\\t\\t\\t\\t\\t\\t\\t\\t\\t\\t\\t\\t\\t\\t\\t\\t<img src=\"/utils/view.php?id=c83b5a96ea9a6261f74757cde1d443e6\" alt=\"EMC\" title=\"EMC\">\\n\\t\\t\\t\\t\\t\\t\\t\\t\\t\\t\\t\\t\\t\\t\\t\\t\\t\\t\\t</a>\\n\\t\\t\\t\\t\\t\\t\\t\\t\\t\\t\\t\\t\\t\\t\\t\\t\\t\\t\\t\\t\\t\\t\\t\\t\\t\\t\\t\\t\\t\\t\\t\\t\\t\\t\\t\\t\\t\\t\\t\\t\\t\\t<a href=\"http://www.tjx.com/cmtp\" target=\"_blank\" data-cycle-title=\"\">\\n\\t\\t\\t\\t\\t\\t\\t\\t\\t\\t\\t\\t\\t\\t\\t\\t\\t\\t\\t\\t\\t\\t\\t\\t\\t\\t\\t\\t<img src=\"/utils/view.php?id=f293e65c6cb221e607d1b759a25a6ccf\" alt=\"The TJX Companies, Inc.\" title=\"The TJX Companies, Inc.\">\\n\\t\\t\\t\\t\\t\\t\\t\\t\\t\\t\\t\\t\\t\\t\\t\\t\\t\\t\\t</a>\\n\\t\\t\\t\\t\\t\\t\\t\\t\\t\\t\\t\\t\\t\\t\\t\\t\\t\\t\\t\\t\\t\\t\\t\\t\\t\\t\\t\\t\\t\\t\\t\\t\\t\\t\\t\\t\\t\\t\\t\\t\\t\\t<a href=\"http://jobs.fidelity.com\" target=\"_blank\" data-cycle-title=\"\">\\n\\t\\t\\t\\t\\t\\t\\t\\t\\t\\t\\t\\t\\t\\t\\t\\t\\t\\t\\t\\t\\t\\t\\t\\t\\t\\t\\t\\t<img src=\"/utils/view.php?id=7cf2fd22eb19414cbd559058c1ff1a83\" alt=\"Fidelity Investments\" title=\"Fidelity Investments\">\\n\\t\\t\\t\\t\\t\\t\\t\\t\\t\\t\\t\\t\\t\\t\\t\\t\\t\\t\\t</a>\\n\\t\\t\\t\\t\\t\\t\\t\\t\\t\\t\\t\\t\\t\\t\\t\\t\\t\\t\\t\\t\\t\\t\\t\\t\\t\\t\\t\\t\\t\\t\\t\\t\\t\\t\\t\\t\\t\\t\\t\\t\\t\\t<a href=\"http://www.bostonscientific.com\" target=\"_blank\" data-cycle-title=\"\">\\n\\t\\t\\t\\t\\t\\t\\t\\t\\t\\t\\t\\t\\t\\t\\t\\t\\t\\t\\t\\t\\t\\t\\t\\t\\t\\t\\t\\t<img src=\"/utils/view.php?id=6eff47c38141f470fa93a03b58699b50\" alt=\"Boston Scientfic\" title=\"Boston Scientfic\">\\n\\t\\t\\t\\t\\t\\t\\t\\t\\t\\t\\t\\t\\t\\t\\t\\t\\t\\t\\t</a>\\n\\t\\t\\t\\t\\t\\t\\t\\t\\t\\t\\t\\t\\t\\t\\t\\t\\t\\t\\t\\t\\t\\t\\t\\t\\t\\t\\t\\t\\t\\t\\t\\t\\t\\t\\t\\t\\t\\t\\t\\t\\t\\t<a href=\"http://www.epsilon.com/\" target=\"_blank\" data-cycle-title=\"\">\\n\\t\\t\\t\\t\\t\\t\\t\\t\\t\\t\\t\\t\\t\\t\\t\\t\\t\\t\\t\\t\\t\\t\\t\\t\\t\\t\\t\\t<img src=\"/utils/view.php?id=1116c97f66576585a203cf23a669d4b2\" alt=\"Epsilon\" title=\"Epsilon\">\\n\\t\\t\\t\\t\\t\\t\\t\\t\\t\\t\\t\\t\\t\\t\\t\\t\\t\\t\\t</a>\\n\\t\\t\\t\\t\\t\\t\\t\\t\\t\\t\\t\\t\\t\\t\\t\\t\\t\\t\\t\\t\\t\\t\\t\\t\\t\\t\\t\\t\\t\\t\\t\\t\\t\\t\\t\\t\\t\\t\\t\\t\\t\\t<a href=\"http://www.vistaprint.com\" target=\"_blank\" data-cycle-title=\"\">\\n\\t\\t\\t\\t\\t\\t\\t\\t\\t\\t\\t\\t\\t\\t\\t\\t\\t\\t\\t\\t\\t\\t\\t\\t\\t\\t\\t\\t<img src=\"/utils/view.php?id=a022eaeaa8fb460200923c274a78239d\" alt=\"Vistaprint\" title=\"Vistaprint\">\\n\\t\\t\\t\\t\\t\\t\\t\\t\\t\\t\\t\\t\\t\\t\\t\\t\\t\\t\\t</a>\\n\\t\\t\\t\\t\\t\\t\\t\\t\\t\\t\\t\\t\\t\\t\\t\\t\\t\\t\\t\\t\\t\\t\\t\\t\\t\\t\\t\\t\\t\\t\\t\\t\\t\\t\\t\\t\\t\\t\\t\\t\\t\\t<a href=\"https://www.mysynchrony.com/\" target=\"_blank\" data-cycle-title=\"\">\\n\\t\\t\\t\\t\\t\\t\\t\\t\\t\\t\\t\\t\\t\\t\\t\\t\\t\\t\\t\\t\\t\\t\\t\\t\\t\\t\\t\\t<img src=\"/utils/view.php?id=decaf4f4aaac3c9f3c3a1c9720f485e2\" alt=\"Synchrony Financial\" title=\"Synchrony Financial\">\\n\\t\\t\\t\\t\\t\\t\\t\\t\\t\\t\\t\\t\\t\\t\\t\\t\\t\\t\\t</a>\\n\\t\\t\\t\\t\\t\\t\\t\\t\\t\\t\\t\\t\\t\\t\\t\\t\\t\\t\\t\\t\\t\\t\\t\\t\\t\\t\\t\\t\\t\\t\\t\\t\\t\\t\\t\\t\\t\\t\\t\\t\\t\\t<a href=\"http://careers.utc.com/utc-leadership-programs/financial-leadership-program/\" target=\"_blank\" data-cycle-title=\"\">\\n\\t\\t\\t\\t\\t\\t\\t\\t\\t\\t\\t\\t\\t\\t\\t\\t\\t\\t\\t\\t\\t\\t\\t\\t\\t\\t\\t\\t<img src=\"/utils/view.php?id=86bb1c520d572f4aadfb9ea65e1434db\" alt=\"United Technologies Corporation (UTC)\" title=\"United Technologies Corporation (UTC)\">\\n\\t\\t\\t\\t\\t\\t\\t\\t\\t\\t\\t\\t\\t\\t\\t\\t\\t\\t\\t</a>\\n\\t\\t\\t\\t\\t\\t\\t\\t\\t\\t\\t\\t\\t\\t\\t\\t\\t\\t\\t\\t\\t\\t\\t\\t\\t\\t\\t\\t\\t\\t\\t\\t\\t\\t\\t\\t\\t\\t\\t\\t\\t\\t<a href=\"http://www.libertymutual.com\" target=\"_blank\" data-cycle-title=\"\">\\n\\t\\t\\t\\t\\t\\t\\t\\t\\t\\t\\t\\t\\t\\t\\t\\t\\t\\t\\t\\t\\t\\t\\t\\t\\t\\t\\t\\t<img src=\"/utils/view.php?id=1c0f3b95cfbaf0b49a68ecbf8b3230dc\" alt=\"Liberty Mutual\" title=\"Liberty Mutual\">\\n\\t\\t\\t\\t\\t\\t\\t\\t\\t\\t\\t\\t\\t\\t\\t\\t\\t\\t\\t</a>\\n\\t\\t\\t\\t\\t\\t\\t\\t\\t\\t\\t\\t\\t\\t\\t\\t\\t\\t\\t\\t\\t\\t<p id=\"sponsors-caption\" class=\"cycle-caption caption\"></p>\\n\\t\\t\\t\\t\\t\\t</div>\\n\\t\\t\\t\\t\\t</div>\\n\\t\\t\\t\\t\\t\\t\\t\\t\\t\\t\\t<div class=\"actions\">\\n\\t\\t\\t\\t\\t\\t\\t<a class=\"lst-prev-btn\" title=\"previous\">previous</a>\\n\\t\\t\\t\\t\\t\\t\\t<a class=\"lst-next-btn\" title=\"Next\">Next</a>\\n\\t\\t\\t\\t\\t\\t</div>\\n\\t\\t\\t\\t\\t\\t\\t\\t\\t</div>\\n\\t\\t\\t\\t\\t\\t\\t\\t\\t\\t\\t\\t\\t\\t\\t\\t\\t\\t\\t\\t\\t\\t\\t\\t\\t\\t\\t\\t\\t\\t\\t\\t\\t\\t\\t\\t\\t<div class=\"card\">\\n\\t\\t\\t\\t\\t\\t<div class=\"content\">\\n\\t\\t\\t\\t\\t\\t\\t<h2>Shortcuts</h2>\\n\\t\\t\\t\\t\\t\\t\\t<ul>\\n\\t\\t\\t\\t\\t\\t\\t\\t\\t\\t\\t\\t\\t\\t\\t\\t\\t\\t\\t\\t\\t\\t\\t\\t<li>\\n\\t\\t\\t\\t\\t\\t\\t\\t\\t\\t\\t\\t\\t\\t\\t\\t\\t\\t\\t\\t\\t<a\\n\\t\\t\\t\\t\\t\\t\\t\\t\\t\\t\\t\\t\\t\\t\\t\\t\\t\\t\\t\\t\\t\\t\\thref=\"http://bentley.interviewstream.com/\" \\n\\t\\t\\t\\t\\t\\t\\t\\t\\t\\t\\t\\t\\t\\t\\t\\t\\t\\t\\t\\t\\t\\t\\ttarget=\"_blank\" \\n\\t\\t\\t\\t\\t\\t\\t\\t\\t\\t\\t\\t\\t\\t\\t\\t\\t\\t\\t\\t\\t\\t>InterviewStream - your online mock interview tool</a>\\n\\t\\t\\t\\t\\t\\t\\t\\t\\t\\t\\t\\t\\t\\t\\t\\t\\t\\t\\t</li>\\n\\t\\t\\t\\t\\t\\t\\t\\t\\t\\t\\t\\t\\t\\t\\t\\t\\t<li>\\n\\t\\t\\t\\t\\t\\t\\t\\t\\t\\t\\t\\t\\t\\t\\t\\t\\t\\t\\t\\t\\t<a\\n\\t\\t\\t\\t\\t\\t\\t\\t\\t\\t\\t\\t\\t\\t\\t\\t\\t\\t\\t\\t\\t\\t\\thref=\"http://www.usajobs.gov\" \\n\\t\\t\\t\\t\\t\\t\\t\\t\\t\\t\\t\\t\\t\\t\\t\\t\\t\\t\\t\\t\\t\\t\\ttarget=\"_blank\" \\n\\t\\t\\t\\t\\t\\t\\t\\t\\t\\t\\t\\t\\t\\t\\t\\t\\t\\t\\t\\t\\t\\t>USAJOBS - your one-stop source for Federal jobs</a>\\n\\t\\t\\t\\t\\t\\t\\t\\t\\t\\t\\t\\t\\t\\t\\t\\t\\t\\t\\t</li>\\n\\t\\t\\t\\t\\t\\t\\t\\t\\t\\t\\t\\t\\t\\t\\t\\t\\t<li>\\n\\t\\t\\t\\t\\t\\t\\t\\t\\t\\t\\t\\t\\t\\t\\t\\t\\t\\t\\t\\t\\t<a\\n\\t\\t\\t\\t\\t\\t\\t\\t\\t\\t\\t\\t\\t\\t\\t\\t\\t\\t\\t\\t\\t\\t\\thref=\"https://internhub.internships.com/\" \\n\\t\\t\\t\\t\\t\\t\\t\\t\\t\\t\\t\\t\\t\\t\\t\\t\\t\\t\\t\\t\\t\\t\\ttarget=\"_blank\" \\n\\t\\t\\t\\t\\t\\t\\t\\t\\t\\t\\t\\t\\t\\t\\t\\t\\t\\t\\t\\t\\t\\t>Intern Hub - internship postings for members of the Greater Boston Chamber of Commerce</a>\\n\\t\\t\\t\\t\\t\\t\\t\\t\\t\\t\\t\\t\\t\\t\\t\\t\\t\\t\\t</li>\\n\\t\\t\\t\\t\\t\\t\\t\\t\\t\\t\\t\\t\\t\\t\\t\\t\\t<li>\\n\\t\\t\\t\\t\\t\\t\\t\\t\\t\\t\\t\\t\\t\\t\\t\\t\\t\\t\\t\\t\\t<a\\n\\t\\t\\t\\t\\t\\t\\t\\t\\t\\t\\t\\t\\t\\t\\t\\t\\t\\t\\t\\t\\t\\t\\thref=\"http://careeredge.bentley.edu\" \\n\\t\\t\\t\\t\\t\\t\\t\\t\\t\\t\\t\\t\\t\\t\\t\\t\\t\\t\\t\\t\\t\\t\\ttarget=\"_blank\" \\n\\t\\t\\t\\t\\t\\t\\t\\t\\t\\t\\t\\t\\t\\t\\t\\t\\t\\t\\t\\t\\t\\t>Bentley CareerEdge</a>\\n\\t\\t\\t\\t\\t\\t\\t\\t\\t\\t\\t\\t\\t\\t\\t\\t\\t\\t\\t</li>\\n\\t\\t\\t\\t\\t\\t\\t\\t\\t\\t\\t\\t\\t\\t\\t\\t\\t<li>\\n\\t\\t\\t\\t\\t\\t\\t\\t\\t\\t\\t\\t\\t\\t\\t\\t\\t\\t\\t\\t\\t<a\\n\\t\\t\\t\\t\\t\\t\\t\\t\\t\\t\\t\\t\\t\\t\\t\\t\\t\\t\\t\\t\\t\\t\\thref=\"https://access.vault.com/career-insider-login.aspx?aid=257187\" \\n\\t\\t\\t\\t\\t\\t\\t\\t\\t\\t\\t\\t\\t\\t\\t\\t\\t\\t\\t\\t\\t\\t\\ttarget=\"_blank\" \\n\\t\\t\\t\\t\\t\\t\\t\\t\\t\\t\\t\\t\\t\\t\\t\\t\\t\\t\\t\\t\\t\\t>Vault - Career Research Tool to access company information and industry guides</a>\\n\\t\\t\\t\\t\\t\\t\\t\\t\\t\\t\\t\\t\\t\\t\\t\\t\\t\\t\\t</li>\\n\\t\\t\\t\\t\\t\\t\\t\\t\\t\\t\\t\\t\\t\\t\\t\\t\\t\\t\\t\\t\\t\\t</ul>\\n\\t\\t\\t\\t\\t\\t</div>\\n\\t\\t\\t\\t\\t</div>\\n\\t\\t\\t\\t\\t\\t\\t\\t\\t\\t\\t\\t\\t\\t\\t\\t\\t\\t\\t<div class=\"card\">\\n\\t\\t\\t\\t\\t\\t<div class=\"content\">\\n\\t\\t\\t\\t\\t\\t\\t<h2>Career Tools and Advising</h2>\\n\\t\\t\\t\\t\\t\\t\\t<ul>\\n\\t\\t\\t\\t\\t\\t\\t\\t\\t\\t\\t\\t\\t\\t\\t\\t\\t\\t\\t\\t\\t\\t\\t\\t<li>\\n\\t\\t\\t\\t\\t\\t\\t\\t\\t\\t\\t\\t\\t\\t\\t\\t\\t\\t\\t\\t\\t<a href=\"?_ksl=1&amp;ss=2&amp;s=resume&amp;mode=list&amp;id=\">Creating a Resume</a>\\n\\t\\t\\t\\t\\t\\t\\t\\t\\t\\t\\t\\t\\t\\t\\t\\t\\t\\t\\t</li>\\n\\t\\t\\t\\t\\t\\t\\t\\t\\t\\t\\t\\t\\t\\t\\t\\t\\t<li>\\n\\t\\t\\t\\t\\t\\t\\t\\t\\t\\t\\t\\t\\t\\t\\t\\t\\t\\t\\t\\t\\t<a href=\"?_ksl=1&amp;ss=1&amp;s=calendar&amp;mode=list&amp;id=\">Schedule Undergraduate Career Services Appointment</a>\\n\\t\\t\\t\\t\\t\\t\\t\\t\\t\\t\\t\\t\\t\\t\\t\\t\\t\\t\\t</li>\\n\\t\\t\\t\\t\\t\\t\\t\\t\\t\\t\\t\\t\\t\\t\\t\\t\\t\\t\\t\\t\\t\\t</ul>\\n\\t\\t\\t\\t\\t\\t</div>\\n\\t\\t\\t\\t\\t</div>\\n\\t\\t\\t\\t\\t\\t\\t\\t\\t\\t\\t\\t\\t\\t\\t\\t\\t\\t\\t<div class=\"card\">\\n\\t\\t\\t\\t\\t\\t<div class=\"content\">\\n\\t\\t\\t\\t\\t\\t\\t<h2>Find a Job</h2>\\n\\t\\t\\t\\t\\t\\t\\t<ul>\\n\\t\\t\\t\\t\\t\\t\\t\\t\\t\\t\\t\\t\\t\\t\\t\\t\\t\\t\\t\\t\\t\\t\\t\\t<li>\\n\\t\\t\\t\\t\\t\\t\\t\\t\\t\\t\\t\\t\\t\\t\\t\\t\\t\\t\\t\\t\\t<a\\n\\t\\t\\t\\t\\t\\t\\t\\t\\t\\t\\t\\t\\t\\t\\t\\t\\t\\t\\t\\t\\t\\t\\thref=\"?_ksl=1&amp;s=jobs&amp;ss=jobs&amp;mode=list&amp;_filter=nonocr_qualify\" \\n\\t\\t\\t\\t\\t\\t\\t\\t\\t\\t\\t\\t\\t\\t\\t\\t\\t\\t\\t\\t\\t\\t\\tonclick=\"startFullSpinner(\\'jobsearch\\');\" \\n\\t\\t\\t\\t\\t\\t\\t\\t\\t\\t\\t\\t\\t\\t\\t\\t\\t\\t\\t\\t\\t\\t><Resume Collections (Off-Campus) I Qualify For></a>\\n\\t\\t\\t\\t\\t\\t\\t\\t\\t\\t\\t\\t\\t\\t\\t\\t\\t\\t\\t</li>\\n\\t\\t\\t\\t\\t\\t\\t\\t\\t\\t\\t\\t\\t\\t\\t\\t\\t\\t\\t\\t\\t\\t</ul>\\n\\t\\t\\t\\t\\t\\t</div>\\n\\t\\t\\t\\t\\t</div>\\n\\t\\t\\t\\t\\t\\t\\t\\t\\t\\t\\t\\t\\t\\t\\t\\t\\t\\t\\t<div class=\"card\">\\n\\t\\t\\t\\t\\t\\t<div class=\"content\">\\n\\t\\t\\t\\t\\t\\t\\t<h2>Land an Interview</h2>\\n\\t\\t\\t\\t\\t\\t\\t<ul>\\n\\t\\t\\t\\t\\t\\t\\t\\t\\t\\t\\t\\t\\t\\t\\t\\t\\t\\t\\t\\t\\t\\t\\t\\t<li>\\n\\t\\t\\t\\t\\t\\t\\t\\t\\t\\t\\t\\t\\t\\t\\t\\t\\t\\t\\t\\t\\t<a href=\"?_ksl=1&amp;s=interviews&amp;ss=scheduled\">Scheduled On-Campus Interviews</a>\\n\\t\\t\\t\\t\\t\\t\\t\\t\\t\\t\\t\\t\\t\\t\\t\\t\\t\\t\\t</li>\\n\\t\\t\\t\\t\\t\\t\\t\\t\\t\\t\\t\\t\\t\\t\\t\\t\\t<li>\\n\\t\\t\\t\\t\\t\\t\\t\\t\\t\\t\\t\\t\\t\\t\\t\\t\\t\\t\\t\\t\\t<a href=\"?_ksl=1&amp;s=interviews&amp;ss=pending\">Pending On-Campus Interviews</a>\\n\\t\\t\\t\\t\\t\\t\\t\\t\\t\\t\\t\\t\\t\\t\\t\\t\\t\\t\\t</li>\\n\\t\\t\\t\\t\\t\\t\\t\\t\\t\\t\\t\\t\\t\\t\\t\\t\\t<li>\\n\\t\\t\\t\\t\\t\\t\\t\\t\\t\\t\\t\\t\\t\\t\\t\\t\\t\\t\\t\\t\\t<a\\n\\t\\t\\t\\t\\t\\t\\t\\t\\t\\t\\t\\t\\t\\t\\t\\t\\t\\t\\t\\t\\t\\t\\thref=\"?_ksl=1&amp;s=jobs&amp;ss=jobs&amp;mode=list&amp;_filter=qualify\" \\n\\t\\t\\t\\t\\t\\t\\t\\t\\t\\t\\t\\t\\t\\t\\t\\t\\t\\t\\t\\t\\t\\t\\tonclick=\"startFullSpinner(\\'jobsearch\\');\" \\n\\t\\t\\t\\t\\t\\t\\t\\t\\t\\t\\t\\t\\t\\t\\t\\t\\t\\t\\t\\t\\t\\t>On-Campus Interviews I Qualify For</a>\\n\\t\\t\\t\\t\\t\\t\\t\\t\\t\\t\\t\\t\\t\\t\\t\\t\\t\\t\\t</li>\\n\\t\\t\\t\\t\\t\\t\\t\\t\\t\\t\\t\\t\\t\\t\\t\\t\\t\\t\\t\\t\\t\\t</ul>\\n\\t\\t\\t\\t\\t\\t</div>\\n\\t\\t\\t\\t\\t</div>\\n\\t\\t\\t\\t\\t\\t\\t\\t\\t\\t\\t\\t\\t\\t\\t\\t\\t\\t\\t\\t\\t\\t\\t\\t\\t\\t\\t\\t<div class=\"card\">\\n\\t\\t\\t\\t\\t\\t<div class=\"content\">\\n\\t\\t\\t\\t\\t\\t\\t<h2>Attend Events</h2>\\n\\t\\t\\t\\t\\t\\t\\t<ul>\\n\\t\\t\\t\\t\\t\\t\\t\\t\\t\\t\\t\\t\\t\\t\\t\\t\\t\\t\\t\\t\\t\\t\\t\\t<li>\\n\\t\\t\\t\\t\\t\\t\\t\\t\\t\\t\\t\\t\\t\\t\\t\\t\\t\\t\\t\\t\\t<a href=\"?_ksl=1&amp;s=event&amp;ss=cf&amp;mode=form&amp;id=479958b7962bc056a9dbc2d5a4ddee96\">PRE-REGISTRATION EVENTS - For Bentley University Fall 2016 Career Fair (attend one date) Participants</a>\\n\\t\\t\\t\\t\\t\\t\\t\\t\\t\\t\\t\\t\\t\\t\\t\\t\\t\\t\\t</li>\\n\\t\\t\\t\\t\\t\\t\\t\\t\\t\\t\\t\\t\\t\\t\\t\\t\\t<li>\\n\\t\\t\\t\\t\\t\\t\\t\\t\\t\\t\\t\\t\\t\\t\\t\\t\\t\\t\\t\\t\\t<a href=\"?_ksl=1&amp;s=event&amp;ss=cf&amp;mode=form&amp;id=66dd07f80deab08fcf44d646b1082921\">Bentley University Spring 2017 Career Fair - 2/15/2017 Participants</a>\\n\\t\\t\\t\\t\\t\\t\\t\\t\\t\\t\\t\\t\\t\\t\\t\\t\\t\\t\\t</li>\\n\\t\\t\\t\\t\\t\\t\\t\\t\\t\\t\\t\\t\\t\\t\\t\\t\\t<li>\\n\\t\\t\\t\\t\\t\\t\\t\\t\\t\\t\\t\\t\\t\\t\\t\\t\\t\\t\\t\\t\\t<a href=\"?_ksl=1&amp;s=event&amp;ss=cf&amp;mode=form&amp;id=6db9e22192559b31b872c6fdb5ae6616\">Networking Night for Creative Engagement, Management, and Professional Sales - 10/25/16 Participants</a>\\n\\t\\t\\t\\t\\t\\t\\t\\t\\t\\t\\t\\t\\t\\t\\t\\t\\t\\t\\t</li>\\n\\t\\t\\t\\t\\t\\t\\t\\t\\t\\t\\t\\t\\t\\t\\t\\t\\t\\t\\t\\t\\t\\t</ul>\\n\\t\\t\\t\\t\\t\\t</div>\\n\\t\\t\\t\\t\\t</div>\\n\\t\\t\\t\\t\\t\\t\\t\\t\\t\\t\\t\\t\\t\\t\\t\\t\\t\\t\\t<div class=\"card\">\\n\\t\\t\\t\\t\\t\\t<div class=\"content\">\\n\\t\\t\\t\\t\\t\\t\\t<h2>more</h2>\\n\\t\\t\\t\\t\\t\\t\\t<ul>\\n\\t\\t\\t\\t\\t\\t\\t\\t\\t\\t\\t\\t\\t\\t\\t\\t\\t\\t\\t\\t\\t\\t\\t\\t<li>\\n\\t\\t\\t\\t\\t\\t\\t\\t\\t\\t\\t\\t\\t\\t\\t\\t\\t\\t\\t\\t\\t<a href=\"?_ksl=1&amp;s=profile&amp;ss=explearning\">Exp. Learning</a>\\n\\t\\t\\t\\t\\t\\t\\t\\t\\t\\t\\t\\t\\t\\t\\t\\t\\t\\t\\t</li>\\n\\t\\t\\t\\t\\t\\t\\t\\t\\t\\t\\t\\t\\t\\t\\t\\t\\t<li>\\n\\t\\t\\t\\t\\t\\t\\t\\t\\t\\t\\t\\t\\t\\t\\t\\t\\t\\t\\t\\t\\t<a href=\"?_ksl=1&amp;s=profile&amp;ss=summary\">Activity Summary</a>\\n\\t\\t\\t\\t\\t\\t\\t\\t\\t\\t\\t\\t\\t\\t\\t\\t\\t\\t\\t</li>\\n\\t\\t\\t\\t\\t\\t\\t\\t\\t\\t\\t\\t\\t\\t\\t\\t\\t<li>\\n\\t\\t\\t\\t\\t\\t\\t\\t\\t\\t\\t\\t\\t\\t\\t\\t\\t\\t\\t\\t\\t<a href=\"?_ksl=1&s=resource&ss=onet\">Career Explorer</a>\\n\\t\\t\\t\\t\\t\\t\\t\\t\\t\\t\\t\\t\\t\\t\\t\\t\\t\\t\\t</li>\\n\\t\\t\\t\\t\\t\\t\\t\\t\\t\\t\\t\\t\\t\\t\\t\\t\\t<li>\\n\\t\\t\\t\\t\\t\\t\\t\\t\\t\\t\\t\\t\\t\\t\\t\\t\\t\\t\\t\\t\\t<a href=\"?_ksl=1&amp;s=resource&amp;_ql=doclibrary\">View Virtual Career Center</a>\\n\\t\\t\\t\\t\\t\\t\\t\\t\\t\\t\\t\\t\\t\\t\\t\\t\\t\\t\\t</li>\\n\\t\\t\\t\\t\\t\\t\\t\\t\\t\\t\\t\\t\\t\\t\\t\\t\\t\\t\\t\\t\\t\\t</ul>\\n\\t\\t\\t\\t\\t\\t</div>\\n\\t\\t\\t\\t\\t</div>\\n\\t\\t\\t\\t\\t\\t\\t\\t\\t\\t\\t\\t\\t\\t\\t\\t\\t\\t\\t<div class=\"card jumpto-card\">\\n\\t\\t\\t\\t\\t<div class=\"content\">\\n\\t\\t\\t\\t\\t\\t<h2>Jump To</h2>\\n\\t\\t\\t\\t\\t\\t<div class=\"list-full-width\">\\n\\t\\t\\t\\t\\t\\t\\t<ul><li><a href=\"http://online.goinglobal.com/default.aspx?accid=20100906jdlksjdsiufoyewriuhewkjrhi37264873264iu3hekjwanhdkjsadkszgfcyutewuyri749836873terkjesanhfdk\" title=\"Login to Going Global\" target=\"goingglobal_win\"><img src=\"/si_ei/2010/jumpto-goingglobal.gif\" alt=\"Login to Going Global\" style=\"\" /></a></li><li><a href=\"http://online.usacareerguides.com/default.aspx?accid=20100906jdlksjdsiufoyewriuhewkjrhi37264873264iu3hekjwanhdkjsadkszgfcyutewuyri749836873terkjesanhfdk\" title=\"Login to Going Global City Guide\" target=\"goingglobal_city_win\"><img src=\"/si_ei/2010/jumpto-usacareerguides.gif\" alt=\"Login to Going Global City Guide\" style=\"\" /></a></li></ul>\\n\\t\\t\\t\\t\\t\\t</div>\\n\\t\\t\\t\\t\\t</div>\\n\\t\\t\\t\\t</div>\\n\\t\\t\\t\\t\\t\\t\\t\\t\\t\\t\\t\\t\\t\\t\\t\\t\\t\\t\\t\\t\\t\\t\\t\\t\\t\\t\\t\\t\\t\\t<div class=\"card gettingstarted-card\">\\n\\t\\t\\t\\t\\t\\t<div class=\"content\">\\n\\t\\t\\t\\t\\t\\t\\t<h2>Getting Started</h2>\\n\\t\\t\\t\\t\\t\\t\\t<ul>\\n\\t\\t\\t\\t\\t\\t\\t\\t\\t\\t\\t\\t\\t\\t\\t\\t\\t\\t\\t\\t\\t\\t\\t\\t\\t\\t\\t<li>\\n\\t\\t\\t\\t\\t\\t\\t\\t\\t\\t\\t<span class=\"ti-check\"></span>\\n\\t\\t\\t\\t\\t\\t\\t\\t\\t\\t\\t<a href=\"\" class=\"ql-complete\">Account Created</a>\\n\\t\\t\\t\\t\\t\\t\\t\\t\\t\\t</li>\\n\\t\\t\\t\\t\\t\\t\\t\\t\\t\\t\\t\\t\\t\\t\\t\\t\\t\\t\\t\\t\\t\\t\\t\\t\\t\\t\\t\\t\\t\\t\\t\\t\\t\\t\\t\\t<li>\\n\\t\\t\\t\\t\\t\\t\\t\\t\\t\\t\\t<span class=\"ti-check\"></span>\\n\\t\\t\\t\\t\\t\\t\\t\\t\\t\\t\\t<a href=\"?s=profile&=&ss=profile\" class=\"ql-complete\">Personal Profile</a>\\n\\t\\t\\t\\t\\t\\t\\t\\t\\t\\t</li>\\n\\t\\t\\t\\t\\t\\t\\t\\t\\t\\t\\t\\t\\t\\t\\t\\t\\t\\t\\t\\t\\t\\t\\t\\t\\t\\t\\t\\t\\t\\t\\t\\t\\t\\t\\t\\t<li>\\n\\t\\t\\t\\t\\t\\t\\t\\t\\t\\t\\t<span class=\"ti-check\"></span>\\n\\t\\t\\t\\t\\t\\t\\t\\t\\t\\t\\t<a href=\"?s=profile&ss=sprofile\" class=\"ql-complete\">Academic Profile</a>\\n\\t\\t\\t\\t\\t\\t\\t\\t\\t\\t</li>\\n\\t\\t\\t\\t\\t\\t\\t\\t\\t\\t\\t\\t\\t\\t\\t\\t\\t\\t\\t\\t\\t\\t\\t\\t\\t\\t\\t\\t\\t\\t\\t\\t\\t\\t\\t\\t<li>\\n\\t\\t\\t\\t\\t\\t\\t\\t\\t\\t\\t<span class=\"ti-check\"></span>\\n\\t\\t\\t\\t\\t\\t\\t\\t\\t\\t\\t<a href=\"?s=profile&=&ss=pref\" class=\"ql-complete\">Privacy Settings</a>\\n\\t\\t\\t\\t\\t\\t\\t\\t\\t\\t</li>\\n\\t\\t\\t\\t\\t\\t\\t\\t\\t\\t\\t\\t\\t\\t\\t\\t\\t\\t\\t\\t\\t\\t\\t\\t\\t\\n\\t\\t\\t\\t\\t\\t\\t\\t\\t\\t\\t\\t\\t\\t\\t\\t\\t\\t\\t\\t\\t\\t\\t\\t\\t\\t\\t\\t\\t\\t\\t\\t\\t\\t\\t\\t\\t\\t\\t\\t\\t\\t\\t\\t\\t\\t\\t\\t\\t\\t\\t\\t\\t\\t\\t\\t\\t\\t\\t\\t\\t\\t\\t\\t\\t\\t\\t\\t\\t\\t\\t\\t\\t\\t\\t\\t\\t\\t\\t\\t\\t\\t\\t</ul>\\n\\t\\t\\t\\t\\t\\t</div>\\n\\t\\t\\t\\t\\t</div>\\n\\t\\t\\t\\t\\n\\t\\t\\t\\t\\t\\t\\t\\t\\t\\t<div class=\"card\">\\n\\t\\t\\t\\t\\t<div class=\"content\">\\n\\t\\t\\t\\t\\t\\t<div id=\"fp-comment\"><a href=\"#\">Your feedback is welcome.</a>\\n<div id=\"home-feedback\" style=\"display:none\">\\n\\t<form method=\"post\" name=\"feedback_form\" action=\"?s=home\">\\n\\t\\t<div class=\"hd\">Any Comments or Questions?</div>\\n\\t\\t\\t\\t\\t<div class=\"bd\">\\n\\t\\t\\t\\t<div class=\"form\">\\n\\t\\t\\t\\t\\t<div class=\"field\">\\n\\t\\t\\t\\t\\t\\t<div class=\"field-label\"><label for=\"cq_field\">Your feedback is welcome.</label></div>\\n\\t\\t\\t\\t\\t\\t<div class=\"field-widget\"><textarea name=\"feedback_msg\" id=\"cq_field\"></textarea></div>\\n\\t\\t\\t\\t\\t</div>\\n\\t\\t\\t\\t\\t<div class=\"buttonbar buttonbar-bottom\">\\n\\t\\t\\t\\t\\t\\t<input type=\"submit\" name=\"feedback_submit\" value=\"submit\" class=\"input-submit btn btn_primary\">\\t\\t\\t\\t\\t</div>\\n\\t\\t\\t\\t</div>\\n\\t\\t\\t</div>\\n\\t\\t\\t</form>\\n</div>\\n</div>\\n\\n\\t\\t\\t\\t\\t</div>\\n\\t\\t\\t\\t</div>\\n\\t\\t\\t\\t\\t</div>\\n\\t</div>\\n</div>\\n\\t\\t\\t\\t\\t<div class=\"page-footer\">\\n\\t\\t\\t\\t<div class=\"footer-image\">\\n\\t\\t\\t\\t\\t\\t\\t\\t\\t\\t\\t<a href=\"http://symplicity.com/career_services_manager_csm\" target=\"_blank\"><img src=\"/si_ei/images/nacelink_csm_footer_branding.png\" alt=\"Software by Symplicity\" /></a>\\n\\t\\t\\t\\t\\t\\t\\t\\t\\t</div>\\n\\t\\t\\t\\t<div>\\n\\t\\t\\t\\t\\t\\t\\t\\t\\t\\t\\t<div class=\"footer-blurb\">\\n\\t\\t\\t\\t\\t\\t\\tNACElink Network is a collaboration between NACE, Symplicity, DirectEmployers and your college/university.\\t\\t\\t\\t\\t\\t</div>\\n\\t\\t\\t\\t\\t\\t\\t\\t\\t\\t<div class=\"footer-links\">\\n\\t\\t\\t\\t\\t\\t<a href=\"http://www.symplicity.com/privacy_policy\" target=\"_blank\">Privacy Policy</a> | <a href=\"http://www.symplicity.com/terms_of_use\" target=\"_blank\">Terms of Use</a>\\n\\t\\t\\t\\t\\t\\t\\t\\t\\t\\t\\t</div>\\n\\t\\t\\t\\t</div>\\n\\t\\t\\t</div>\\n\\t\\t\\t\\t\\t\\t\\t<div class=\"page-text-footer\">\\n\\t\\t\\t\\t\\r\\n\\r\\n\\r\\n\\r\\n  \\r\\n  \\r\\n    \\r\\n      \\r\\n        \\r\\n                  CAREER SERVICES CONTACT INFORMATION AND HOURS OF OPERATIONS\\r\\n          \\xc2\\xa0\\r\\n        \\r\\n        \\r\\n          UNDERGRADUATE\\r\\n          GRADUATE\\r\\n          RECRUITING OFFICE\\r\\n        \\r\\n        \\r\\n          <p>LaCava 225 | 781.891.2375<br />\\r\\n            <br />\\r\\n            Mon. - Fri.: 8:30 a.m. - 4:30 p.m.<br />\\r\\n            <br />\\r\\n          </p>\\r\\n          <p>LaCava 220 | 781.891.2164 <br>\\r\\n            <br>\\r\\n             Mon. - Fri.: 8:30 a.m. - 4:30 p.m.*<br>\\r\\n                              <br>\\r\\n                *By appointment only</p>              \\r\\n          <p>LaCava 205 | 781.891.3423<br />\\r\\n                  <br />\\r\\n            Mon. - Fri.: 8:30 a.m. - 4:30 p.m.</p>\\r\\n        \\r\\n        \\r\\n          \\xc2\\xa0\\r\\n          \\xc2\\xa0\\r\\n          \\xc2\\xa0\\r\\n        \\r\\n      \\r\\n    \\r\\n      \\r\\n      \\r\\n        <a href=\"http://www.bentley.edu/directions/\" class=\"nace-footer-footers\">175 Forest Street  \\t  Waltham,   \\t  Massachusetts  \\t  02452 USA</a> <a href=\"http://www.bentley.edu/contact.cfm\" class=\"nace-footer-footers\">T: +1.781.891.2000</a>\\r\\n        \\xc2\\xa0\\r\\n        <a href=\"http://www.bentley.edu/copyright.cfm\" class=\"nace-footer-footers\">Copyright</a> | <a href=\"http://www.bentley.edu/privacy.cfm\" class=\"nace-footer-footers\">Privacy</a> | <a href=\"http://www.bentley.edu/policies/index.cfm\" class=\"nace-footer-footers\">Policies</a> | <a href=\"http://www.bentley.edu/sitemap.cfm\" class=\"nace-footer-footers\">Sitemap</a>\\r\\n      \\r\\n    \\r\\n    \\r\\n\\r\\n\\r\\n\\r\\n\\n\\t\\t\\t</div>\\n\\t\\t\\t\\t<div>\\n\\t\\t\\t\\t\\t\\t\\t<IFRAME name=\"__hiddenframe1\" src=\"about:blank\" width=\"1\" height=\"1\" frameborder=\"0\"></IFRAME>\\n\\t\\t\\t\\t\\t\\t\\t<IFRAME name=\"__hiddenframe2\" src=\"about:blank\" width=\"1\" height=\"1\" frameborder=\"0\"></IFRAME>\\n\\t\\t\\t\\t\\t\\t\\t<IFRAME name=\"__hiddenframe3\" src=\"about:blank\" width=\"1\" height=\"1\" frameborder=\"0\"></IFRAME>\\n\\t\\t\\t\\t\\t\\t\\t<IFRAME name=\"__hiddenframe4\" src=\"about:blank\" width=\"1\" height=\"1\" frameborder=\"0\"></IFRAME>\\n\\t\\t\\t\\t\\t\\t\\t<IFRAME name=\"__hiddenframe5\" src=\"about:blank\" width=\"1\" height=\"1\" frameborder=\"0\"></IFRAME>\\n\\t\\t\\t\\t\\t</div>\\n\\t\\t\\n\\t\\t<div class=\"yui-skin-sam\">\\n\\t\\t\\t<div id=\"batcheditpanel\"></div>\\n\\t\\t\\t<div id=\"popdiv_placeholder\"></div>\\n\\t\\t\\t<div id=\"dialog_placeholder\"></div>\\n\\t\\t\\t<div id=\"notice_placeholder\"></div>\\n\\t\\t</div>\\n\\t</div>\\n\\t<script type=\"text/javascript\" src=\"/js/spinner.js?t=1480967843\"></script>\\n<script type=\"text/javascript\" src=\"/components/valkyrie/js/actions-toggle.js?t=1481753763\"></script>\\n<script type=\"text/javascript\" src=\"/jscache/0/0dea808893e9ab7cb8eb62cabc0f5a7c.js\"></script>\\n<script type=\"text/javascript\">\\nfunction printPreview(warn) {\\n  var confirmation = true;\\n  if (warn == true) {\\n    confirmation = confirm(\\'Only saved data will be printed. Click OK to continue or Cancel to go back and save first.\\');\\n  }\\n  if (confirmation) {\\n    window.open(\\'/students/index.php?_do_print=1&print_v=1484274314\\',\\'printer_friendly\\',\\'location=0,menubar=1,toolbar=1,resizable=1,scrollbars=1\\');\\n  } else {\\n    return false;\\n  }\\n}\\n\\nvar shouldprint = false;\\n\\nfunction printQuick() {\\n  \\n    frame = frames[\\'__hiddenframe\\'+nextFrame()];\\n    frame.location.href = \\'/students/index.php?_do_print=1&_do_print_quick=1&version=1484274314\\';\\n    shouldprint = true;\\n}\\nfunction printMeOnce(frame) {\\n  if (shouldprint) {\\n    frame.focus();\\n\\tif (typeof(frame.window.print) == \\'function\\') {\\n\\t  frame.window.print();\\n        }\\n        else {\\n          print();\\n        }\\n  }\\n}\\n\\n var _gaq = _gaq || [];\\n\\n_gaq.push([\\'_setAccount\\', \\'UA-12730569-6\\']);\\n_gaq.push([\\'_setDomainName\\', \\'career-bentley-csm.symplicity.com\\']);\\n\\n_gaq.push([\\'_setCustomVar\\', 1, \\'Section\\', \\'home\\', 3]);\\n_gaq.push([\\'_setCustomVar\\', 2, \\'Subsection\\', \\'None\\', 3]);\\n_gaq.push([\\'_setCustomVar\\', 3, \\'Subsystem\\', \\'students\\', 2]);\\n_gaq.push([\\'_setCustomVar\\', 4, \\'User\\', \\'li_xian@bentley.edu\\', 1]);\\n_gaq.push([\\'_setCustomVar\\', 5, \\'Instance\\', \\'career-bentley\\', 3]);\\n\\n_gaq.push([\\'_setCampNameKey\\',\\'SectionTracker\\']);\\n_gaq.push([\\'_setCampMediumKey\\',\\'cpc\\']);\\n_gaq.push([\\'_setCampSourceKey\\',\\'csm\\']);\\n_gaq.push([\\'_setCampTermKey\\',\\'section\\']);\\n_gaq.push([\\'_setCampContentKey\\',\\'home\\']);\\n\\n\\nvar ad_height = jQuery(\\'.adsense_wrapper\\').innerHeight() || 0;\\nvar ad_rendered = false;\\nvar ad_action = false;\\nif (ad_height > 100) {\\n\\tad_rendered = true;\\n\\tad_action = \\'rendered\\'\\n} else if (ad_height > 0) {\\n\\tad_rendered = true;\\n\\tad_action = \\'blocked\\';\\n}\\nif (ad_rendered) {\\n\\t_gaq.push([\\'_trackEvent\\', \\'Ads\\', ad_action, \\'/students/home\\']);\\n}\\n_gaq.push([\\'_trackPageview\\', \\'/students/home\\']);\\n\\n\\n          _gaq.push(\\n                    [\\'b._setAccount\\', \\'UA-38226995-1\\'],\\n                    [\\'b._setDomainName\\', \\'career-bentley-csm.symplicity.com\\'],\\n                    [\\'b._setCustomVar\\', 1, \\'Interface\\', \\'students\\', 2],\\n                    [\\'b._trackPageview\\', \\'/students/home\\']\\n                   );\\n\\n  (function() { var ga = document.createElement(\\'script\\'); ga.type = \\'text/javascript\\'; ga.async = true; ga.src = (\\'https:\\' == document.location.protocol ? \\'https://ssl\\' : \\'http://www\\') + \\'.google-analytics.com/ga.js\\'; var s = document.getElementsByTagName(\\'script\\')[0]; s.parentNode.insertBefore(ga, s);  })();\\n\\n\\n\\n\\t\\t\\t\\t\\t\\tnew SmartBanner({\\n\\t\\t\\t\\t\\t\\t\\t\\tdaysHidden: 15,\\n\\t\\t\\t\\t\\t\\t\\t\\tdaysReminder: 90,\\n\\t\\t\\t\\t\\t\\t\\t\\tappStoreLanguage: \\'us\\',\\n\\t\\t\\t\\t\\t\\t\\t\\ttitle: \\'Careers by Symplicity\\',\\n\\t\\t\\t\\t\\t\\t\\t\\tauthor: \\'Symplicity\\',\\n\\t\\t\\t\\t\\t\\t\\t\\tbutton: \\'OPEN\\'\\n\\t\\t\\t\\t\\t\\t});\\n\\t\\t\\t\\t\\t\\nJSRPC.Checksum = \"3ea97f791ea5abce89270af05a8c149b\";\\nJSRPC.Action = \"\\\\/students\\\\/index.php\";\\nvar hideHint = new JSRPC.Method(\\'hideHint\\', \\'tnmjrkb5t9JYaMDBTvQUmw\\', []);\\nHideHint = JSRPC.ExtendStatic(typeof HideHint == \\'undefined\\' ? {} : HideHint, {\\n\\tuser : \"li_xian@bentley.edu\"\\n});</script>\\n</body>\\n</html>'"
      ]
     },
     "execution_count": 50,
     "metadata": {},
     "output_type": "execute_result"
    }
   ],
   "source": [
    "text"
   ]
  },
  {
   "cell_type": "code",
   "execution_count": 14,
   "metadata": {
    "collapsed": false
   },
   "outputs": [
    {
     "data": {
      "text/plain": [
       "bytes"
      ]
     },
     "execution_count": 14,
     "metadata": {},
     "output_type": "execute_result"
    }
   ],
   "source": [
    "type(text)"
   ]
  },
  {
   "cell_type": "code",
   "execution_count": 15,
   "metadata": {
    "collapsed": true
   },
   "outputs": [],
   "source": [
    "from bs4 import BeautifulSoup"
   ]
  },
  {
   "cell_type": "code",
   "execution_count": 19,
   "metadata": {
    "collapsed": false
   },
   "outputs": [
    {
     "name": "stderr",
     "output_type": "stream",
     "text": [
      "/Users/stact/anaconda/lib/python3.5/site-packages/bs4/__init__.py:181: UserWarning: No parser was explicitly specified, so I'm using the best available HTML parser for this system (\"lxml\"). This usually isn't a problem, but if you run this code on another system, or in a different virtual environment, it may use a different parser and behave differently.\n",
      "\n",
      "The code that caused this warning is on line 184 of the file /Users/stact/anaconda/lib/python3.5/runpy.py. To get rid of this warning, change code that looks like this:\n",
      "\n",
      " BeautifulSoup([your markup])\n",
      "\n",
      "to this:\n",
      "\n",
      " BeautifulSoup([your markup], \"lxml\")\n",
      "\n",
      "  markup_type=markup_type))\n"
     ]
    }
   ],
   "source": [
    "soup=BeautifulSoup(text)"
   ]
  },
  {
   "cell_type": "code",
   "execution_count": 20,
   "metadata": {
    "collapsed": true
   },
   "outputs": [],
   "source": [
    "pretty = soup.prettify()"
   ]
  },
  {
   "cell_type": "code",
   "execution_count": 30,
   "metadata": {
    "collapsed": false
   },
   "outputs": [
    {
     "data": {
      "text/plain": [
       "[]"
      ]
     },
     "execution_count": 30,
     "metadata": {},
     "output_type": "execute_result"
    }
   ],
   "source": [
    "soup.find_all('h2')"
   ]
  },
  {
   "cell_type": "code",
   "execution_count": 28,
   "metadata": {
    "collapsed": true
   },
   "outputs": [
    {
     "data": {
      "text/plain": [
       "'<!DOCTYPE html>\\n<html lang=\"en\">\\n <head>\\n  <meta content=\"width=device-width,initial-scale=1,minimum-scale=1,maximum-scale=1,user-scalable=no\" name=\"viewport\"/>\\n  <title>\\n   BentleyLink\\n  </title>\\n  <meta content=\"IE=edge,chrome=1\" http-equiv=\"X-UA-Compatible\"/>\\n  <meta charset=\"utf-8\"/>\\n  <link href=\"/favicon.ico\" rel=\"shortcut icon\"/>\\n  <link href=\"/si_ei/images/careers-icon.png\" rel=\"apple-touch-icon\"/>\\n  <meta content=\"app-id=962184987\" name=\"apple-itunes-app\"/>\\n  <link href=\"/si_ei/images/careers-icon.png\" rel=\"android-touch-icon\"/>\\n  <meta content=\"app-id=com.symplicity.careers\" name=\"google-play-app\"/>\\n  <script type=\"text/javascript\">\\n   var RESPONSIVE_THEME = true, TAB_SESSION_LINK = \"\";\\n  </script>\\n  <link href=\"/yui/build/container/assets/skins/sam/container.css?t=1309361679&amp;css=container\" media=\"all\" rel=\"stylesheet\" type=\"text/css\"/>\\n  <link href=\"/css/ajaxfilter.css?t=1480967837&amp;css=ajaxfilter\" media=\"all\" rel=\"stylesheet\" type=\"text/css\"/>\\n  <link href=\"/components/font-awesome/css/font-awesome.min.css?t=1480953654&amp;css=font-awesome.min\" media=\"all\" rel=\"stylesheet\" type=\"text/css\"/>\\n  <link href=\"/css/meter.css?t=1480967838&amp;css=meter\" media=\"all\" rel=\"stylesheet\" type=\"text/css\"/>\\n  <link href=\"/css/job_match.css?t=1480967838&amp;css=job_match\" media=\"all\" rel=\"stylesheet\" type=\"text/css\"/>\\n  <link href=\"/js/bootstrap/css/bootstrap-popover.css?t=1427475221&amp;css=bootstrap-popover\" media=\"all\" rel=\"stylesheet\" type=\"text/css\"/>\\n  <link href=\"/css/sponsors.css?t=1480967838&amp;css=sponsors\" media=\"all\" rel=\"stylesheet\" type=\"text/css\"/>\\n  <link href=\"/js/smart-app-banner/smart-app-banner.css?t=1480967843&amp;css=smart-app-banner\" media=\"all\" rel=\"stylesheet\" type=\"text/css\"/>\\n  <link href=\"/css/cache/e/ec356e98e0f427a87eb68b10f0f0655f.css?t=1483547063&amp;css=colors\" media=\"all\" rel=\"stylesheet\" type=\"text/css\"/>\\n  <link href=\"/css/cache/d/d1160c399aa7bf5c4278a367ecaefb40.css?t=1483547067&amp;css=student\" media=\"all\" rel=\"stylesheet\" type=\"text/css\"/>\\n  <link href=\"/students/psx/components/angular-material/angular-material.css?t=1480953650&amp;css=angular-material\" media=\"all\" rel=\"stylesheet\" type=\"text/css\"/>\\n  <link href=\"//fonts.googleapis.com/icon?family=Material+Icons\" media=\"all\" rel=\"stylesheet\" type=\"text/css\"/>\\n  <link href=\"/students/psx/components/mdi/css/materialdesignicons.min.css?t=1480953651&amp;css=materialdesignicons.min\" media=\"all\" rel=\"stylesheet\" type=\"text/css\"/>\\n  <script src=\"/yui/build/yahoo-dom-event/yahoo-dom-event.js?t=1336141012\" type=\"text/javascript\">\\n  </script>\\n  <script src=\"/yui/build/connection/connection-min.js?t=1309361653\" type=\"text/javascript\">\\n  </script>\\n  <script src=\"/yui/build/container/container-min.js?t=1309361681\" type=\"text/javascript\">\\n  </script>\\n  <script src=\"/students/psx/components/jquery/dist/jquery.min.js?t=1480953658\" type=\"text/javascript\">\\n  </script>\\n  <script src=\"/students/psx/components/angular/angular.js?t=1480953650\" type=\"text/javascript\">\\n  </script>\\n  <script src=\"/js/utils.js?t=1480967843\" type=\"text/javascript\">\\n  </script>\\n  <script src=\"/js/jquery/current/jquery.min.js?t=1427475281\" type=\"text/javascript\">\\n  </script>\\n  <script src=\"/js/jquery/plugins/jquery.tipsy.js?t=1427475235\" type=\"text/javascript\">\\n  </script>\\n  <script src=\"/js/jquery/plugins/jquery.masonry.min.js?t=1427475238\" type=\"text/javascript\">\\n  </script>\\n  <script src=\"/js/frontend.js?t=1480967841\" type=\"text/javascript\">\\n  </script>\\n  <script src=\"/js/timeout.js?t=1480967843\" type=\"text/javascript\">\\n  </script>\\n  <script src=\"/si_ei/si_ei.js?t=1480967848\" type=\"text/javascript\">\\n  </script>\\n  <script src=\"/js/forms.js?t=1480967841\" type=\"text/javascript\">\\n  </script>\\n  <script src=\"/popwin/windows.js?t=1199583957\" type=\"text/javascript\">\\n  </script>\\n  <script src=\"/js/windows.js?t=1480967843\" type=\"text/javascript\">\\n  </script>\\n  <script src=\"/js/list.js?t=1481223059\" type=\"text/javascript\">\\n  </script>\\n  <script src=\"/js/jquery/jquery-ui/current/jquery.ui.effect.min.js?t=1427475277\" type=\"text/javascript\">\\n  </script>\\n  <script src=\"/js/placeholder.js?t=1480967842\" type=\"text/javascript\">\\n  </script>\\n  <script src=\"/js/job_edit.js?t=1480967841\" type=\"text/javascript\">\\n  </script>\\n  <script src=\"/js/rpc/JSRPC-min.js?t=1471275715\" type=\"text/javascript\">\\n  </script>\\n  <script src=\"/js/bootstrap/js/bootstrap.min.js?t=1427475221\" type=\"text/javascript\">\\n  </script>\\n  <script src=\"/js/bootstrap/js/bootstrap-tooltip.js?t=1427475221\" type=\"text/javascript\">\\n  </script>\\n  <script src=\"/js/bootstrap/js/bootstrap-popover.js?t=1427475221\" type=\"text/javascript\">\\n  </script>\\n  <script src=\"https://ecn.dev.virtualearth.net/mapcontrol/mapcontrol.ashx?v=6.2&amp;s=1\" type=\"text/javascript\">\\n  </script>\\n  <script src=\"/si_ei/list_jobs.js?t=1480967847\" type=\"text/javascript\">\\n  </script>\\n  <script src=\"/js/jquery/plugins/cycle2/jquery.cycle2.min.js?t=1427475264\" type=\"text/javascript\">\\n  </script>\\n  <script src=\"/js/smart-app-banner/smart-app-banner.js?t=1480967843\" type=\"text/javascript\">\\n  </script>\\n  <script src=\"/components/valkyrie/js/jquery.scrolltabs.js?t=1481753763\" type=\"text/javascript\">\\n  </script>\\n  <script src=\"/components/valkyrie/js/utils.js?t=1481753763\" type=\"text/javascript\">\\n  </script>\\n  <script src=\"/components/valkyrie/js/valkyrie-nav.js?t=1481753763\" type=\"text/javascript\">\\n  </script>\\n  <script src=\"/students/psx/components/angular-sanitize/angular-sanitize.min.js?t=1480953651\" type=\"text/javascript\">\\n  </script>\\n  <script src=\"/students/psx/components/angular-animate/angular-animate.js?t=1480953649\" type=\"text/javascript\">\\n  </script>\\n  <script src=\"/students/psx/components/angular-aria/angular-aria.js?t=1480953650\" type=\"text/javascript\">\\n  </script>\\n  <script src=\"/students/psx/components/angular-material/angular-material.js?t=1480953650\" type=\"text/javascript\">\\n  </script>\\n  <script src=\"/students/psx/components/angular-resource/angular-resource.min.js?t=1480953650\" type=\"text/javascript\">\\n  </script>\\n  <script src=\"/students/psx/components/angular-ui-router/release/angular-ui-router.js?t=1480953651\" type=\"text/javascript\">\\n  </script>\\n  <script src=\"/students/psx/components/ngstorage/ngStorage.js?t=1480953655\" type=\"text/javascript\">\\n  </script>\\n  <script src=\"/students/psx/components/song/auth/dist/auth.js?t=1480953649\" type=\"text/javascript\">\\n  </script>\\n  <script src=\"/students/psx/components/song/widgets/dist/widgets.js?t=1480953649\" type=\"text/javascript\">\\n  </script>\\n  <script src=\"/students/psx/components/song/widgets/dist/widgets-tpls.js?t=1480953649\" type=\"text/javascript\">\\n  </script>\\n  <script src=\"/students/psx/components/angular-strap/dist/angular-strap.js?t=1480953655\" type=\"text/javascript\">\\n  </script>\\n  <script src=\"/students/psx/components/angular-strap/dist/angular-strap.tpl.min.js?t=1480953655\" type=\"text/javascript\">\\n  </script>\\n  <script src=\"/students/psx/components/ng-focus-on/ng-focus-on.js?t=1480953655\" type=\"text/javascript\">\\n  </script>\\n  <script src=\"/students/psx/components/moment/moment.js?t=1480953651\" type=\"text/javascript\">\\n  </script>\\n  <script src=\"/students/psx/components/angular-moment/angular-moment.js?t=1480953649\" type=\"text/javascript\">\\n  </script>\\n  <script src=\"/students/psx/components/angular-loading-bar/build/loading-bar.min.js?t=1480953650\" type=\"text/javascript\">\\n  </script>\\n  <script src=\"/students/psx/components/angular-growl-v2/build/angular-growl.min.js?t=1480953655\" type=\"text/javascript\">\\n  </script>\\n  <script src=\"/students/psx/components/song/notifications/dist/notifications.js?t=1480953649\" type=\"text/javascript\">\\n  </script>\\n  <script src=\"/students/psx/app/valkyrie.app.js?t=1480967848\" type=\"text/javascript\">\\n  </script>\\n  <script src=\"/students/psx/app/common/base-resource-service.js?t=1480967848\" type=\"text/javascript\">\\n  </script>\\n  <script src=\"/students/psx/app/quicksearch/quicksearch.controller.js?t=1480967848\" type=\"text/javascript\">\\n  </script>\\n  <script src=\"/students/psx/app/quicksearch/quicksearch.factory.js?t=1480967848\" type=\"text/javascript\">\\n  </script>\\n  <script src=\"/students/psx/app/quicksearch/quicksearch.service.js?t=1480967848\" type=\"text/javascript\">\\n  </script>\\n  <script src=\"/students/psx/app/notifications/notifications.factory.js?t=1480967848\" type=\"text/javascript\">\\n  </script>\\n  <script src=\"/students/psx/app/notifications/notifications.service.js?t=1480967848\" type=\"text/javascript\">\\n  </script>\\n  <script src=\"/students/psx/app/notifications/notifications.directive.js?t=1480967848\" type=\"text/javascript\">\\n  </script>\\n  <script src=\"/students/psx/app/profile/profile.controller.js?t=1480967848\" type=\"text/javascript\">\\n  </script>\\n  <script src=\"/students/psx/app/profile/profile.factory.js?t=1480967848\" type=\"text/javascript\">\\n  </script>\\n  <script src=\"/students/psx/app/profile/profile.service.js?t=1480967848\" type=\"text/javascript\">\\n  </script>\\n  <script src=\"/students/psx/app/layout/toolbar/contact-chip.directive.js?t=1480967848\" type=\"text/javascript\">\\n  </script>\\n  <script src=\"/students/psx/app/common/misc.filter.js?t=1484061164\" type=\"text/javascript\">\\n  </script>\\n  <script src=\"/jscache/6/67ba830060931179181b5431e8f4c35f.js\" type=\"text/javascript\">\\n  </script>\\n </head>\\n <body class=\"yui-skin-sam responsive-section page-students\">\\n  <ul class=\"skip-links\">\\n   <li>\\n    <a accesskey=\"c\" class=\"sr-only sr-only-focusable\" href=\"#content\" title=\"Skip to content. Accesskey: C\">\\n     Skip to content\\n    </a>\\n   </li>\\n   <li>\\n    <a accesskey=\"m\" class=\"sr-only sr-only-focusable\" href=\"#menu\" title=\"Skip to main menu. Accesskey: M\">\\n     Skip to main menu\\n    </a>\\n   </li>\\n  </ul>\\n  <div id=\"helpdiv\">\\n  </div>\\n  <div class=\"nav-showicons\" id=\"nav-container\" tabindex=\"0\">\\n   <a name=\"menu\">\\n   </a>\\n   <ul role=\"navigation\">\\n    <li>\\n     <div class=\"xlate-nav-w\">\\n     </div>\\n    </li>\\n    <li class=\"nav-item\">\\n     <a class=\"active\" href=\"/students/index.php?s=home\">\\n      <i aria-hidden=\"true\" class=\"icn-speedometer\">\\n      </i>\\n      <span>\\n       Home\\n      </span>\\n     </a>\\n    </li>\\n    <li class=\"nav-item\">\\n     <a aria-controls=\"menu_91713c51ec4f623d915ef65bf0d5a74f\" aria-expanded=\"false\" href=\"javascript:;\">\\n      <i aria-hidden=\"true\" class=\"icn-satchel\">\\n      </i>\\n      <span>\\n       Jobs\\n      </span>\\n      <i class=\"ti-angle-down\">\\n      </i>\\n     </a>\\n     <div class=\"nav-level\">\\n      <ul id=\"menu_91713c51ec4f623d915ef65bf0d5a74f\">\\n       <li class=\"nav-item\">\\n        <a href=\"/students/index.php?s=jobs&amp;ss=jobs&amp;mode=list\">\\n         <i aria-hidden=\"true\" class=\"icn-next\">\\n         </i>\\n         <span>\\n          Bentley Jobs\\n         </span>\\n        </a>\\n       </li>\\n       <li class=\"nav-item\">\\n        <a href=\"/students/index.php?s=jobs&amp;ss=jobmatches&amp;mode=list\">\\n         <i aria-hidden=\"true\" class=\"icn-next\">\\n         </i>\\n         <span>\\n          Recommended Jobs\\n         </span>\\n        </a>\\n       </li>\\n       <li class=\"nav-item\">\\n        <a href=\"/students/index.php?s=jobs&amp;ss=applied&amp;mode=list&amp;subtab=nocr\">\\n         <i aria-hidden=\"true\" class=\"icn-next\">\\n         </i>\\n         <span>\\n          My Job Applications\\n         </span>\\n        </a>\\n       </li>\\n       <li class=\"nav-item\">\\n        <a href=\"http://nacelinknetwork.jobs\" target=\"_blank\">\\n         <i aria-hidden=\"true\" class=\"icn-next\">\\n         </i>\\n         <span>\\n          NACElink Network\\n         </span>\\n        </a>\\n       </li>\\n      </ul>\\n     </div>\\n    </li>\\n    <li class=\"nav-item\">\\n     <a href=\"/students/psx/profile\">\\n      <i aria-hidden=\"true\" class=\"icn-contacts\">\\n      </i>\\n      <span>\\n       Profile\\n      </span>\\n     </a>\\n    </li>\\n    <li class=\"nav-item\">\\n     <a aria-controls=\"menu_75c6aabb8a6c06480188147765e867ce\" aria-expanded=\"false\" href=\"javascript:;\">\\n      <i aria-hidden=\"true\" class=\"icn-documents\">\\n      </i>\\n      <span>\\n       Documents\\n      </span>\\n      <i class=\"ti-angle-down\">\\n      </i>\\n     </a>\\n     <div class=\"nav-level\">\\n      <ul id=\"menu_75c6aabb8a6c06480188147765e867ce\">\\n       <li class=\"nav-item\">\\n        <a href=\"/students/index.php?s=resume&amp;ss=resumes\">\\n         <i aria-hidden=\"true\" class=\"icn-next\">\\n         </i>\\n         <span>\\n          Approved\\n         </span>\\n        </a>\\n       </li>\\n      </ul>\\n     </div>\\n    </li>\\n    <li class=\"nav-item\">\\n     <a aria-controls=\"menu_66cd4def5054c17bbb1607a026a27188\" aria-expanded=\"false\" href=\"javascript:;\">\\n      <i aria-hidden=\"true\" class=\"icn-signposts\">\\n      </i>\\n      <span>\\n       Events\\n      </span>\\n      <i class=\"ti-angle-down\">\\n      </i>\\n     </a>\\n     <div class=\"nav-level\">\\n      <ul id=\"menu_66cd4def5054c17bbb1607a026a27188\">\\n       <li class=\"nav-item\">\\n        <a href=\"/students/index.php?s=event&amp;ss=cf&amp;_ksl=1&amp;mode=list\">\\n         <i aria-hidden=\"true\" class=\"icn-next\">\\n         </i>\\n         <span>\\n          Career Fairs\\n         </span>\\n        </a>\\n       </li>\\n       <li class=\"nav-item\">\\n        <a href=\"/students/index.php?s=event&amp;ss=is&amp;_ksl=1&amp;mode=list\">\\n         <i aria-hidden=\"true\" class=\"icn-next\">\\n         </i>\\n         <span>\\n          Employer Pre-select Information Sessions Or Off-Campus Events\\n         </span>\\n        </a>\\n       </li>\\n       <li class=\"nav-item\">\\n        <a href=\"/students/index.php?s=event&amp;ss=ws&amp;_ksl=1&amp;mode=list\">\\n         <i aria-hidden=\"true\" class=\"icn-next\">\\n         </i>\\n         <span>\\n          Workshops and Employer Events\\n         </span>\\n        </a>\\n       </li>\\n      </ul>\\n     </div>\\n    </li>\\n    <li class=\"nav-item\">\\n     <a href=\"/students/index.php?s=interviews&amp;mode=list&amp;ss=pending\">\\n      <i aria-hidden=\"true\" class=\"icn-chats\">\\n      </i>\\n      <span>\\n       Interviews\\n      </span>\\n     </a>\\n    </li>\\n    <li class=\"nav-item\">\\n     <a aria-controls=\"menu_7294c592d021b8a616fc05855f5a4c9c\" aria-expanded=\"false\" href=\"javascript:;\">\\n      <i aria-hidden=\"true\" class=\"icn-rocket\">\\n      </i>\\n      <span>\\n       Employers\\n      </span>\\n      <i class=\"ti-angle-down\">\\n      </i>\\n     </a>\\n     <div class=\"nav-level\">\\n      <ul id=\"menu_7294c592d021b8a616fc05855f5a4c9c\">\\n       <li class=\"nav-item\">\\n        <a href=\"/students/index.php?s=employers&amp;mode=list&amp;ss=employers&amp;_ksl=1\">\\n         <i aria-hidden=\"true\" class=\"icn-next\">\\n         </i>\\n         <span>\\n          Employer Directory\\n         </span>\\n        </a>\\n       </li>\\n       <li class=\"nav-item\">\\n        <a href=\"/students/index.php?s=employers&amp;mode=list&amp;ss=favorites&amp;_ksl=1\">\\n         <i aria-hidden=\"true\" class=\"icn-next\">\\n         </i>\\n         <span>\\n          Favorite Employers\\n         </span>\\n        </a>\\n       </li>\\n       <li class=\"nav-item\">\\n        <a href=\"/students/index.php?s=employers&amp;mode=list&amp;ss=mini_contacts&amp;_ksl=1\">\\n         <i aria-hidden=\"true\" class=\"icn-next\">\\n         </i>\\n         <span>\\n          Contact Directory\\n         </span>\\n        </a>\\n       </li>\\n       <li class=\"nav-item\">\\n        <a href=\"/students/index.php?s=employers&amp;mode=list&amp;ss=fav_minicontacts&amp;_ksl=1\">\\n         <i aria-hidden=\"true\" class=\"icn-next\">\\n         </i>\\n         <span>\\n          Favorite Contacts\\n         </span>\\n        </a>\\n       </li>\\n      </ul>\\n     </div>\\n    </li>\\n    <li class=\"nav-item\">\\n     <a href=\"/students/index.php?s=surveys&amp;mode=list\">\\n      <i aria-hidden=\"true\" class=\"icn-top_charts\">\\n      </i>\\n      <span>\\n       Surveys\\n      </span>\\n     </a>\\n    </li>\\n    <li class=\"nav-item\">\\n     <a aria-controls=\"menu_8612dc2e7706fc3d33f159b89a4d91b9\" aria-expanded=\"false\" href=\"javascript:;\">\\n      <i aria-hidden=\"true\" class=\"icn-light\">\\n      </i>\\n      <span>\\n       Resources\\n      </span>\\n      <i class=\"ti-angle-down\">\\n      </i>\\n     </a>\\n     <div class=\"nav-level\">\\n      <ul id=\"menu_8612dc2e7706fc3d33f159b89a4d91b9\">\\n       <li class=\"nav-item\">\\n        <a href=\"/students/index.php?s=resource&amp;ss=onet&amp;mode=landing\">\\n         <i aria-hidden=\"true\" class=\"icn-next\">\\n         </i>\\n         <span>\\n          Career Explorer\\n         </span>\\n        </a>\\n       </li>\\n       <li class=\"nav-item\">\\n        <a href=\"/students/index.php?s=resource&amp;ss=doclib&amp;mode=list\">\\n         <i aria-hidden=\"true\" class=\"icn-next\">\\n         </i>\\n         <span>\\n          Virtual Career Center\\n         </span>\\n        </a>\\n       </li>\\n       <li class=\"nav-item\">\\n        <a href=\"/students/index.php?s=resource&amp;ss=career_advice&amp;mode=landing\">\\n         <i aria-hidden=\"true\" class=\"icn-next\">\\n         </i>\\n         <span>\\n          Career Advice\\n         </span>\\n        </a>\\n       </li>\\n      </ul>\\n     </div>\\n    </li>\\n    <li class=\"nav-item\">\\n     <a aria-controls=\"menu_5c99b8d1fe5b22b4560dfea117234b4c\" aria-expanded=\"false\" href=\"javascript:;\">\\n      <i aria-hidden=\"true\" class=\"icn-next\">\\n      </i>\\n      <span>\\n       Calendar\\n      </span>\\n      <i class=\"ti-angle-down\">\\n      </i>\\n     </a>\\n     <div class=\"nav-level\">\\n      <ul id=\"menu_5c99b8d1fe5b22b4560dfea117234b4c\">\\n       <li class=\"nav-item\">\\n        <a href=\"/students/index.php/students/?s=calendar&amp;ss=ical_today&amp;mode=list\">\\n         <i aria-hidden=\"true\" class=\"icn-next\">\\n         </i>\\n         <span>\\n          Agenda\\n         </span>\\n        </a>\\n       </li>\\n      </ul>\\n     </div>\\n    </li>\\n    <li class=\"nav-item\">\\n     <a aria-controls=\"menu_f922c59d2f404904eae328780d87868a\" aria-expanded=\"false\" href=\"javascript:;\">\\n      <i aria-hidden=\"true\" class=\"icn-mortar_board\">\\n      </i>\\n      <span>\\n       My Account\\n      </span>\\n      <i class=\"ti-angle-down\">\\n      </i>\\n     </a>\\n     <div class=\"nav-level\">\\n      <ul id=\"menu_f922c59d2f404904eae328780d87868a\">\\n       <li class=\"nav-item\">\\n        <a href=\"/students/index.php?s=profile&amp;ss=profile\">\\n         <i aria-hidden=\"true\" class=\"icn-next\">\\n         </i>\\n         <span>\\n          Personal\\n         </span>\\n        </a>\\n       </li>\\n       <li class=\"nav-item\">\\n        <a href=\"/students/index.php?s=profile&amp;ss=sprofile\">\\n         <i aria-hidden=\"true\" class=\"icn-next\">\\n         </i>\\n         <span>\\n          Academic\\n         </span>\\n        </a>\\n       </li>\\n       <li class=\"nav-item\">\\n        <a href=\"/students/index.php?s=profile&amp;ss=pref\">\\n         <i aria-hidden=\"true\" class=\"icn-next\">\\n         </i>\\n         <span>\\n          Privacy\\n         </span>\\n        </a>\\n       </li>\\n       <li class=\"nav-item\">\\n        <a href=\"/students/index.php?s=profile&amp;ss=invoices\">\\n         <i aria-hidden=\"true\" class=\"icn-next\">\\n         </i>\\n         <span>\\n          Invoice\\n         </span>\\n        </a>\\n       </li>\\n       <li class=\"nav-item\">\\n        <a href=\"/students/index.php?s=profile&amp;ss=explearning&amp;mode=list&amp;current_section=explearning\">\\n         <i aria-hidden=\"true\" class=\"icn-next\">\\n         </i>\\n         <span>\\n          CDI 102\\n         </span>\\n        </a>\\n       </li>\\n      </ul>\\n     </div>\\n    </li>\\n   </ul>\\n  </div>\\n  <div class=\"nav-mask\">\\n  </div>\\n  <div id=\"frame\">\\n   <div class=\"page-top\">\\n    <div class=\"nav-toggle\" id=\"page-menu\">\\n     <i class=\"icn-menu\">\\n     </i>\\n    </div>\\n    <div id=\"page-brand\">\\n     <a class=\"nav-brand\" href=\"www.bentley.edu/bentleylink-career\" target=\"_blank\">\\n      <span class=\"sr-only\">\\n       Visit Site\\n      </span>\\n      <div style=\"background-image: url(https://career-bentley-csm.symplicity.com/files/117/1173eec19731f97380067b7fd04b814a_166_166.jpg)\">\\n      </div>\\n     </a>\\n    </div>\\n    <div id=\"page-flex-fill\">\\n    </div>\\n    <div id=\"quicksearch-ng-app\">\\n     <div flex=\"\" id=\"page-search\" ng-include=\"\\'/students/psx/app/quicksearch/quicksearch.html\\'\">\\n     </div>\\n    </div>\\n    <script>\\n     angular.bootstrap(document.getElementById(\"quicksearch-ng-app\"), [\\'studentCSMApp\\', \\'ngStorage\\']);\\n    </script>\\n    <div id=\"page-user\">\\n     <contact-chip>\\n     </contact-chip>\\n    </div>\\n   </div>\\n   <div class=\"page-utils\">\\n    <div class=\"row\">\\n     <div class=\"col col-8 sm-col-12 back-links\">\\n     </div>\\n     <div class=\"col col-4 sm-col-12 text-right pull-right\">\\n      <span id=\"xlate-container\">\\n      </span>\\n     </div>\\n    </div>\\n   </div>\\n   <div class=\"student-dashboard-wrapper\">\\n    <a id=\"content\" name=\"content\">\\n    </a>\\n    <div class=\"row\">\\n     <div class=\"col col-12\">\\n     </div>\\n    </div>\\n    <div class=\"row\">\\n     <div class=\"col col-9 md-col-12\" id=\"home-left\">\\n      <div class=\"card profile-card\">\\n       <div class=\"content\">\\n        <div aria-label=\"Update your profile\" class=\"profile-top\" data-linkto=\"/students/psx/profile\" role=\"button\" tabindex=\"0\">\\n         <div class=\"profile-background\">\\n         </div>\\n         <div class=\"profile-wrapper\">\\n          <div class=\"profile-mask\">\\n          </div>\\n          <div class=\"profile-avatar-wrapper\">\\n           <img alt=\"Xiang Li\" class=\"profile-image\" src=\"https://career-bentley-csm.symplicity.com/files/391/391d9f233795cfc5bebf6cd95f83c312_90_90.jpg\"/>\\n          </div>\\n          <div class=\"profile-info\">\\n           <h2 class=\"student-name\">\\n            Xiang Li\\n           </h2>\\n           <div class=\"student-grad\">\\n            Graduate - FT, Graduating May 2017\\n           </div>\\n           <div class=\"student-major\">\\n            Business Analytics\\n           </div>\\n          </div>\\n          <div class=\"profile-completion\" id=\"profile_completion_container\">\\n           Profile\\n           <span id=\"profile_completion_value\">\\n           </span>\\n           Complete\\n          </div>\\n         </div>\\n        </div>\\n        <div class=\"row\">\\n         <div class=\"col col-8\">\\n          <ul class=\"stats\">\\n           <li>\\n            <a class=\"clearfix\" href=\"/students/index.php?s=jobs&amp;ss=applied&amp;mode=list&amp;subtab=nocr\">\\n             <span class=\"stat_num\">\\n              15\\n             </span>\\n             <span class=\"stat_content\">\\n              Applications Submitted\\n             </span>\\n            </a>\\n           </li>\\n           <li class=\"last\">\\n            <a class=\"clearfix\" href=\"/students/index.php?s=employers&amp;ss=favorites\">\\n             <span class=\"stat_num\">\\n              3\\n             </span>\\n             <span class=\"stat_content\">\\n              Employers Followed\\n             </span>\\n            </a>\\n           </li>\\n          </ul>\\n         </div>\\n         <div class=\"col col-4\">\\n          <div class=\"student-email\">\\n           <span class=\"icn icn-email_plane\">\\n           </span>\\n           <a href=\"mailto:li_xian@bentley.edu\">\\n            li_xian@bentley.edu\\n           </a>\\n          </div>\\n         </div>\\n        </div>\\n       </div>\\n      </div>\\n      <div class=\"card feed-card\">\\n       <div class=\"content\">\\n        <a class=\"rss-link\" href=\"http://career-bentley-csm.symplicity.com/students/rss_feeds.php?__key=nQa_NLCJBEN7D41S15i4Jj_rHSv9wmqlWWOhPz31giQ\" target=\"\" title=\"Subscribe to our RSS Feed\">\\n         <span class=\"sr-only\">\\n          RSS Feed\\n         </span>\\n        </a>\\n        <h2>\\n         News Feed\\n        </h2>\\n        <div class=\"list-full-width\" id=\"feed-main\">\\n         <ul class=\"feed\" id=\"\">\\n          <li class=\"feed-item list-item clearfix\">\\n           <div class=\"feed-item-icon list-item-image\">\\n            <i class=\"icn-satchel\">\\n            </i>\\n           </div>\\n           <div class=\"feed-item-content list-item-content\">\\n            <div class=\"feed-item-blurb\">\\n             Job Finder has matches for you\\n            </div>\\n            <div class=\"feed-item-ttl\">\\n             <a href=\"?s=jobs&amp;ss=jobmatches&amp;mode=list\">\\n              23 Recommended Jobs\\n             </a>\\n            </div>\\n            <div class=\"feed-item-body\">\\n            </div>\\n           </div>\\n          </li>\\n          <li class=\"feed-item list-item clearfix\">\\n           <div class=\"feed-item-icon list-item-image\">\\n            <div class=\"avatar avatar-square\">\\n             <img alt=\"Logo\" role=\"presentation\" src=\"/utils/view.php?id=ca3d034f3e32ef1034c009f427df7be0\"/>\\n            </div>\\n           </div>\\n           <div class=\"feed-item-content list-item-content\">\\n            <div class=\"feed-item-blurb\">\\n             Vistaprint, a Cimpress Company posted a new job\\n            </div>\\n            <div class=\"feed-item-ttl\">\\n             <a href=\"?s=jobs&amp;ss=jobs&amp;mode=form&amp;id=fb5a94c4d06612722bf8321206966cfd\">\\n              Specialist, Email Marketing\\n             </a>\\n            </div>\\n            <div class=\"feed-item-body\">\\n            </div>\\n           </div>\\n          </li>\\n          <li class=\"feed-item list-item clearfix\">\\n           <div class=\"feed-item-icon list-item-image\">\\n            <div class=\"avatar avatar-square\">\\n             <img alt=\"Logo\" role=\"presentation\" src=\"/utils/view.php?id=ca3d034f3e32ef1034c009f427df7be0\"/>\\n            </div>\\n           </div>\\n           <div class=\"feed-item-content list-item-content\">\\n            <div class=\"feed-item-blurb\">\\n             Vistaprint, a Cimpress Company will attend a career fair\\n            </div>\\n            <div class=\"feed-item-ttl\">\\n             <a href=\"?s=event&amp;ss=cf&amp;mode=form&amp;id=66dd07f80deab08fcf44d646b1082921\">\\n              Bentley University Spring 2017 Career Fair - 2/15/2017\\n             </a>\\n            </div>\\n            <div class=\"feed-item-body\">\\n            </div>\\n           </div>\\n          </li>\\n          <li class=\"feed-item list-item clearfix\">\\n           <div class=\"feed-item-icon list-item-image\">\\n            <div class=\"avatar avatar-square\">\\n             <img alt=\"Logo\" role=\"presentation\" src=\"/utils/view.php?id=ca3d034f3e32ef1034c009f427df7be0\"/>\\n            </div>\\n           </div>\\n           <div class=\"feed-item-content list-item-content\">\\n            <div class=\"feed-item-blurb\">\\n             Vistaprint, a Cimpress Company posted a new job\\n            </div>\\n            <div class=\"feed-item-ttl\">\\n             <a href=\"?s=jobs&amp;ss=jobs&amp;mode=form&amp;id=8dd0fd33b6d0f46861bd7a65f61fb5c8\">\\n              Marketing Specialist\\n             </a>\\n            </div>\\n            <div class=\"feed-item-body\">\\n            </div>\\n           </div>\\n          </li>\\n          <li class=\"feed-item list-item clearfix\">\\n           <div class=\"feed-item-icon list-item-image\">\\n            <div class=\"avatar avatar-square\">\\n             <img alt=\"Logo\" role=\"presentation\" src=\"/utils/view.php?id=ca3d034f3e32ef1034c009f427df7be0\"/>\\n            </div>\\n           </div>\\n           <div class=\"feed-item-content list-item-content\">\\n            <div class=\"feed-item-blurb\">\\n             Vistaprint, a Cimpress Company posted a new job\\n            </div>\\n            <div class=\"feed-item-ttl\">\\n             <a href=\"?s=jobs&amp;ss=jobs&amp;mode=form&amp;id=454b792d15bfd81eb9d347e044d1f605\">\\n              Business Development Specialist\\n             </a>\\n            </div>\\n            <div class=\"feed-item-body\">\\n            </div>\\n           </div>\\n          </li>\\n         </ul>\\n        </div>\\n       </div>\\n      </div>\\n     </div>\\n     <div class=\"col col-3 md-col-12\" id=\"home-right\">\\n      <div class=\"card sponsors-card\">\\n       <div class=\"content\">\\n        <h2 class=\"home-inset-title\">\\n         Sponsors\\n        </h2>\\n        <div class=\"cycle-slideshow\" data-cycle-caption=\"#sponsors-caption\" data-cycle-caption-template=\"{{cycleTitle}}\" data-cycle-log=\"false\" data-cycle-next=\".sponsors_card .lst-next-btn\" data-cycle-pause-on-hover=\"true\" data-cycle-prev=\".sponsors_card .lst-prev-btn\" data-cycle-slides=\"&gt; a\" data-cycle-timeout=\"4000\" id=\"sponsor_rotation\">\\n         <a data-cycle-title=\"\" href=\"https://www.travelers.com/\" target=\"_blank\">\\n          <img alt=\"Travelers\" src=\"/utils/view.php?id=6056b7398a908290fbe21936ba89c862\" title=\"Travelers\"/>\\n         </a>\\n         <a data-cycle-title=\"\" href=\"http://www.windsormarketing.com\" target=\"_blank\">\\n          <img alt=\"Windsor Marketing Group\" src=\"/utils/view.php?id=238d955f899355b8219975b42c6be0f3\" title=\"Windsor Marketing Group\"/>\\n         </a>\\n         <a data-cycle-title=\"\" href=\"http://www.go.enterprise.com\" target=\"_blank\">\\n          <img alt=\"Enterprise Holdings\" src=\"/utils/view.php?id=9c516b662e3da68d64648d1a1c4bbd58\" title=\"Enterprise Holdings\"/>\\n         </a>\\n         <a data-cycle-title=\"\" href=\"http://www.emc.com\" target=\"_blank\">\\n          <img alt=\"EMC\" src=\"/utils/view.php?id=c83b5a96ea9a6261f74757cde1d443e6\" title=\"EMC\"/>\\n         </a>\\n         <a data-cycle-title=\"\" href=\"http://www.tjx.com/cmtp\" target=\"_blank\">\\n          <img alt=\"The TJX Companies, Inc.\" src=\"/utils/view.php?id=f293e65c6cb221e607d1b759a25a6ccf\" title=\"The TJX Companies, Inc.\"/>\\n         </a>\\n         <a data-cycle-title=\"\" href=\"http://jobs.fidelity.com\" target=\"_blank\">\\n          <img alt=\"Fidelity Investments\" src=\"/utils/view.php?id=7cf2fd22eb19414cbd559058c1ff1a83\" title=\"Fidelity Investments\"/>\\n         </a>\\n         <a data-cycle-title=\"\" href=\"http://www.bostonscientific.com\" target=\"_blank\">\\n          <img alt=\"Boston Scientfic\" src=\"/utils/view.php?id=6eff47c38141f470fa93a03b58699b50\" title=\"Boston Scientfic\"/>\\n         </a>\\n         <a data-cycle-title=\"\" href=\"http://www.epsilon.com/\" target=\"_blank\">\\n          <img alt=\"Epsilon\" src=\"/utils/view.php?id=1116c97f66576585a203cf23a669d4b2\" title=\"Epsilon\"/>\\n         </a>\\n         <a data-cycle-title=\"\" href=\"http://www.vistaprint.com\" target=\"_blank\">\\n          <img alt=\"Vistaprint\" src=\"/utils/view.php?id=a022eaeaa8fb460200923c274a78239d\" title=\"Vistaprint\"/>\\n         </a>\\n         <a data-cycle-title=\"\" href=\"https://www.mysynchrony.com/\" target=\"_blank\">\\n          <img alt=\"Synchrony Financial\" src=\"/utils/view.php?id=decaf4f4aaac3c9f3c3a1c9720f485e2\" title=\"Synchrony Financial\"/>\\n         </a>\\n         <a data-cycle-title=\"\" href=\"http://careers.utc.com/utc-leadership-programs/financial-leadership-program/\" target=\"_blank\">\\n          <img alt=\"United Technologies Corporation (UTC)\" src=\"/utils/view.php?id=86bb1c520d572f4aadfb9ea65e1434db\" title=\"United Technologies Corporation (UTC)\"/>\\n         </a>\\n         <a data-cycle-title=\"\" href=\"http://www.libertymutual.com\" target=\"_blank\">\\n          <img alt=\"Liberty Mutual\" src=\"/utils/view.php?id=1c0f3b95cfbaf0b49a68ecbf8b3230dc\" title=\"Liberty Mutual\"/>\\n         </a>\\n         <p class=\"cycle-caption caption\" id=\"sponsors-caption\">\\n         </p>\\n        </div>\\n       </div>\\n       <div class=\"actions\">\\n        <a class=\"lst-prev-btn\" title=\"previous\">\\n         previous\\n        </a>\\n        <a class=\"lst-next-btn\" title=\"Next\">\\n         Next\\n        </a>\\n       </div>\\n      </div>\\n      <div class=\"card\">\\n       <div class=\"content\">\\n        <h2>\\n         Shortcuts\\n        </h2>\\n        <ul>\\n         <li>\\n          <a href=\"http://bentley.interviewstream.com/\" target=\"_blank\">\\n           InterviewStream - your online mock interview tool\\n          </a>\\n         </li>\\n         <li>\\n          <a href=\"http://www.usajobs.gov\" target=\"_blank\">\\n           USAJOBS - your one-stop source for Federal jobs\\n          </a>\\n         </li>\\n         <li>\\n          <a href=\"https://internhub.internships.com/\" target=\"_blank\">\\n           Intern Hub - internship postings for members of the Greater Boston Chamber of Commerce\\n          </a>\\n         </li>\\n         <li>\\n          <a href=\"http://careeredge.bentley.edu\" target=\"_blank\">\\n           Bentley CareerEdge\\n          </a>\\n         </li>\\n         <li>\\n          <a href=\"https://access.vault.com/career-insider-login.aspx?aid=257187\" target=\"_blank\">\\n           Vault - Career Research Tool to access company information and industry guides\\n          </a>\\n         </li>\\n        </ul>\\n       </div>\\n      </div>\\n      <div class=\"card\">\\n       <div class=\"content\">\\n        <h2>\\n         Career Tools and Advising\\n        </h2>\\n        <ul>\\n         <li>\\n          <a href=\"?_ksl=1&amp;ss=2&amp;s=resume&amp;mode=list&amp;id=\">\\n           Creating a Resume\\n          </a>\\n         </li>\\n         <li>\\n          <a href=\"?_ksl=1&amp;ss=1&amp;s=calendar&amp;mode=list&amp;id=\">\\n           Schedule Undergraduate Career Services Appointment\\n          </a>\\n         </li>\\n        </ul>\\n       </div>\\n      </div>\\n      <div class=\"card\">\\n       <div class=\"content\">\\n        <h2>\\n         Find a Job\\n        </h2>\\n        <ul>\\n         <li>\\n          <a href=\"?_ksl=1&amp;s=jobs&amp;ss=jobs&amp;mode=list&amp;_filter=nonocr_qualify\" onclick=\"startFullSpinner(\\'jobsearch\\');\">\\n           <resume collections=\"\" for=\"\" i=\"\" qualify=\"\">\\n           </resume>\\n          </a>\\n         </li>\\n        </ul>\\n       </div>\\n      </div>\\n      <div class=\"card\">\\n       <div class=\"content\">\\n        <h2>\\n         Land an Interview\\n        </h2>\\n        <ul>\\n         <li>\\n          <a href=\"?_ksl=1&amp;s=interviews&amp;ss=scheduled\">\\n           Scheduled On-Campus Interviews\\n          </a>\\n         </li>\\n         <li>\\n          <a href=\"?_ksl=1&amp;s=interviews&amp;ss=pending\">\\n           Pending On-Campus Interviews\\n          </a>\\n         </li>\\n         <li>\\n          <a href=\"?_ksl=1&amp;s=jobs&amp;ss=jobs&amp;mode=list&amp;_filter=qualify\" onclick=\"startFullSpinner(\\'jobsearch\\');\">\\n           On-Campus Interviews I Qualify For\\n          </a>\\n         </li>\\n        </ul>\\n       </div>\\n      </div>\\n      <div class=\"card\">\\n       <div class=\"content\">\\n        <h2>\\n         Attend Events\\n        </h2>\\n        <ul>\\n         <li>\\n          <a href=\"?_ksl=1&amp;s=event&amp;ss=cf&amp;mode=form&amp;id=479958b7962bc056a9dbc2d5a4ddee96\">\\n           PRE-REGISTRATION EVENTS - For Bentley University Fall 2016 Career Fair (attend one date) Participants\\n          </a>\\n         </li>\\n         <li>\\n          <a href=\"?_ksl=1&amp;s=event&amp;ss=cf&amp;mode=form&amp;id=66dd07f80deab08fcf44d646b1082921\">\\n           Bentley University Spring 2017 Career Fair - 2/15/2017 Participants\\n          </a>\\n         </li>\\n         <li>\\n          <a href=\"?_ksl=1&amp;s=event&amp;ss=cf&amp;mode=form&amp;id=6db9e22192559b31b872c6fdb5ae6616\">\\n           Networking Night for Creative Engagement, Management, and Professional Sales - 10/25/16 Participants\\n          </a>\\n         </li>\\n        </ul>\\n       </div>\\n      </div>\\n      <div class=\"card\">\\n       <div class=\"content\">\\n        <h2>\\n         more\\n        </h2>\\n        <ul>\\n         <li>\\n          <a href=\"?_ksl=1&amp;s=profile&amp;ss=explearning\">\\n           Exp. Learning\\n          </a>\\n         </li>\\n         <li>\\n          <a href=\"?_ksl=1&amp;s=profile&amp;ss=summary\">\\n           Activity Summary\\n          </a>\\n         </li>\\n         <li>\\n          <a href=\"?_ksl=1&amp;s=resource&amp;ss=onet\">\\n           Career Explorer\\n          </a>\\n         </li>\\n         <li>\\n          <a href=\"?_ksl=1&amp;s=resource&amp;_ql=doclibrary\">\\n           View Virtual Career Center\\n          </a>\\n         </li>\\n        </ul>\\n       </div>\\n      </div>\\n      <div class=\"card jumpto-card\">\\n       <div class=\"content\">\\n        <h2>\\n         Jump To\\n        </h2>\\n        <div class=\"list-full-width\">\\n         <ul>\\n          <li>\\n           <a href=\"http://online.goinglobal.com/default.aspx?accid=20100906jdlksjdsiufoyewriuhewkjrhi37264873264iu3hekjwanhdkjsadkszgfcyutewuyri749836873terkjesanhfdk\" target=\"goingglobal_win\" title=\"Login to Going Global\">\\n            <img alt=\"Login to Going Global\" src=\"/si_ei/2010/jumpto-goingglobal.gif\" style=\"\"/>\\n           </a>\\n          </li>\\n          <li>\\n           <a href=\"http://online.usacareerguides.com/default.aspx?accid=20100906jdlksjdsiufoyewriuhewkjrhi37264873264iu3hekjwanhdkjsadkszgfcyutewuyri749836873terkjesanhfdk\" target=\"goingglobal_city_win\" title=\"Login to Going Global City Guide\">\\n            <img alt=\"Login to Going Global City Guide\" src=\"/si_ei/2010/jumpto-usacareerguides.gif\" style=\"\"/>\\n           </a>\\n          </li>\\n         </ul>\\n        </div>\\n       </div>\\n      </div>\\n      <div class=\"card gettingstarted-card\">\\n       <div class=\"content\">\\n        <h2>\\n         Getting Started\\n        </h2>\\n        <ul>\\n         <li>\\n          <span class=\"ti-check\">\\n          </span>\\n          <a class=\"ql-complete\" href=\"\">\\n           Account Created\\n          </a>\\n         </li>\\n         <li>\\n          <span class=\"ti-check\">\\n          </span>\\n          <a class=\"ql-complete\" href=\"?s=profile&amp;=&amp;ss=profile\">\\n           Personal Profile\\n          </a>\\n         </li>\\n         <li>\\n          <span class=\"ti-check\">\\n          </span>\\n          <a class=\"ql-complete\" href=\"?s=profile&amp;ss=sprofile\">\\n           Academic Profile\\n          </a>\\n         </li>\\n         <li>\\n          <span class=\"ti-check\">\\n          </span>\\n          <a class=\"ql-complete\" href=\"?s=profile&amp;=&amp;ss=pref\">\\n           Privacy Settings\\n          </a>\\n         </li>\\n        </ul>\\n       </div>\\n      </div>\\n      <div class=\"card\">\\n       <div class=\"content\">\\n        <div id=\"fp-comment\">\\n         <a href=\"#\">\\n          Your feedback is welcome.\\n         </a>\\n         <div id=\"home-feedback\" style=\"display:none\">\\n          <form action=\"?s=home\" method=\"post\" name=\"feedback_form\">\\n           <div class=\"hd\">\\n            Any Comments or Questions?\\n           </div>\\n           <div class=\"bd\">\\n            <div class=\"form\">\\n             <div class=\"field\">\\n              <div class=\"field-label\">\\n               <label for=\"cq_field\">\\n                Your feedback is welcome.\\n               </label>\\n              </div>\\n              <div class=\"field-widget\">\\n               <textarea id=\"cq_field\" name=\"feedback_msg\"></textarea>\\n              </div>\\n             </div>\\n             <div class=\"buttonbar buttonbar-bottom\">\\n              <input class=\"input-submit btn btn_primary\" name=\"feedback_submit\" type=\"submit\" value=\"submit\"/>\\n             </div>\\n            </div>\\n           </div>\\n          </form>\\n         </div>\\n        </div>\\n       </div>\\n      </div>\\n     </div>\\n    </div>\\n   </div>\\n   <div class=\"page-footer\">\\n    <div class=\"footer-image\">\\n     <a href=\"http://symplicity.com/career_services_manager_csm\" target=\"_blank\">\\n      <img alt=\"Software by Symplicity\" src=\"/si_ei/images/nacelink_csm_footer_branding.png\"/>\\n     </a>\\n    </div>\\n    <div>\\n     <div class=\"footer-blurb\">\\n      NACElink Network is a collaboration between NACE, Symplicity, DirectEmployers and your college/university.\\n     </div>\\n     <div class=\"footer-links\">\\n      <a href=\"http://www.symplicity.com/privacy_policy\" target=\"_blank\">\\n       Privacy Policy\\n      </a>\\n      |\\n      <a href=\"http://www.symplicity.com/terms_of_use\" target=\"_blank\">\\n       Terms of Use\\n      </a>\\n     </div>\\n    </div>\\n   </div>\\n   <div class=\"page-text-footer\">\\n    CAREER SERVICES CONTACT INFORMATION AND HOURS OF OPERATIONS\\r\\n          \\xa0\\r\\n        \\r\\n        \\r\\n          UNDERGRADUATE\\r\\n          GRADUATE\\r\\n          RECRUITING OFFICE\\n    <p>\\n     LaCava 225 | 781.891.2375\\n     <br/>\\n     <br/>\\n     Mon. - Fri.: 8:30 a.m. - 4:30 p.m.\\n     <br/>\\n     <br/>\\n    </p>\\n    <p>\\n     LaCava 220 | 781.891.2164\\n     <br/>\\n     <br/>\\n     Mon. - Fri.: 8:30 a.m. - 4:30 p.m.*\\n     <br/>\\n     <br/>\\n     *By appointment only\\n    </p>\\n    <p>\\n     LaCava 205 | 781.891.3423\\n     <br/>\\n     <br/>\\n     Mon. - Fri.: 8:30 a.m. - 4:30 p.m.\\n    </p>\\n    <a class=\"nace-footer-footers\" href=\"http://www.bentley.edu/directions/\">\\n     175 Forest Street  \\t  Waltham,   \\t  Massachusetts  \\t  02452 USA\\n    </a>\\n    <a class=\"nace-footer-footers\" href=\"http://www.bentley.edu/contact.cfm\">\\n     T: +1.781.891.2000\\n    </a>\\n    <a class=\"nace-footer-footers\" href=\"http://www.bentley.edu/copyright.cfm\">\\n     Copyright\\n    </a>\\n    |\\n    <a class=\"nace-footer-footers\" href=\"http://www.bentley.edu/privacy.cfm\">\\n     Privacy\\n    </a>\\n    |\\n    <a class=\"nace-footer-footers\" href=\"http://www.bentley.edu/policies/index.cfm\">\\n     Policies\\n    </a>\\n    |\\n    <a class=\"nace-footer-footers\" href=\"http://www.bentley.edu/sitemap.cfm\">\\n     Sitemap\\n    </a>\\n   </div>\\n   <div>\\n    <iframe frameborder=\"0\" height=\"1\" name=\"__hiddenframe1\" src=\"about:blank\" width=\"1\">\\n    </iframe>\\n    <iframe frameborder=\"0\" height=\"1\" name=\"__hiddenframe2\" src=\"about:blank\" width=\"1\">\\n    </iframe>\\n    <iframe frameborder=\"0\" height=\"1\" name=\"__hiddenframe3\" src=\"about:blank\" width=\"1\">\\n    </iframe>\\n    <iframe frameborder=\"0\" height=\"1\" name=\"__hiddenframe4\" src=\"about:blank\" width=\"1\">\\n    </iframe>\\n    <iframe frameborder=\"0\" height=\"1\" name=\"__hiddenframe5\" src=\"about:blank\" width=\"1\">\\n    </iframe>\\n   </div>\\n   <div class=\"yui-skin-sam\">\\n    <div id=\"batcheditpanel\">\\n    </div>\\n    <div id=\"popdiv_placeholder\">\\n    </div>\\n    <div id=\"dialog_placeholder\">\\n    </div>\\n    <div id=\"notice_placeholder\">\\n    </div>\\n   </div>\\n  </div>\\n  <script src=\"/js/spinner.js?t=1480967843\" type=\"text/javascript\">\\n  </script>\\n  <script src=\"/components/valkyrie/js/actions-toggle.js?t=1481753763\" type=\"text/javascript\">\\n  </script>\\n  <script src=\"/jscache/0/0dea808893e9ab7cb8eb62cabc0f5a7c.js\" type=\"text/javascript\">\\n  </script>\\n  <script type=\"text/javascript\">\\n   function printPreview(warn) {\\n  var confirmation = true;\\n  if (warn == true) {\\n    confirmation = confirm(\\'Only saved data will be printed. Click OK to continue or Cancel to go back and save first.\\');\\n  }\\n  if (confirmation) {\\n    window.open(\\'/students/index.php?_do_print=1&print_v=1484273772\\',\\'printer_friendly\\',\\'location=0,menubar=1,toolbar=1,resizable=1,scrollbars=1\\');\\n  } else {\\n    return false;\\n  }\\n}\\n\\nvar shouldprint = false;\\n\\nfunction printQuick() {\\n  \\n    frame = frames[\\'__hiddenframe\\'+nextFrame()];\\n    frame.location.href = \\'/students/index.php?_do_print=1&_do_print_quick=1&version=1484273772\\';\\n    shouldprint = true;\\n}\\nfunction printMeOnce(frame) {\\n  if (shouldprint) {\\n    frame.focus();\\n\\tif (typeof(frame.window.print) == \\'function\\') {\\n\\t  frame.window.print();\\n        }\\n        else {\\n          print();\\n        }\\n  }\\n}\\n\\n var _gaq = _gaq || [];\\n\\n_gaq.push([\\'_setAccount\\', \\'UA-12730569-6\\']);\\n_gaq.push([\\'_setDomainName\\', \\'career-bentley-csm.symplicity.com\\']);\\n\\n_gaq.push([\\'_setCustomVar\\', 1, \\'Section\\', \\'home\\', 3]);\\n_gaq.push([\\'_setCustomVar\\', 2, \\'Subsection\\', \\'None\\', 3]);\\n_gaq.push([\\'_setCustomVar\\', 3, \\'Subsystem\\', \\'students\\', 2]);\\n_gaq.push([\\'_setCustomVar\\', 4, \\'User\\', \\'li_xian@bentley.edu\\', 1]);\\n_gaq.push([\\'_setCustomVar\\', 5, \\'Instance\\', \\'career-bentley\\', 3]);\\n\\n_gaq.push([\\'_setCampNameKey\\',\\'SectionTracker\\']);\\n_gaq.push([\\'_setCampMediumKey\\',\\'cpc\\']);\\n_gaq.push([\\'_setCampSourceKey\\',\\'csm\\']);\\n_gaq.push([\\'_setCampTermKey\\',\\'section\\']);\\n_gaq.push([\\'_setCampContentKey\\',\\'home\\']);\\n\\n\\nvar ad_height = jQuery(\\'.adsense_wrapper\\').innerHeight() || 0;\\nvar ad_rendered = false;\\nvar ad_action = false;\\nif (ad_height > 100) {\\n\\tad_rendered = true;\\n\\tad_action = \\'rendered\\'\\n} else if (ad_height > 0) {\\n\\tad_rendered = true;\\n\\tad_action = \\'blocked\\';\\n}\\nif (ad_rendered) {\\n\\t_gaq.push([\\'_trackEvent\\', \\'Ads\\', ad_action, \\'/students/home\\']);\\n}\\n_gaq.push([\\'_trackPageview\\', \\'/students/home\\']);\\n\\n\\n          _gaq.push(\\n                    [\\'b._setAccount\\', \\'UA-38226995-1\\'],\\n                    [\\'b._setDomainName\\', \\'career-bentley-csm.symplicity.com\\'],\\n                    [\\'b._setCustomVar\\', 1, \\'Interface\\', \\'students\\', 2],\\n                    [\\'b._trackPageview\\', \\'/students/home\\']\\n                   );\\n\\n  (function() { var ga = document.createElement(\\'script\\'); ga.type = \\'text/javascript\\'; ga.async = true; ga.src = (\\'https:\\' == document.location.protocol ? \\'https://ssl\\' : \\'http://www\\') + \\'.google-analytics.com/ga.js\\'; var s = document.getElementsByTagName(\\'script\\')[0]; s.parentNode.insertBefore(ga, s);  })();\\n\\n\\n\\n\\t\\t\\t\\t\\t\\tnew SmartBanner({\\n\\t\\t\\t\\t\\t\\t\\t\\tdaysHidden: 15,\\n\\t\\t\\t\\t\\t\\t\\t\\tdaysReminder: 90,\\n\\t\\t\\t\\t\\t\\t\\t\\tappStoreLanguage: \\'us\\',\\n\\t\\t\\t\\t\\t\\t\\t\\ttitle: \\'Careers by Symplicity\\',\\n\\t\\t\\t\\t\\t\\t\\t\\tauthor: \\'Symplicity\\',\\n\\t\\t\\t\\t\\t\\t\\t\\tbutton: \\'OPEN\\'\\n\\t\\t\\t\\t\\t\\t});\\n\\t\\t\\t\\t\\t\\nJSRPC.Checksum = \"06269efd25360c05942a8a8de830c521\";\\nJSRPC.Action = \"\\\\/students\\\\/index.php\";\\nvar hideHint = new JSRPC.Method(\\'hideHint\\', \\'CLMhXK_mAYTvmH7Dogrwow\\', []);\\nHideHint = JSRPC.ExtendStatic(typeof HideHint == \\'undefined\\' ? {} : HideHint, {\\n\\tuser : \"li_xian@bentley.edu\"\\n});\\n  </script>\\n </body>\\n</html>'"
      ]
     },
     "execution_count": 28,
     "metadata": {},
     "output_type": "execute_result"
    }
   ],
   "source": [
    "pretty"
   ]
  },
  {
   "cell_type": "code",
   "execution_count": 33,
   "metadata": {
    "collapsed": true
   },
   "outputs": [
    {
     "data": {
      "text/plain": [
       "b'<!doctype html>\\n<html lang=\"en\">\\n<head>\\n\\t\\t\\n\\t\\t\\t<meta name=\"viewport\" content=\"width=device-width,initial-scale=1,minimum-scale=1,maximum-scale=1,user-scalable=no\">\\n\\t\\t<title>BentleyLink</title>\\n    <meta http-equiv=\"X-UA-Compatible\" content=\"IE=edge,chrome=1\">\\n    <meta charset=\"utf-8\">\\t\\n\\t<link rel=\"shortcut icon\" href=\"/favicon.ico\">\\n\\t\\t\\t\\t        <link rel=\"apple-touch-icon\" href=\"/si_ei/images/careers-icon.png\" />\\n\\t        <meta name=\"apple-itunes-app\" content=\"app-id=962184987\">\\n\\t    \\t    \\t        <link rel=\"android-touch-icon\" href=\"/si_ei/images/careers-icon.png\" />\\n\\t        <meta name=\"google-play-app\" content=\"app-id=com.symplicity.careers\">\\n\\t        \\t<script type=\"text/javascript\"> var RESPONSIVE_THEME = true, TAB_SESSION_LINK = \"\";</script>\\n\\t<link rel=\"stylesheet\" type=\"text/css\" href=\"/yui/build/container/assets/skins/sam/container.css?t=1309361679&css=container\" media=\"all\">\\n<link rel=\"stylesheet\" type=\"text/css\" href=\"/css/ajaxfilter.css?t=1480967837&css=ajaxfilter\" media=\"all\">\\n<link rel=\"stylesheet\" type=\"text/css\" href=\"/components/font-awesome/css/font-awesome.min.css?t=1480953654&css=font-awesome.min\" media=\"all\">\\n<link rel=\"stylesheet\" type=\"text/css\" href=\"/css/meter.css?t=1480967838&css=meter\" media=\"all\">\\n<link rel=\"stylesheet\" type=\"text/css\" href=\"/css/job_match.css?t=1480967838&css=job_match\" media=\"all\">\\n<link rel=\"stylesheet\" type=\"text/css\" href=\"/js/bootstrap/css/bootstrap-popover.css?t=1427475221&css=bootstrap-popover\" media=\"all\">\\n<link rel=\"stylesheet\" type=\"text/css\" href=\"/css/sponsors.css?t=1480967838&css=sponsors\" media=\"all\">\\n<link rel=\"stylesheet\" type=\"text/css\" href=\"/js/smart-app-banner/smart-app-banner.css?t=1480967843&css=smart-app-banner\" media=\"all\">\\n<link rel=\"stylesheet\" type=\"text/css\" href=\"/css/cache/e/ec356e98e0f427a87eb68b10f0f0655f.css?t=1483547063&css=colors\" media=\"all\">\\n<link rel=\"stylesheet\" type=\"text/css\" href=\"/css/cache/d/d1160c399aa7bf5c4278a367ecaefb40.css?t=1483547067&css=student\" media=\"all\">\\n<link rel=\"stylesheet\" type=\"text/css\" href=\"/students/psx/components/angular-material/angular-material.css?t=1480953650&css=angular-material\" media=\"all\">\\n<link rel=\"stylesheet\" type=\"text/css\" href=\"//fonts.googleapis.com/icon?family=Material+Icons\" media=\"all\">\\n<link rel=\"stylesheet\" type=\"text/css\" href=\"/students/psx/components/mdi/css/materialdesignicons.min.css?t=1480953651&css=materialdesignicons.min\" media=\"all\">\\n<script type=\"text/javascript\" src=\"/yui/build/yahoo-dom-event/yahoo-dom-event.js?t=1336141012\"></script>\\n<script type=\"text/javascript\" src=\"/yui/build/connection/connection-min.js?t=1309361653\"></script>\\n<script type=\"text/javascript\" src=\"/yui/build/container/container-min.js?t=1309361681\"></script>\\n<script type=\"text/javascript\" src=\"/students/psx/components/jquery/dist/jquery.min.js?t=1480953658\"></script>\\n<script type=\"text/javascript\" src=\"/students/psx/components/angular/angular.js?t=1480953650\"></script>\\n<script type=\"text/javascript\" src=\"/js/utils.js?t=1480967843\"></script>\\n<script type=\"text/javascript\" src=\"/js/jquery/current/jquery.min.js?t=1427475281\"></script>\\n<script type=\"text/javascript\" src=\"/js/jquery/plugins/jquery.tipsy.js?t=1427475235\"></script>\\n<script type=\"text/javascript\" src=\"/js/jquery/plugins/jquery.masonry.min.js?t=1427475238\"></script>\\n<script type=\"text/javascript\" src=\"/js/frontend.js?t=1480967841\"></script>\\n<script type=\"text/javascript\" src=\"/js/timeout.js?t=1480967843\"></script>\\n<script type=\"text/javascript\" src=\"/si_ei/si_ei.js?t=1480967848\"></script>\\n<script type=\"text/javascript\" src=\"/js/forms.js?t=1480967841\"></script>\\n<script type=\"text/javascript\" src=\"/popwin/windows.js?t=1199583957\"></script>\\n<script type=\"text/javascript\" src=\"/js/windows.js?t=1480967843\"></script>\\n<script type=\"text/javascript\" src=\"/js/list.js?t=1481223059\"></script>\\n<script type=\"text/javascript\" src=\"/js/jquery/jquery-ui/current/jquery.ui.effect.min.js?t=1427475277\"></script>\\n<script type=\"text/javascript\" src=\"/js/placeholder.js?t=1480967842\"></script>\\n<script type=\"text/javascript\" src=\"/js/job_edit.js?t=1480967841\"></script>\\n<script type=\"text/javascript\" src=\"/js/rpc/JSRPC-min.js?t=1471275715\"></script>\\n<script type=\"text/javascript\" src=\"/js/bootstrap/js/bootstrap.min.js?t=1427475221\"></script>\\n<script type=\"text/javascript\" src=\"/js/bootstrap/js/bootstrap-tooltip.js?t=1427475221\"></script>\\n<script type=\"text/javascript\" src=\"/js/bootstrap/js/bootstrap-popover.js?t=1427475221\"></script>\\n<script type=\"text/javascript\" src=\"https://ecn.dev.virtualearth.net/mapcontrol/mapcontrol.ashx?v=6.2&s=1\"></script>\\n<script type=\"text/javascript\" src=\"/si_ei/list_jobs.js?t=1480967847\"></script>\\n<script type=\"text/javascript\" src=\"/js/jquery/plugins/cycle2/jquery.cycle2.min.js?t=1427475264\"></script>\\n<script type=\"text/javascript\" src=\"/js/smart-app-banner/smart-app-banner.js?t=1480967843\"></script>\\n<script type=\"text/javascript\" src=\"/components/valkyrie/js/jquery.scrolltabs.js?t=1481753763\"></script>\\n<script type=\"text/javascript\" src=\"/components/valkyrie/js/utils.js?t=1481753763\"></script>\\n<script type=\"text/javascript\" src=\"/components/valkyrie/js/valkyrie-nav.js?t=1481753763\"></script>\\n<script type=\"text/javascript\" src=\"/students/psx/components/angular-sanitize/angular-sanitize.min.js?t=1480953651\"></script>\\n<script type=\"text/javascript\" src=\"/students/psx/components/angular-animate/angular-animate.js?t=1480953649\"></script>\\n<script type=\"text/javascript\" src=\"/students/psx/components/angular-aria/angular-aria.js?t=1480953650\"></script>\\n<script type=\"text/javascript\" src=\"/students/psx/components/angular-material/angular-material.js?t=1480953650\"></script>\\n<script type=\"text/javascript\" src=\"/students/psx/components/angular-resource/angular-resource.min.js?t=1480953650\"></script>\\n<script type=\"text/javascript\" src=\"/students/psx/components/angular-ui-router/release/angular-ui-router.js?t=1480953651\"></script>\\n<script type=\"text/javascript\" src=\"/students/psx/components/ngstorage/ngStorage.js?t=1480953655\"></script>\\n<script type=\"text/javascript\" src=\"/students/psx/components/song/auth/dist/auth.js?t=1480953649\"></script>\\n<script type=\"text/javascript\" src=\"/students/psx/components/song/widgets/dist/widgets.js?t=1480953649\"></script>\\n<script type=\"text/javascript\" src=\"/students/psx/components/song/widgets/dist/widgets-tpls.js?t=1480953649\"></script>\\n<script type=\"text/javascript\" src=\"/students/psx/components/angular-strap/dist/angular-strap.js?t=1480953655\"></script>\\n<script type=\"text/javascript\" src=\"/students/psx/components/angular-strap/dist/angular-strap.tpl.min.js?t=1480953655\"></script>\\n<script type=\"text/javascript\" src=\"/students/psx/components/ng-focus-on/ng-focus-on.js?t=1480953655\"></script>\\n<script type=\"text/javascript\" src=\"/students/psx/components/moment/moment.js?t=1480953651\"></script>\\n<script type=\"text/javascript\" src=\"/students/psx/components/angular-moment/angular-moment.js?t=1480953649\"></script>\\n<script type=\"text/javascript\" src=\"/students/psx/components/angular-loading-bar/build/loading-bar.min.js?t=1480953650\"></script>\\n<script type=\"text/javascript\" src=\"/students/psx/components/angular-growl-v2/build/angular-growl.min.js?t=1480953655\"></script>\\n<script type=\"text/javascript\" src=\"/students/psx/components/song/notifications/dist/notifications.js?t=1480953649\"></script>\\n<script type=\"text/javascript\" src=\"/students/psx/app/valkyrie.app.js?t=1480967848\"></script>\\n<script type=\"text/javascript\" src=\"/students/psx/app/common/base-resource-service.js?t=1480967848\"></script>\\n<script type=\"text/javascript\" src=\"/students/psx/app/quicksearch/quicksearch.controller.js?t=1480967848\"></script>\\n<script type=\"text/javascript\" src=\"/students/psx/app/quicksearch/quicksearch.factory.js?t=1480967848\"></script>\\n<script type=\"text/javascript\" src=\"/students/psx/app/quicksearch/quicksearch.service.js?t=1480967848\"></script>\\n<script type=\"text/javascript\" src=\"/students/psx/app/notifications/notifications.factory.js?t=1480967848\"></script>\\n<script type=\"text/javascript\" src=\"/students/psx/app/notifications/notifications.service.js?t=1480967848\"></script>\\n<script type=\"text/javascript\" src=\"/students/psx/app/notifications/notifications.directive.js?t=1480967848\"></script>\\n<script type=\"text/javascript\" src=\"/students/psx/app/profile/profile.controller.js?t=1480967848\"></script>\\n<script type=\"text/javascript\" src=\"/students/psx/app/profile/profile.factory.js?t=1480967848\"></script>\\n<script type=\"text/javascript\" src=\"/students/psx/app/profile/profile.service.js?t=1480967848\"></script>\\n<script type=\"text/javascript\" src=\"/students/psx/app/layout/toolbar/contact-chip.directive.js?t=1480967848\"></script>\\n<script type=\"text/javascript\" src=\"/students/psx/app/common/misc.filter.js?t=1484061164\"></script>\\n<script type=\"text/javascript\" src=\"/jscache/6/67ba830060931179181b5431e8f4c35f.js\"></script>\\n</head>\\n<body class=\"yui-skin-sam  responsive-section page-students\">\\n\\t<ul class=\"skip-links\">\\n\\t\\t<li><a href=\"#content\" title=\"Skip to content. Accesskey: C\" accesskey=\"c\" class=\"sr-only sr-only-focusable\">Skip to content</a></li>\\n\\t\\t<li><a href=\"#menu\" title=\"Skip to main menu. Accesskey: M\" accesskey=\"m\" class=\"sr-only sr-only-focusable\">Skip to main menu</a></li>\\n\\t\\t\\t</ul>\\n\\t<div id=\"helpdiv\"></div>\\n\\t\\t\\t\\t\\t\\t\\n\\n\\n\\t\\t\\n\\t\\t\\t\\t<div id=\"nav-container\" class=\"nav-showicons\" tabindex=\"0\"><a name=\"menu\"></a>\\n\\t\\t\\n\\t\\n\\t<ul role=\"navigation\">\\n\\t\\t\\t\\t\\t<li><div class=\\'xlate-nav-w\\'></div></li>\\n\\t\\t\\n\\t\\t\\n\\t\\t\\t\\t\\t\\t\\n\\t\\t\\t\\t\\n\\t\\t\\t\\t\\t\\t\\t\\t\\t\\t\\n\\t\\t\\t<li class=\"nav-item\"><a href=\"/students/index.php?s=home\" class=\"active\"><i class=\"icn-speedometer\" aria-hidden=\"true\"></i><span> Home</span></a></li>\\n\\t\\t\\n\\t\\t\\t\\t\\t\\t\\n\\t\\t\\t\\t\\n\\t\\t\\t\\t\\t\\t\\t\\t\\t\\t\\n\\t\\t\\t<li class=\"nav-item\"><a href=\"javascript:;\" aria-controls=\"menu_91713c51ec4f623d915ef65bf0d5a74f\" aria-expanded=\"false\"><i class=\"icn-satchel\" aria-hidden=\"true\"></i><span> Jobs</span><i class=\"ti-angle-down\"></i></a>\\n\\n\\n\\t\\t\\n\\t\\t\\t\\t<div class=\"nav-level\">\\n\\t\\t\\n\\t\\n\\t<ul id=\"menu_91713c51ec4f623d915ef65bf0d5a74f\">\\n\\t\\t\\n\\t\\t\\n\\t\\t\\t\\t\\t\\t\\n\\t\\t\\t\\t\\n\\t\\t\\t\\t\\t\\t\\t\\t\\t\\t\\n\\t\\t\\t<li class=\"nav-item\"><a href=\"/students/index.php?s=jobs&ss=jobs&mode=list\"><i class=\"icn-next\" aria-hidden=\"true\"></i><span> Bentley Jobs</span></a></li>\\n\\t\\t\\n\\t\\t\\t\\t\\t\\t\\n\\t\\t\\t\\t\\n\\t\\t\\t\\t\\t\\t\\t\\t\\t\\t\\n\\t\\t\\t<li class=\"nav-item\"><a href=\"/students/index.php?s=jobs&ss=jobmatches&mode=list\"><i class=\"icn-next\" aria-hidden=\"true\"></i><span> Recommended Jobs</span></a></li>\\n\\t\\t\\n\\t\\t\\t\\t\\t\\t\\n\\t\\t\\t\\t\\n\\t\\t\\t\\t\\t\\t\\t\\t\\t\\t\\n\\t\\t\\t<li class=\"nav-item\"><a href=\"/students/index.php?s=jobs&ss=applied&mode=list&subtab=nocr\"><i class=\"icn-next\" aria-hidden=\"true\"></i><span> My Job Applications</span></a></li>\\n\\t\\t\\n\\t\\t\\t\\t\\t\\t\\n\\t\\t\\t\\t\\n\\t\\t\\t\\t\\t\\t\\t\\t\\t\\t\\n\\t\\t\\t<li class=\"nav-item\"><a href=\"http://nacelinknetwork.jobs\" target=\"_blank\"><i class=\"icn-next\" aria-hidden=\"true\"></i><span> NACElink Network</span></a></li>\\n\\t\\t\\t</ul>\\n\\t\\n\\t</div>\\t\\n\\t\\n\\n</li>\\n\\t\\t\\n\\t\\t\\t\\t\\t\\t\\n\\t\\t\\t\\t\\n\\t\\t\\t\\t\\t\\t\\t\\t\\t\\t\\n\\t\\t\\t<li class=\"nav-item\"><a href=\"/students/psx/profile\"><i class=\"icn-contacts\" aria-hidden=\"true\"></i><span> Profile</span></a></li>\\n\\t\\t\\n\\t\\t\\t\\t\\t\\t\\n\\t\\t\\t\\t\\n\\t\\t\\t\\t\\t\\t\\t\\t\\t\\t\\n\\t\\t\\t<li class=\"nav-item\"><a href=\"javascript:;\" aria-controls=\"menu_75c6aabb8a6c06480188147765e867ce\" aria-expanded=\"false\"><i class=\"icn-documents\" aria-hidden=\"true\"></i><span> Documents</span><i class=\"ti-angle-down\"></i></a>\\n\\n\\n\\t\\t\\n\\t\\t\\t\\t<div class=\"nav-level\">\\n\\t\\t\\n\\t\\n\\t<ul id=\"menu_75c6aabb8a6c06480188147765e867ce\">\\n\\t\\t\\n\\t\\t\\n\\t\\t\\t\\t\\t\\t\\n\\t\\t\\t\\t\\n\\t\\t\\t\\t\\t\\t\\t\\t\\t\\t\\n\\t\\t\\t<li class=\"nav-item\"><a href=\"/students/index.php?s=resume&ss=resumes\"><i class=\"icn-next\" aria-hidden=\"true\"></i><span> Approved</span></a></li>\\n\\t\\t\\t</ul>\\n\\t\\n\\t</div>\\t\\n\\t\\n\\n</li>\\n\\t\\t\\n\\t\\t\\t\\t\\t\\t\\n\\t\\t\\t\\t\\n\\t\\t\\t\\t\\t\\t\\t\\t\\t\\t\\n\\t\\t\\t<li class=\"nav-item\"><a href=\"javascript:;\" aria-controls=\"menu_66cd4def5054c17bbb1607a026a27188\" aria-expanded=\"false\"><i class=\"icn-signposts\" aria-hidden=\"true\"></i><span> Events</span><i class=\"ti-angle-down\"></i></a>\\n\\n\\n\\t\\t\\n\\t\\t\\t\\t<div class=\"nav-level\">\\n\\t\\t\\n\\t\\n\\t<ul id=\"menu_66cd4def5054c17bbb1607a026a27188\">\\n\\t\\t\\n\\t\\t\\n\\t\\t\\t\\t\\t\\t\\n\\t\\t\\t\\t\\n\\t\\t\\t\\t\\t\\t\\t\\t\\t\\t\\n\\t\\t\\t<li class=\"nav-item\"><a href=\"/students/index.php?s=event&ss=cf&_ksl=1&mode=list\"><i class=\"icn-next\" aria-hidden=\"true\"></i><span> Career Fairs</span></a></li>\\n\\t\\t\\n\\t\\t\\t\\t\\t\\t\\n\\t\\t\\t\\t\\n\\t\\t\\t\\t\\t\\t\\t\\t\\t\\t\\n\\t\\t\\t<li class=\"nav-item\"><a href=\"/students/index.php?s=event&ss=is&_ksl=1&mode=list\"><i class=\"icn-next\" aria-hidden=\"true\"></i><span> Employer Pre-select Information Sessions Or Off-Campus Events</span></a></li>\\n\\t\\t\\n\\t\\t\\t\\t\\t\\t\\n\\t\\t\\t\\t\\n\\t\\t\\t\\t\\t\\t\\t\\t\\t\\t\\n\\t\\t\\t<li class=\"nav-item\"><a href=\"/students/index.php?s=event&ss=ws&_ksl=1&mode=list\"><i class=\"icn-next\" aria-hidden=\"true\"></i><span> Workshops and Employer Events</span></a></li>\\n\\t\\t\\t</ul>\\n\\t\\n\\t</div>\\t\\n\\t\\n\\n</li>\\n\\t\\t\\n\\t\\t\\t\\t\\t\\t\\n\\t\\t\\t\\t\\n\\t\\t\\t\\t\\t\\t\\t\\t\\t\\t\\n\\t\\t\\t<li class=\"nav-item\"><a href=\"/students/index.php?s=interviews&mode=list&ss=pending\"><i class=\"icn-chats\" aria-hidden=\"true\"></i><span> Interviews</span></a></li>\\n\\t\\t\\n\\t\\t\\t\\t\\t\\t\\n\\t\\t\\t\\t\\n\\t\\t\\t\\t\\t\\t\\t\\t\\t\\t\\n\\t\\t\\t<li class=\"nav-item\"><a href=\"javascript:;\" aria-controls=\"menu_7294c592d021b8a616fc05855f5a4c9c\" aria-expanded=\"false\"><i class=\"icn-rocket\" aria-hidden=\"true\"></i><span> Employers</span><i class=\"ti-angle-down\"></i></a>\\n\\n\\n\\t\\t\\n\\t\\t\\t\\t<div class=\"nav-level\">\\n\\t\\t\\n\\t\\n\\t<ul id=\"menu_7294c592d021b8a616fc05855f5a4c9c\">\\n\\t\\t\\n\\t\\t\\n\\t\\t\\t\\t\\t\\t\\n\\t\\t\\t\\t\\n\\t\\t\\t\\t\\t\\t\\t\\t\\t\\t\\n\\t\\t\\t<li class=\"nav-item\"><a href=\"/students/index.php?s=employers&mode=list&ss=employers&_ksl=1\"><i class=\"icn-next\" aria-hidden=\"true\"></i><span> Employer Directory</span></a></li>\\n\\t\\t\\n\\t\\t\\t\\t\\t\\t\\n\\t\\t\\t\\t\\n\\t\\t\\t\\t\\t\\t\\t\\t\\t\\t\\n\\t\\t\\t<li class=\"nav-item\"><a href=\"/students/index.php?s=employers&mode=list&ss=favorites&_ksl=1\"><i class=\"icn-next\" aria-hidden=\"true\"></i><span> Favorite Employers</span></a></li>\\n\\t\\t\\n\\t\\t\\t\\t\\t\\t\\n\\t\\t\\t\\t\\n\\t\\t\\t\\t\\t\\t\\t\\t\\t\\t\\n\\t\\t\\t<li class=\"nav-item\"><a href=\"/students/index.php?s=employers&mode=list&ss=mini_contacts&_ksl=1\"><i class=\"icn-next\" aria-hidden=\"true\"></i><span> Contact Directory</span></a></li>\\n\\t\\t\\n\\t\\t\\t\\t\\t\\t\\n\\t\\t\\t\\t\\n\\t\\t\\t\\t\\t\\t\\t\\t\\t\\t\\n\\t\\t\\t<li class=\"nav-item\"><a href=\"/students/index.php?s=employers&mode=list&ss=fav_minicontacts&_ksl=1\"><i class=\"icn-next\" aria-hidden=\"true\"></i><span> Favorite Contacts</span></a></li>\\n\\t\\t\\t</ul>\\n\\t\\n\\t</div>\\t\\n\\t\\n\\n</li>\\n\\t\\t\\n\\t\\t\\t\\t\\t\\t\\n\\t\\t\\t\\t\\n\\t\\t\\t\\t\\t\\t\\t\\t\\t\\t\\n\\t\\t\\t<li class=\"nav-item\"><a href=\"/students/index.php?s=surveys&mode=list\"><i class=\"icn-top_charts\" aria-hidden=\"true\"></i><span> Surveys</span></a></li>\\n\\t\\t\\n\\t\\t\\t\\t\\t\\t\\n\\t\\t\\t\\t\\n\\t\\t\\t\\t\\t\\t\\t\\t\\t\\t\\n\\t\\t\\t<li class=\"nav-item\"><a href=\"javascript:;\" aria-controls=\"menu_8612dc2e7706fc3d33f159b89a4d91b9\" aria-expanded=\"false\"><i class=\"icn-light\" aria-hidden=\"true\"></i><span> Resources</span><i class=\"ti-angle-down\"></i></a>\\n\\n\\n\\t\\t\\n\\t\\t\\t\\t<div class=\"nav-level\">\\n\\t\\t\\n\\t\\n\\t<ul id=\"menu_8612dc2e7706fc3d33f159b89a4d91b9\">\\n\\t\\t\\n\\t\\t\\n\\t\\t\\t\\t\\t\\t\\n\\t\\t\\t\\t\\n\\t\\t\\t\\t\\t\\t\\t\\t\\t\\t\\n\\t\\t\\t<li class=\"nav-item\"><a href=\"/students/index.php?s=resource&ss=onet&mode=landing\"><i class=\"icn-next\" aria-hidden=\"true\"></i><span> Career Explorer</span></a></li>\\n\\t\\t\\n\\t\\t\\t\\t\\t\\t\\n\\t\\t\\t\\t\\n\\t\\t\\t\\t\\t\\t\\t\\t\\t\\t\\n\\t\\t\\t<li class=\"nav-item\"><a href=\"/students/index.php?s=resource&ss=doclib&mode=list\"><i class=\"icn-next\" aria-hidden=\"true\"></i><span> Virtual Career Center</span></a></li>\\n\\t\\t\\n\\t\\t\\t\\t\\t\\t\\n\\t\\t\\t\\t\\n\\t\\t\\t\\t\\t\\t\\t\\t\\t\\t\\n\\t\\t\\t<li class=\"nav-item\"><a href=\"/students/index.php?s=resource&ss=career_advice&mode=landing\"><i class=\"icn-next\" aria-hidden=\"true\"></i><span> Career Advice</span></a></li>\\n\\t\\t\\t</ul>\\n\\t\\n\\t</div>\\t\\n\\t\\n\\n</li>\\n\\t\\t\\n\\t\\t\\t\\t\\t\\t\\n\\t\\t\\t\\t\\n\\t\\t\\t\\t\\t\\t\\t\\t\\t\\t\\n\\t\\t\\t<li class=\"nav-item\"><a href=\"javascript:;\" aria-controls=\"menu_5c99b8d1fe5b22b4560dfea117234b4c\" aria-expanded=\"false\"><i class=\"icn-next\" aria-hidden=\"true\"></i><span> Calendar</span><i class=\"ti-angle-down\"></i></a>\\n\\n\\n\\t\\t\\n\\t\\t\\t\\t<div class=\"nav-level\">\\n\\t\\t\\n\\t\\n\\t<ul id=\"menu_5c99b8d1fe5b22b4560dfea117234b4c\">\\n\\t\\t\\n\\t\\t\\n\\t\\t\\t\\t\\t\\t\\n\\t\\t\\t\\t\\n\\t\\t\\t\\t\\t\\t\\t\\t\\t\\t\\n\\t\\t\\t<li class=\"nav-item\"><a href=\"/students/index.php/students/?s=calendar&ss=ical_today&mode=list\"><i class=\"icn-next\" aria-hidden=\"true\"></i><span> Agenda</span></a></li>\\n\\t\\t\\t</ul>\\n\\t\\n\\t</div>\\t\\n\\t\\n\\n</li>\\n\\t\\t\\n\\t\\t\\t\\t\\t\\t\\n\\t\\t\\t\\t\\n\\t\\t\\t\\t\\t\\t\\t\\t\\t\\t\\n\\t\\t\\t<li class=\"nav-item\"><a href=\"javascript:;\" aria-controls=\"menu_f922c59d2f404904eae328780d87868a\" aria-expanded=\"false\"><i class=\"icn-mortar_board\" aria-hidden=\"true\"></i><span> My Account</span><i class=\"ti-angle-down\"></i></a>\\n\\n\\n\\t\\t\\n\\t\\t\\t\\t<div class=\"nav-level\">\\n\\t\\t\\n\\t\\n\\t<ul id=\"menu_f922c59d2f404904eae328780d87868a\">\\n\\t\\t\\n\\t\\t\\n\\t\\t\\t\\t\\t\\t\\n\\t\\t\\t\\t\\n\\t\\t\\t\\t\\t\\t\\t\\t\\t\\t\\n\\t\\t\\t<li class=\"nav-item\"><a href=\"/students/index.php?s=profile&ss=profile\"><i class=\"icn-next\" aria-hidden=\"true\"></i><span> Personal</span></a></li>\\n\\t\\t\\n\\t\\t\\t\\t\\t\\t\\n\\t\\t\\t\\t\\n\\t\\t\\t\\t\\t\\t\\t\\t\\t\\t\\n\\t\\t\\t<li class=\"nav-item\"><a href=\"/students/index.php?s=profile&ss=sprofile\"><i class=\"icn-next\" aria-hidden=\"true\"></i><span> Academic</span></a></li>\\n\\t\\t\\n\\t\\t\\t\\t\\t\\t\\n\\t\\t\\t\\t\\n\\t\\t\\t\\t\\t\\t\\t\\t\\t\\t\\n\\t\\t\\t<li class=\"nav-item\"><a href=\"/students/index.php?s=profile&ss=pref\"><i class=\"icn-next\" aria-hidden=\"true\"></i><span> Privacy</span></a></li>\\n\\t\\t\\n\\t\\t\\t\\t\\t\\t\\n\\t\\t\\t\\t\\n\\t\\t\\t\\t\\t\\t\\t\\t\\t\\t\\n\\t\\t\\t<li class=\"nav-item\"><a href=\"/students/index.php?s=profile&ss=invoices\"><i class=\"icn-next\" aria-hidden=\"true\"></i><span> Invoice</span></a></li>\\n\\t\\t\\n\\t\\t\\t\\t\\t\\t\\n\\t\\t\\t\\t\\n\\t\\t\\t\\t\\t\\t\\t\\t\\t\\t\\n\\t\\t\\t<li class=\"nav-item\"><a href=\"/students/index.php?s=profile&ss=explearning&mode=list&current_section=explearning\"><i class=\"icn-next\" aria-hidden=\"true\"></i><span> CDI 102</span></a></li>\\n\\t\\t\\t</ul>\\n\\t\\n\\t</div>\\t\\n\\t\\n\\n</li>\\n\\t\\t\\t</ul>\\n\\t\\n\\t</div>\\t\\n\\t\\t\\t\\t</div> \\t\\t\\t<div class=\"nav-mask\"></div>\\n\\t\\n\\n\\t\\t\\t\\t\\t\\t\\n\\t<div id=\"frame\">\\n\\t\\t<div class=\"page-top\">\\n\\t\\t\\t<div id=\"page-menu\" class=\"nav-toggle\">\\n\\t\\t\\t\\t<i class=\"icn-menu\"></i>\\n\\t\\t\\t</div>\\n\\t\\t\\t<div id=\"page-brand\">\\n\\t\\t\\t\\t<a href=\"www.bentley.edu/bentleylink-career\" target=\"_blank\" class=\"nav-brand\">\\n\\t\\t\\t\\t\\t<span class=\"sr-only\">Visit Site</span>\\n\\t\\t\\t\\t\\t<div style=\"background-image: url(https://career-bentley-csm.symplicity.com/files/117/1173eec19731f97380067b7fd04b814a_166_166.jpg)\"></div>\\n\\t\\t\\t\\t</a>\\n\\t\\t\\t</div>\\n\\t\\t\\t\\n\\t\\t\\t<div id=\"page-flex-fill\"></div>\\n\\t\\t\\t\\n\\t\\t\\t\\t\\t\\t\\t<div id=\"quicksearch-ng-app\">\\n\\t <div id=\"page-search\" ng-include=\"\\'/students/psx/app/quicksearch/quicksearch.html\\'\" flex></div>\\n</div>\\n<script>\\n\\tangular.bootstrap(document.getElementById(\"quicksearch-ng-app\"), [\\'studentCSMApp\\', \\'ngStorage\\']);\\n</script>\\t\\t\\t\\t\\t\\t\\n\\t\\t\\t\\t\\t\\t\\n\\n\\t\\t\\t\\t\\t\\t\\t<div id=\"page-user\">\\n\\t\\t\\t\\t\\t\\t\\t\\t\\t\\t\\t\\t<contact-chip></contact-chip>\\n\\t\\t\\t\\t\\t\\t\\t\\t\\t\\t\\t\\t\\t\\t</div>\\n\\t\\t\\t\\t\\t</div>\\n\\n\\t\\t<div class=\"page-utils\">\\n\\t\\t\\t<div class=\"row\">\\n\\t\\t\\t\\t<div class=\"col col-8 sm-col-12 back-links\">\\n\\t\\t\\t\\t\\t\\t\\t\\t\\t</div>\\n\\t\\t\\t\\t<div class=\"col col-4 sm-col-12 text-right pull-right\">\\n\\t\\t\\t\\t\\t<span id=\"xlate-container\"></span>\\n\\t\\t\\t\\t</div>\\n\\t\\t\\t</div>\\n\\t\\t</div>\\n\\n\\t\\t\\t\\t\\n\\t\\t\\n\\n\\t\\n<div class=\"student-dashboard-wrapper\">\\n\\t<a name=\"content\" id=\"content\"></a>\\n\\t<div class=\"row\">\\n\\t\\t<div class=\"col col-12\">\\n\\t\\t\\t\\t\\t\\t\\t\\t\\t\\t\\t\\t\\t\\t</div>\\n\\t</div>\\n\\t<div class=\"row\">\\n\\t\\t<div id=\"home-left\" class=\"col col-9 md-col-12\">\\n\\t\\t\\t<div class=\"card profile-card\">\\n\\t\\t\\t\\t<div class=\"content\">\\n\\t\\t\\t\\t\\t<div class=\"profile-top\" data-linkto=\"/students/psx/profile\" tabindex=\"0\" aria-label=\"Update your profile\" role=\"button\">\\n\\t\\t\\t\\t\\t\\t<div class=\"profile-background\"></div>\\n\\t\\t\\t\\t\\t\\t<div class=\"profile-wrapper\">\\n\\t\\t\\t\\t\\t\\t\\t<div class=\"profile-mask\"></div>\\n\\t\\t\\t\\t\\t\\t\\t<div class=\"profile-avatar-wrapper\">\\n\\t\\t\\t\\t\\t\\t\\t\\t\\t\\t\\t\\t\\t\\t\\t\\t<img class=\"profile-image\" alt=\"Xiang Li\" src=\"https://career-bentley-csm.symplicity.com/files/391/391d9f233795cfc5bebf6cd95f83c312_90_90.jpg\">\\n\\t\\t\\t\\t\\t\\t\\t\\t\\t\\t\\t\\t\\t\\t\\t</div>\\n\\t\\t\\t\\t\\t\\t\\t<div class=\"profile-info\">\\n\\t\\t\\t\\t\\t\\t\\t\\t<h2 class=\"student-name\">Xiang Li</h2>\\n\\t\\t\\t\\t\\t\\t\\t\\t<div class=\"student-grad\">Graduate - FT, Graduating May 2017</div>\\n\\t\\t\\t\\t\\t\\t\\t\\t<div class=\"student-major\">Business Analytics</div>\\n\\t\\t\\t\\t\\t\\t\\t</div>\\n\\n\\t\\t\\t\\t\\t\\t\\t\\t\\t\\t\\t\\t\\t\\t\\t<div class=\"profile-completion\" id=\"profile_completion_container\">\\n\\t\\t\\t\\t\\t\\t\\t\\tProfile <span id=\"profile_completion_value\"></span> Complete\\n\\t\\t\\t\\t\\t\\t\\t\\t\\t\\t\\t\\t\\t\\t\\t\\t</div>\\n\\t\\t\\t\\t\\t\\t\\t\\t\\t\\t\\t\\t\\t</div>\\n\\t\\t\\t\\t\\t</div>\\n\\t\\t\\t\\t\\t<div class=\"row\">\\n\\t\\t\\t\\t\\t\\t\\t\\t\\t\\t\\t\\t\\t<div class=\"col col-8\">\\n\\t\\t\\t\\t\\t\\t\\t\\t<ul class=\"stats\">\\n\\t\\t\\t\\t\\t\\t\\t\\t\\t\\t\\t\\t\\t\\t\\t\\t\\t\\t\\t<li >\\n\\t\\t\\t\\t\\t\\t\\t\\t\\t\\t\\t<a href=\"/students/index.php?s=jobs&ss=applied&mode=list&subtab=nocr\" class=\"clearfix\">\\n\\t\\t\\t\\t\\t\\t\\t\\t\\t\\t\\t\\t<span class=\"stat_num\">15</span>\\n\\t\\t\\t\\t\\t\\t\\t\\t\\t\\t\\t\\t<span class=\"stat_content\">\\n\\t\\t\\t\\t\\t\\t\\t\\t\\t\\t\\t\\t\\tApplications Submitted\\t\\t\\t\\t\\t\\t\\t\\t\\t\\t\\t\\t</span>\\n\\t\\t\\t\\t\\t\\t\\t\\t\\t\\t\\t</a>\\n\\t\\t\\t\\t\\t\\t\\t\\t\\t\\t</li>\\n\\t\\t\\t\\t\\t\\t\\t\\t\\t\\t\\t\\t\\t\\t\\t\\t\\t\\t\\t<li class=\"last\">\\n\\t\\t\\t\\t\\t\\t\\t\\t\\t\\t\\t<a href=\"/students/index.php?s=employers&ss=favorites\" class=\"clearfix\">\\n\\t\\t\\t\\t\\t\\t\\t\\t\\t\\t\\t\\t<span class=\"stat_num\">3</span>\\n\\t\\t\\t\\t\\t\\t\\t\\t\\t\\t\\t\\t<span class=\"stat_content\">\\n\\t\\t\\t\\t\\t\\t\\t\\t\\t\\t\\t\\t\\tEmployers Followed\\t\\t\\t\\t\\t\\t\\t\\t\\t\\t\\t\\t</span>\\n\\t\\t\\t\\t\\t\\t\\t\\t\\t\\t\\t</a>\\n\\t\\t\\t\\t\\t\\t\\t\\t\\t\\t</li>\\n\\t\\t\\t\\t\\t\\t\\t\\t\\t\\t\\t\\t\\t\\t\\t\\t\\t</ul>\\n\\t\\t\\t\\t\\t\\t\\t</div>\\n\\t\\t\\t\\t\\t\\t\\t\\t\\t\\t\\t\\t<div class=\"col col-4\">\\n\\t\\t\\t\\t\\t\\t\\t\\t\\t\\t\\t\\t\\t\\t\\t<div class=\"student-email\">\\n\\t\\t\\t\\t\\t\\t\\t\\t\\t<span class=\"icn icn-email_plane\"></span>\\n\\t\\t\\t\\t\\t\\t\\t\\t\\t<a href=\"mailto:li_xian@bentley.edu\">li_xian@bentley.edu</a>\\n\\t\\t\\t\\t\\t\\t\\t\\t</div>\\n\\t\\t\\t\\t\\t\\t\\t\\t\\t\\t\\t\\t\\t\\t\\t\\t\\t\\t\\t\\t</div>\\n\\t\\t\\t\\t\\t</div>\\n\\t\\t\\t\\t</div>\\n\\t\\t\\t</div>\\n\\t\\t\\t<div class=\"card feed-card\">\\n\\t\\t\\t\\t<div class=\"content\">\\n\\t\\t\\t\\t\\t\\t\\t\\t\\t\\t\\t<a href=\"http://career-bentley-csm.symplicity.com/students/rss_feeds.php?__key=nQa_NLCJBEN7D41S15i4Jj_rHSv9wmqlWWOhPz31giQ\" target=\"\" title=\"Subscribe to our RSS Feed\" class=\"rss-link\"><span class=\"sr-only\">RSS Feed</span></a>\\n\\t\\t\\t\\t\\t\\t\\t\\t\\t\\t<h2>News Feed</h2>\\n\\t\\t\\t\\t\\t<div id=\"feed-main\" class=\"list-full-width\">\\n\\t\\t\\t\\t\\t\\t<ul class=\"feed\" id=\"\">\\n\\t\\t\\t\\t\\t\\t\\t\\t\\t\\t\\t\\t\\t\\t\\t<li class=\"feed-item list-item clearfix\">\\n\\t\\t\\t\\t\\t\\t\\t\\t\\t\\t\\t\\t\\t\\t\\t\\t\\t\\t\\t\\t\\t\\t\\t\\t\\t\\t\\t\\t\\t\\t\\t\\t\\t\\t\\t\\t\\t\\t\\t\\t\\t\\t\\t\\t\\t\\t\\t\\t\\t\\t\\t\\t\\t\\t\\t\\t\\t\\t\\t\\t\\t\\t\\t\\t\\t\\t\\t\\t\\t\\t\\t\\t\\t\\t<div class=\"feed-item-icon list-item-image\">\\n\\t\\t\\t\\t\\t\\t\\t\\t\\t\\t\\t\\t\\t\\t\\t\\t\\t\\t\\t\\t\\t\\t\\t<i class=\"icn-satchel\"></i>\\n\\t\\t\\t\\t\\t\\t\\t\\t\\t\\t\\t\\t\\t\\t\\t\\t\\t\\t\\t\\t\\t</div>\\n\\t\\t\\t\\t\\t\\t\\t\\t\\t\\t\\t\\t\\t\\t\\t\\t\\t\\t<div class=\"feed-item-content list-item-content\">\\n\\t\\t\\t\\t\\t\\t\\t\\t\\t\\t\\t\\t\\t\\t\\t\\t\\t\\t\\t\\t\\t\\t\\t\\t\\t\\t\\t\\t\\t\\t\\t<div class=\"feed-item-blurb\">Job Finder has matches for you</div>\\n\\t\\t\\t\\t\\t\\t\\t\\t\\t\\t\\t\\t\\t\\t\\t\\t\\t\\t\\t\\t\\t\\t\\t\\t\\t\\t\\t\\t\\t\\t\\t<div class=\"feed-item-ttl\"><a href=\"?s=jobs&ss=jobmatches&mode=list\">23 Recommended Jobs</a></div>\\n\\t\\t\\t\\t\\t\\t\\t\\t\\t\\t\\t\\t\\t\\t\\t\\t\\t\\t\\t\\t<div class=\"feed-item-body\">\\n\\t\\t\\t\\t\\t\\t\\t\\t\\t\\t\\t\\n\\t\\t\\t\\t\\t\\t\\t\\t\\t\\t</div>\\n\\t\\t\\t\\t\\t\\t\\t\\t\\t</div>\\n\\t\\t\\t\\t\\t\\t\\t\\t</li>\\n\\t\\t\\t\\t\\t\\t\\t\\t\\t\\t\\t\\t\\t\\t\\t<li class=\"feed-item list-item clearfix\">\\n\\t\\t\\t\\t\\t\\t\\t\\t\\t\\t\\t\\t\\t\\t\\t\\t\\t\\t\\t\\t\\t\\t\\t\\t\\t\\t\\t\\t\\t\\t\\t\\t\\t\\t\\t\\t\\t\\t\\t\\t\\t\\t\\t\\t\\t\\t\\t\\t\\t\\t\\t\\t\\t\\t\\t\\t\\t\\t\\t\\t\\t\\t\\t\\t\\t\\t\\t\\t\\t\\t\\t\\t\\t\\t<div class=\"feed-item-icon list-item-image\">\\n\\t\\t\\t\\t\\t\\t\\t\\t\\t\\t\\t\\t\\t\\t\\t\\t\\t\\t\\t\\t\\t\\t\\t<div class=\"avatar avatar-square\">\\n\\t\\t\\t\\t\\t\\t\\t\\t\\t\\t\\t\\t\\t<img src=\"/utils/view.php?id=ca3d034f3e32ef1034c009f427df7be0\" alt=\"Logo\" role=\"presentation\">\\n\\t\\t\\t\\t\\t\\t\\t\\t\\t\\t\\t\\t</div>\\n\\t\\t\\t\\t\\t\\t\\t\\t\\t\\t\\t\\t\\t\\t\\t\\t\\t\\t\\t\\t\\t</div>\\n\\t\\t\\t\\t\\t\\t\\t\\t\\t\\t\\t\\t\\t\\t\\t\\t\\t\\t<div class=\"feed-item-content list-item-content\">\\n\\t\\t\\t\\t\\t\\t\\t\\t\\t\\t\\t\\t\\t\\t\\t\\t\\t\\t\\t\\t\\t\\t\\t\\t\\t\\t\\t\\t\\t\\t\\t<div class=\"feed-item-blurb\">Vistaprint, a Cimpress Company posted a new job</div>\\n\\t\\t\\t\\t\\t\\t\\t\\t\\t\\t\\t\\t\\t\\t\\t\\t\\t\\t\\t\\t\\t\\t\\t\\t\\t\\t\\t\\t\\t\\t\\t<div class=\"feed-item-ttl\"><a href=\"?s=jobs&ss=jobs&mode=form&id=fb5a94c4d06612722bf8321206966cfd\">Specialist, Email Marketing</a></div>\\n\\t\\t\\t\\t\\t\\t\\t\\t\\t\\t\\t\\t\\t\\t\\t\\t\\t\\t\\t\\t<div class=\"feed-item-body\">\\n\\t\\t\\t\\t\\t\\t\\t\\t\\t\\t\\t\\n\\t\\t\\t\\t\\t\\t\\t\\t\\t\\t</div>\\n\\t\\t\\t\\t\\t\\t\\t\\t\\t</div>\\n\\t\\t\\t\\t\\t\\t\\t\\t</li>\\n\\t\\t\\t\\t\\t\\t\\t\\t\\t\\t\\t\\t\\t\\t\\t<li class=\"feed-item list-item clearfix\">\\n\\t\\t\\t\\t\\t\\t\\t\\t\\t\\t\\t\\t\\t\\t\\t\\t\\t\\t\\t\\t\\t\\t\\t\\t\\t\\t\\t\\t\\t\\t\\t\\t\\t\\t\\t\\t\\t\\t\\t\\t\\t\\t\\t\\t\\t\\t\\t\\t\\t\\t\\t\\t\\t\\t\\t\\t\\t\\t\\t\\t\\t\\t\\t\\t\\t\\t\\t\\t\\t\\t\\t\\t\\t\\t<div class=\"feed-item-icon list-item-image\">\\n\\t\\t\\t\\t\\t\\t\\t\\t\\t\\t\\t\\t\\t\\t\\t\\t\\t\\t\\t\\t\\t\\t\\t<div class=\"avatar avatar-square\">\\n\\t\\t\\t\\t\\t\\t\\t\\t\\t\\t\\t\\t\\t<img src=\"/utils/view.php?id=ca3d034f3e32ef1034c009f427df7be0\" alt=\"Logo\" role=\"presentation\">\\n\\t\\t\\t\\t\\t\\t\\t\\t\\t\\t\\t\\t</div>\\n\\t\\t\\t\\t\\t\\t\\t\\t\\t\\t\\t\\t\\t\\t\\t\\t\\t\\t\\t\\t\\t</div>\\n\\t\\t\\t\\t\\t\\t\\t\\t\\t\\t\\t\\t\\t\\t\\t\\t\\t\\t<div class=\"feed-item-content list-item-content\">\\n\\t\\t\\t\\t\\t\\t\\t\\t\\t\\t\\t\\t\\t\\t\\t\\t\\t\\t\\t\\t\\t\\t\\t\\t\\t\\t\\t\\t\\t\\t\\t<div class=\"feed-item-blurb\">Vistaprint, a Cimpress Company will attend a career fair</div>\\n\\t\\t\\t\\t\\t\\t\\t\\t\\t\\t\\t\\t\\t\\t\\t\\t\\t\\t\\t\\t\\t\\t\\t\\t\\t\\t\\t\\t\\t\\t\\t<div class=\"feed-item-ttl\"><a href=\"?s=event&ss=cf&mode=form&id=66dd07f80deab08fcf44d646b1082921\">Bentley University Spring 2017 Career Fair - 2/15/2017</a></div>\\n\\t\\t\\t\\t\\t\\t\\t\\t\\t\\t\\t\\t\\t\\t\\t\\t\\t\\t\\t\\t<div class=\"feed-item-body\">\\n\\t\\t\\t\\t\\t\\t\\t\\t\\t\\t\\t\\n\\t\\t\\t\\t\\t\\t\\t\\t\\t\\t</div>\\n\\t\\t\\t\\t\\t\\t\\t\\t\\t</div>\\n\\t\\t\\t\\t\\t\\t\\t\\t</li>\\n\\t\\t\\t\\t\\t\\t\\t\\t\\t\\t\\t\\t\\t\\t\\t<li class=\"feed-item list-item clearfix\">\\n\\t\\t\\t\\t\\t\\t\\t\\t\\t\\t\\t\\t\\t\\t\\t\\t\\t\\t\\t\\t\\t\\t\\t\\t\\t\\t\\t\\t\\t\\t\\t\\t\\t\\t\\t\\t\\t\\t\\t\\t\\t\\t\\t\\t\\t\\t\\t\\t\\t\\t\\t\\t\\t\\t\\t\\t\\t\\t\\t\\t\\t\\t\\t\\t\\t\\t\\t\\t\\t\\t\\t\\t\\t\\t<div class=\"feed-item-icon list-item-image\">\\n\\t\\t\\t\\t\\t\\t\\t\\t\\t\\t\\t\\t\\t\\t\\t\\t\\t\\t\\t\\t\\t\\t\\t<div class=\"avatar avatar-square\">\\n\\t\\t\\t\\t\\t\\t\\t\\t\\t\\t\\t\\t\\t<img src=\"/utils/view.php?id=ca3d034f3e32ef1034c009f427df7be0\" alt=\"Logo\" role=\"presentation\">\\n\\t\\t\\t\\t\\t\\t\\t\\t\\t\\t\\t\\t</div>\\n\\t\\t\\t\\t\\t\\t\\t\\t\\t\\t\\t\\t\\t\\t\\t\\t\\t\\t\\t\\t\\t</div>\\n\\t\\t\\t\\t\\t\\t\\t\\t\\t\\t\\t\\t\\t\\t\\t\\t\\t\\t<div class=\"feed-item-content list-item-content\">\\n\\t\\t\\t\\t\\t\\t\\t\\t\\t\\t\\t\\t\\t\\t\\t\\t\\t\\t\\t\\t\\t\\t\\t\\t\\t\\t\\t\\t\\t\\t\\t<div class=\"feed-item-blurb\">Vistaprint, a Cimpress Company posted a new job</div>\\n\\t\\t\\t\\t\\t\\t\\t\\t\\t\\t\\t\\t\\t\\t\\t\\t\\t\\t\\t\\t\\t\\t\\t\\t\\t\\t\\t\\t\\t\\t\\t<div class=\"feed-item-ttl\"><a href=\"?s=jobs&ss=jobs&mode=form&id=8dd0fd33b6d0f46861bd7a65f61fb5c8\">Marketing Specialist</a></div>\\n\\t\\t\\t\\t\\t\\t\\t\\t\\t\\t\\t\\t\\t\\t\\t\\t\\t\\t\\t\\t<div class=\"feed-item-body\">\\n\\t\\t\\t\\t\\t\\t\\t\\t\\t\\t\\t\\n\\t\\t\\t\\t\\t\\t\\t\\t\\t\\t</div>\\n\\t\\t\\t\\t\\t\\t\\t\\t\\t</div>\\n\\t\\t\\t\\t\\t\\t\\t\\t</li>\\n\\t\\t\\t\\t\\t\\t\\t\\t\\t\\t\\t\\t\\t\\t\\t<li class=\"feed-item list-item clearfix\">\\n\\t\\t\\t\\t\\t\\t\\t\\t\\t\\t\\t\\t\\t\\t\\t\\t\\t\\t\\t\\t\\t\\t\\t\\t\\t\\t\\t\\t\\t\\t\\t\\t\\t\\t\\t\\t\\t\\t\\t\\t\\t\\t\\t\\t\\t\\t\\t\\t\\t\\t\\t\\t\\t\\t\\t\\t\\t\\t\\t\\t\\t\\t\\t\\t\\t\\t\\t\\t\\t\\t\\t\\t\\t\\t<div class=\"feed-item-icon list-item-image\">\\n\\t\\t\\t\\t\\t\\t\\t\\t\\t\\t\\t\\t\\t\\t\\t\\t\\t\\t\\t\\t\\t\\t\\t<div class=\"avatar avatar-square\">\\n\\t\\t\\t\\t\\t\\t\\t\\t\\t\\t\\t\\t\\t<img src=\"/utils/view.php?id=ca3d034f3e32ef1034c009f427df7be0\" alt=\"Logo\" role=\"presentation\">\\n\\t\\t\\t\\t\\t\\t\\t\\t\\t\\t\\t\\t</div>\\n\\t\\t\\t\\t\\t\\t\\t\\t\\t\\t\\t\\t\\t\\t\\t\\t\\t\\t\\t\\t\\t</div>\\n\\t\\t\\t\\t\\t\\t\\t\\t\\t\\t\\t\\t\\t\\t\\t\\t\\t\\t<div class=\"feed-item-content list-item-content\">\\n\\t\\t\\t\\t\\t\\t\\t\\t\\t\\t\\t\\t\\t\\t\\t\\t\\t\\t\\t\\t\\t\\t\\t\\t\\t\\t\\t\\t\\t\\t\\t<div class=\"feed-item-blurb\">Vistaprint, a Cimpress Company posted a new job</div>\\n\\t\\t\\t\\t\\t\\t\\t\\t\\t\\t\\t\\t\\t\\t\\t\\t\\t\\t\\t\\t\\t\\t\\t\\t\\t\\t\\t\\t\\t\\t\\t<div class=\"feed-item-ttl\"><a href=\"?s=jobs&ss=jobs&mode=form&id=454b792d15bfd81eb9d347e044d1f605\">Business Development Specialist </a></div>\\n\\t\\t\\t\\t\\t\\t\\t\\t\\t\\t\\t\\t\\t\\t\\t\\t\\t\\t\\t\\t<div class=\"feed-item-body\">\\n\\t\\t\\t\\t\\t\\t\\t\\t\\t\\t\\t\\n\\t\\t\\t\\t\\t\\t\\t\\t\\t\\t</div>\\n\\t\\t\\t\\t\\t\\t\\t\\t\\t</div>\\n\\t\\t\\t\\t\\t\\t\\t\\t</li>\\n\\t\\t\\t\\t\\t\\t\\t\\t\\t\\t\\t\\t\\t</ul>\\n\\t\\t\\t\\t\\t\\t\\t\\t\\t\\t</div>\\n\\t\\t\\t\\t</div>\\n\\t\\t\\t</div>\\n\\t\\t</div>\\n\\t\\t<div id=\"home-right\" class=\"col col-3 md-col-12\">\\n\\t\\t\\t\\t\\t\\t\\t\\t\\t\\t\\t\\t\\t\\t<div class=\"card sponsors-card\">\\n\\t\\t\\t\\t\\t<div class=\"content\">\\n\\t\\t\\t\\t\\t\\t<h2 class=\"home-inset-title\">Sponsors</h2>\\n\\t\\t\\t\\t\\t\\t<div id=\"sponsor_rotation\" class=\"cycle-slideshow\" data-cycle-log=\"false\" data-cycle-slides=\"> a\" data-cycle-timeout=\"4000\" data-cycle-pause-on-hover=\"true\" data-cycle-next=\".sponsors_card .lst-next-btn\" data-cycle-prev=\".sponsors_card .lst-prev-btn\" data-cycle-caption=\"#sponsors-caption\" data-cycle-caption-template=\"{{cycleTitle}}\">\\n\\t\\t\\t\\t\\t\\t\\t\\t\\t\\t\\t\\t\\t\\t\\t\\t\\t\\t\\t\\t\\t\\t\\t\\t\\t\\t\\t\\t\\t\\t\\t\\t\\t\\t<a href=\"https://www.travelers.com/\" target=\"_blank\" data-cycle-title=\"\">\\n\\t\\t\\t\\t\\t\\t\\t\\t\\t\\t\\t\\t\\t\\t\\t\\t\\t\\t\\t\\t\\t\\t\\t\\t\\t\\t\\t\\t<img src=\"/utils/view.php?id=6056b7398a908290fbe21936ba89c862\" alt=\"Travelers\" title=\"Travelers\">\\n\\t\\t\\t\\t\\t\\t\\t\\t\\t\\t\\t\\t\\t\\t\\t\\t\\t\\t\\t</a>\\n\\t\\t\\t\\t\\t\\t\\t\\t\\t\\t\\t\\t\\t\\t\\t\\t\\t\\t\\t\\t\\t\\t\\t\\t\\t\\t\\t\\t\\t\\t\\t\\t\\t\\t\\t\\t\\t\\t\\t\\t\\t\\t<a href=\"http://www.windsormarketing.com\" target=\"_blank\" data-cycle-title=\"\">\\n\\t\\t\\t\\t\\t\\t\\t\\t\\t\\t\\t\\t\\t\\t\\t\\t\\t\\t\\t\\t\\t\\t\\t\\t\\t\\t\\t\\t<img src=\"/utils/view.php?id=238d955f899355b8219975b42c6be0f3\" alt=\"Windsor Marketing Group\" title=\"Windsor Marketing Group\">\\n\\t\\t\\t\\t\\t\\t\\t\\t\\t\\t\\t\\t\\t\\t\\t\\t\\t\\t\\t</a>\\n\\t\\t\\t\\t\\t\\t\\t\\t\\t\\t\\t\\t\\t\\t\\t\\t\\t\\t\\t\\t\\t\\t\\t\\t\\t\\t\\t\\t\\t\\t\\t\\t\\t\\t\\t\\t\\t\\t\\t\\t\\t\\t<a href=\"http://www.go.enterprise.com\" target=\"_blank\" data-cycle-title=\"\">\\n\\t\\t\\t\\t\\t\\t\\t\\t\\t\\t\\t\\t\\t\\t\\t\\t\\t\\t\\t\\t\\t\\t\\t\\t\\t\\t\\t\\t<img src=\"/utils/view.php?id=9c516b662e3da68d64648d1a1c4bbd58\" alt=\"Enterprise Holdings\" title=\"Enterprise Holdings\">\\n\\t\\t\\t\\t\\t\\t\\t\\t\\t\\t\\t\\t\\t\\t\\t\\t\\t\\t\\t</a>\\n\\t\\t\\t\\t\\t\\t\\t\\t\\t\\t\\t\\t\\t\\t\\t\\t\\t\\t\\t\\t\\t\\t\\t\\t\\t\\t\\t\\t\\t\\t\\t\\t\\t\\t\\t\\t\\t\\t\\t\\t\\t\\t<a href=\"http://www.emc.com\" target=\"_blank\" data-cycle-title=\"\">\\n\\t\\t\\t\\t\\t\\t\\t\\t\\t\\t\\t\\t\\t\\t\\t\\t\\t\\t\\t\\t\\t\\t\\t\\t\\t\\t\\t\\t<img src=\"/utils/view.php?id=c83b5a96ea9a6261f74757cde1d443e6\" alt=\"EMC\" title=\"EMC\">\\n\\t\\t\\t\\t\\t\\t\\t\\t\\t\\t\\t\\t\\t\\t\\t\\t\\t\\t\\t</a>\\n\\t\\t\\t\\t\\t\\t\\t\\t\\t\\t\\t\\t\\t\\t\\t\\t\\t\\t\\t\\t\\t\\t\\t\\t\\t\\t\\t\\t\\t\\t\\t\\t\\t\\t\\t\\t\\t\\t\\t\\t\\t\\t<a href=\"http://www.tjx.com/cmtp\" target=\"_blank\" data-cycle-title=\"\">\\n\\t\\t\\t\\t\\t\\t\\t\\t\\t\\t\\t\\t\\t\\t\\t\\t\\t\\t\\t\\t\\t\\t\\t\\t\\t\\t\\t\\t<img src=\"/utils/view.php?id=f293e65c6cb221e607d1b759a25a6ccf\" alt=\"The TJX Companies, Inc.\" title=\"The TJX Companies, Inc.\">\\n\\t\\t\\t\\t\\t\\t\\t\\t\\t\\t\\t\\t\\t\\t\\t\\t\\t\\t\\t</a>\\n\\t\\t\\t\\t\\t\\t\\t\\t\\t\\t\\t\\t\\t\\t\\t\\t\\t\\t\\t\\t\\t\\t\\t\\t\\t\\t\\t\\t\\t\\t\\t\\t\\t\\t\\t\\t\\t\\t\\t\\t\\t\\t<a href=\"http://jobs.fidelity.com\" target=\"_blank\" data-cycle-title=\"\">\\n\\t\\t\\t\\t\\t\\t\\t\\t\\t\\t\\t\\t\\t\\t\\t\\t\\t\\t\\t\\t\\t\\t\\t\\t\\t\\t\\t\\t<img src=\"/utils/view.php?id=7cf2fd22eb19414cbd559058c1ff1a83\" alt=\"Fidelity Investments\" title=\"Fidelity Investments\">\\n\\t\\t\\t\\t\\t\\t\\t\\t\\t\\t\\t\\t\\t\\t\\t\\t\\t\\t\\t</a>\\n\\t\\t\\t\\t\\t\\t\\t\\t\\t\\t\\t\\t\\t\\t\\t\\t\\t\\t\\t\\t\\t\\t\\t\\t\\t\\t\\t\\t\\t\\t\\t\\t\\t\\t\\t\\t\\t\\t\\t\\t\\t\\t<a href=\"http://www.bostonscientific.com\" target=\"_blank\" data-cycle-title=\"\">\\n\\t\\t\\t\\t\\t\\t\\t\\t\\t\\t\\t\\t\\t\\t\\t\\t\\t\\t\\t\\t\\t\\t\\t\\t\\t\\t\\t\\t<img src=\"/utils/view.php?id=6eff47c38141f470fa93a03b58699b50\" alt=\"Boston Scientfic\" title=\"Boston Scientfic\">\\n\\t\\t\\t\\t\\t\\t\\t\\t\\t\\t\\t\\t\\t\\t\\t\\t\\t\\t\\t</a>\\n\\t\\t\\t\\t\\t\\t\\t\\t\\t\\t\\t\\t\\t\\t\\t\\t\\t\\t\\t\\t\\t\\t\\t\\t\\t\\t\\t\\t\\t\\t\\t\\t\\t\\t\\t\\t\\t\\t\\t\\t\\t\\t<a href=\"http://www.epsilon.com/\" target=\"_blank\" data-cycle-title=\"\">\\n\\t\\t\\t\\t\\t\\t\\t\\t\\t\\t\\t\\t\\t\\t\\t\\t\\t\\t\\t\\t\\t\\t\\t\\t\\t\\t\\t\\t<img src=\"/utils/view.php?id=1116c97f66576585a203cf23a669d4b2\" alt=\"Epsilon\" title=\"Epsilon\">\\n\\t\\t\\t\\t\\t\\t\\t\\t\\t\\t\\t\\t\\t\\t\\t\\t\\t\\t\\t</a>\\n\\t\\t\\t\\t\\t\\t\\t\\t\\t\\t\\t\\t\\t\\t\\t\\t\\t\\t\\t\\t\\t\\t\\t\\t\\t\\t\\t\\t\\t\\t\\t\\t\\t\\t\\t\\t\\t\\t\\t\\t\\t\\t<a href=\"http://www.vistaprint.com\" target=\"_blank\" data-cycle-title=\"\">\\n\\t\\t\\t\\t\\t\\t\\t\\t\\t\\t\\t\\t\\t\\t\\t\\t\\t\\t\\t\\t\\t\\t\\t\\t\\t\\t\\t\\t<img src=\"/utils/view.php?id=a022eaeaa8fb460200923c274a78239d\" alt=\"Vistaprint\" title=\"Vistaprint\">\\n\\t\\t\\t\\t\\t\\t\\t\\t\\t\\t\\t\\t\\t\\t\\t\\t\\t\\t\\t</a>\\n\\t\\t\\t\\t\\t\\t\\t\\t\\t\\t\\t\\t\\t\\t\\t\\t\\t\\t\\t\\t\\t\\t\\t\\t\\t\\t\\t\\t\\t\\t\\t\\t\\t\\t\\t\\t\\t\\t\\t\\t\\t\\t<a href=\"https://www.mysynchrony.com/\" target=\"_blank\" data-cycle-title=\"\">\\n\\t\\t\\t\\t\\t\\t\\t\\t\\t\\t\\t\\t\\t\\t\\t\\t\\t\\t\\t\\t\\t\\t\\t\\t\\t\\t\\t\\t<img src=\"/utils/view.php?id=decaf4f4aaac3c9f3c3a1c9720f485e2\" alt=\"Synchrony Financial\" title=\"Synchrony Financial\">\\n\\t\\t\\t\\t\\t\\t\\t\\t\\t\\t\\t\\t\\t\\t\\t\\t\\t\\t\\t</a>\\n\\t\\t\\t\\t\\t\\t\\t\\t\\t\\t\\t\\t\\t\\t\\t\\t\\t\\t\\t\\t\\t\\t\\t\\t\\t\\t\\t\\t\\t\\t\\t\\t\\t\\t\\t\\t\\t\\t\\t\\t\\t\\t<a href=\"http://careers.utc.com/utc-leadership-programs/financial-leadership-program/\" target=\"_blank\" data-cycle-title=\"\">\\n\\t\\t\\t\\t\\t\\t\\t\\t\\t\\t\\t\\t\\t\\t\\t\\t\\t\\t\\t\\t\\t\\t\\t\\t\\t\\t\\t\\t<img src=\"/utils/view.php?id=86bb1c520d572f4aadfb9ea65e1434db\" alt=\"United Technologies Corporation (UTC)\" title=\"United Technologies Corporation (UTC)\">\\n\\t\\t\\t\\t\\t\\t\\t\\t\\t\\t\\t\\t\\t\\t\\t\\t\\t\\t\\t</a>\\n\\t\\t\\t\\t\\t\\t\\t\\t\\t\\t\\t\\t\\t\\t\\t\\t\\t\\t\\t\\t\\t\\t\\t\\t\\t\\t\\t\\t\\t\\t\\t\\t\\t\\t\\t\\t\\t\\t\\t\\t\\t\\t<a href=\"http://www.libertymutual.com\" target=\"_blank\" data-cycle-title=\"\">\\n\\t\\t\\t\\t\\t\\t\\t\\t\\t\\t\\t\\t\\t\\t\\t\\t\\t\\t\\t\\t\\t\\t\\t\\t\\t\\t\\t\\t<img src=\"/utils/view.php?id=1c0f3b95cfbaf0b49a68ecbf8b3230dc\" alt=\"Liberty Mutual\" title=\"Liberty Mutual\">\\n\\t\\t\\t\\t\\t\\t\\t\\t\\t\\t\\t\\t\\t\\t\\t\\t\\t\\t\\t</a>\\n\\t\\t\\t\\t\\t\\t\\t\\t\\t\\t\\t\\t\\t\\t\\t\\t\\t\\t\\t\\t\\t\\t<p id=\"sponsors-caption\" class=\"cycle-caption caption\"></p>\\n\\t\\t\\t\\t\\t\\t</div>\\n\\t\\t\\t\\t\\t</div>\\n\\t\\t\\t\\t\\t\\t\\t\\t\\t\\t\\t<div class=\"actions\">\\n\\t\\t\\t\\t\\t\\t\\t<a class=\"lst-prev-btn\" title=\"previous\">previous</a>\\n\\t\\t\\t\\t\\t\\t\\t<a class=\"lst-next-btn\" title=\"Next\">Next</a>\\n\\t\\t\\t\\t\\t\\t</div>\\n\\t\\t\\t\\t\\t\\t\\t\\t\\t</div>\\n\\t\\t\\t\\t\\t\\t\\t\\t\\t\\t\\t\\t\\t\\t\\t\\t\\t\\t\\t\\t\\t\\t\\t\\t\\t\\t\\t\\t\\t\\t\\t\\t\\t\\t\\t\\t\\t<div class=\"card\">\\n\\t\\t\\t\\t\\t\\t<div class=\"content\">\\n\\t\\t\\t\\t\\t\\t\\t<h2>Shortcuts</h2>\\n\\t\\t\\t\\t\\t\\t\\t<ul>\\n\\t\\t\\t\\t\\t\\t\\t\\t\\t\\t\\t\\t\\t\\t\\t\\t\\t\\t\\t\\t\\t\\t\\t\\t<li>\\n\\t\\t\\t\\t\\t\\t\\t\\t\\t\\t\\t\\t\\t\\t\\t\\t\\t\\t\\t\\t\\t<a\\n\\t\\t\\t\\t\\t\\t\\t\\t\\t\\t\\t\\t\\t\\t\\t\\t\\t\\t\\t\\t\\t\\t\\thref=\"http://bentley.interviewstream.com/\" \\n\\t\\t\\t\\t\\t\\t\\t\\t\\t\\t\\t\\t\\t\\t\\t\\t\\t\\t\\t\\t\\t\\t\\ttarget=\"_blank\" \\n\\t\\t\\t\\t\\t\\t\\t\\t\\t\\t\\t\\t\\t\\t\\t\\t\\t\\t\\t\\t\\t\\t>InterviewStream - your online mock interview tool</a>\\n\\t\\t\\t\\t\\t\\t\\t\\t\\t\\t\\t\\t\\t\\t\\t\\t\\t\\t\\t</li>\\n\\t\\t\\t\\t\\t\\t\\t\\t\\t\\t\\t\\t\\t\\t\\t\\t\\t<li>\\n\\t\\t\\t\\t\\t\\t\\t\\t\\t\\t\\t\\t\\t\\t\\t\\t\\t\\t\\t\\t\\t<a\\n\\t\\t\\t\\t\\t\\t\\t\\t\\t\\t\\t\\t\\t\\t\\t\\t\\t\\t\\t\\t\\t\\t\\thref=\"http://www.usajobs.gov\" \\n\\t\\t\\t\\t\\t\\t\\t\\t\\t\\t\\t\\t\\t\\t\\t\\t\\t\\t\\t\\t\\t\\t\\ttarget=\"_blank\" \\n\\t\\t\\t\\t\\t\\t\\t\\t\\t\\t\\t\\t\\t\\t\\t\\t\\t\\t\\t\\t\\t\\t>USAJOBS - your one-stop source for Federal jobs</a>\\n\\t\\t\\t\\t\\t\\t\\t\\t\\t\\t\\t\\t\\t\\t\\t\\t\\t\\t\\t</li>\\n\\t\\t\\t\\t\\t\\t\\t\\t\\t\\t\\t\\t\\t\\t\\t\\t\\t<li>\\n\\t\\t\\t\\t\\t\\t\\t\\t\\t\\t\\t\\t\\t\\t\\t\\t\\t\\t\\t\\t\\t<a\\n\\t\\t\\t\\t\\t\\t\\t\\t\\t\\t\\t\\t\\t\\t\\t\\t\\t\\t\\t\\t\\t\\t\\thref=\"https://internhub.internships.com/\" \\n\\t\\t\\t\\t\\t\\t\\t\\t\\t\\t\\t\\t\\t\\t\\t\\t\\t\\t\\t\\t\\t\\t\\ttarget=\"_blank\" \\n\\t\\t\\t\\t\\t\\t\\t\\t\\t\\t\\t\\t\\t\\t\\t\\t\\t\\t\\t\\t\\t\\t>Intern Hub - internship postings for members of the Greater Boston Chamber of Commerce</a>\\n\\t\\t\\t\\t\\t\\t\\t\\t\\t\\t\\t\\t\\t\\t\\t\\t\\t\\t\\t</li>\\n\\t\\t\\t\\t\\t\\t\\t\\t\\t\\t\\t\\t\\t\\t\\t\\t\\t<li>\\n\\t\\t\\t\\t\\t\\t\\t\\t\\t\\t\\t\\t\\t\\t\\t\\t\\t\\t\\t\\t\\t<a\\n\\t\\t\\t\\t\\t\\t\\t\\t\\t\\t\\t\\t\\t\\t\\t\\t\\t\\t\\t\\t\\t\\t\\thref=\"http://careeredge.bentley.edu\" \\n\\t\\t\\t\\t\\t\\t\\t\\t\\t\\t\\t\\t\\t\\t\\t\\t\\t\\t\\t\\t\\t\\t\\ttarget=\"_blank\" \\n\\t\\t\\t\\t\\t\\t\\t\\t\\t\\t\\t\\t\\t\\t\\t\\t\\t\\t\\t\\t\\t\\t>Bentley CareerEdge</a>\\n\\t\\t\\t\\t\\t\\t\\t\\t\\t\\t\\t\\t\\t\\t\\t\\t\\t\\t\\t</li>\\n\\t\\t\\t\\t\\t\\t\\t\\t\\t\\t\\t\\t\\t\\t\\t\\t\\t<li>\\n\\t\\t\\t\\t\\t\\t\\t\\t\\t\\t\\t\\t\\t\\t\\t\\t\\t\\t\\t\\t\\t<a\\n\\t\\t\\t\\t\\t\\t\\t\\t\\t\\t\\t\\t\\t\\t\\t\\t\\t\\t\\t\\t\\t\\t\\thref=\"https://access.vault.com/career-insider-login.aspx?aid=257187\" \\n\\t\\t\\t\\t\\t\\t\\t\\t\\t\\t\\t\\t\\t\\t\\t\\t\\t\\t\\t\\t\\t\\t\\ttarget=\"_blank\" \\n\\t\\t\\t\\t\\t\\t\\t\\t\\t\\t\\t\\t\\t\\t\\t\\t\\t\\t\\t\\t\\t\\t>Vault - Career Research Tool to access company information and industry guides</a>\\n\\t\\t\\t\\t\\t\\t\\t\\t\\t\\t\\t\\t\\t\\t\\t\\t\\t\\t\\t</li>\\n\\t\\t\\t\\t\\t\\t\\t\\t\\t\\t\\t\\t\\t\\t\\t\\t\\t\\t\\t\\t\\t\\t</ul>\\n\\t\\t\\t\\t\\t\\t</div>\\n\\t\\t\\t\\t\\t</div>\\n\\t\\t\\t\\t\\t\\t\\t\\t\\t\\t\\t\\t\\t\\t\\t\\t\\t\\t\\t<div class=\"card\">\\n\\t\\t\\t\\t\\t\\t<div class=\"content\">\\n\\t\\t\\t\\t\\t\\t\\t<h2>Career Tools and Advising</h2>\\n\\t\\t\\t\\t\\t\\t\\t<ul>\\n\\t\\t\\t\\t\\t\\t\\t\\t\\t\\t\\t\\t\\t\\t\\t\\t\\t\\t\\t\\t\\t\\t\\t\\t<li>\\n\\t\\t\\t\\t\\t\\t\\t\\t\\t\\t\\t\\t\\t\\t\\t\\t\\t\\t\\t\\t\\t<a href=\"?_ksl=1&amp;ss=2&amp;s=resume&amp;mode=list&amp;id=\">Creating a Resume</a>\\n\\t\\t\\t\\t\\t\\t\\t\\t\\t\\t\\t\\t\\t\\t\\t\\t\\t\\t\\t</li>\\n\\t\\t\\t\\t\\t\\t\\t\\t\\t\\t\\t\\t\\t\\t\\t\\t\\t<li>\\n\\t\\t\\t\\t\\t\\t\\t\\t\\t\\t\\t\\t\\t\\t\\t\\t\\t\\t\\t\\t\\t<a href=\"?_ksl=1&amp;ss=1&amp;s=calendar&amp;mode=list&amp;id=\">Schedule Undergraduate Career Services Appointment</a>\\n\\t\\t\\t\\t\\t\\t\\t\\t\\t\\t\\t\\t\\t\\t\\t\\t\\t\\t\\t</li>\\n\\t\\t\\t\\t\\t\\t\\t\\t\\t\\t\\t\\t\\t\\t\\t\\t\\t\\t\\t\\t\\t\\t</ul>\\n\\t\\t\\t\\t\\t\\t</div>\\n\\t\\t\\t\\t\\t</div>\\n\\t\\t\\t\\t\\t\\t\\t\\t\\t\\t\\t\\t\\t\\t\\t\\t\\t\\t\\t<div class=\"card\">\\n\\t\\t\\t\\t\\t\\t<div class=\"content\">\\n\\t\\t\\t\\t\\t\\t\\t<h2>Find a Job</h2>\\n\\t\\t\\t\\t\\t\\t\\t<ul>\\n\\t\\t\\t\\t\\t\\t\\t\\t\\t\\t\\t\\t\\t\\t\\t\\t\\t\\t\\t\\t\\t\\t\\t\\t<li>\\n\\t\\t\\t\\t\\t\\t\\t\\t\\t\\t\\t\\t\\t\\t\\t\\t\\t\\t\\t\\t\\t<a\\n\\t\\t\\t\\t\\t\\t\\t\\t\\t\\t\\t\\t\\t\\t\\t\\t\\t\\t\\t\\t\\t\\t\\thref=\"?_ksl=1&amp;s=jobs&amp;ss=jobs&amp;mode=list&amp;_filter=nonocr_qualify\" \\n\\t\\t\\t\\t\\t\\t\\t\\t\\t\\t\\t\\t\\t\\t\\t\\t\\t\\t\\t\\t\\t\\t\\tonclick=\"startFullSpinner(\\'jobsearch\\');\" \\n\\t\\t\\t\\t\\t\\t\\t\\t\\t\\t\\t\\t\\t\\t\\t\\t\\t\\t\\t\\t\\t\\t><Resume Collections (Off-Campus) I Qualify For></a>\\n\\t\\t\\t\\t\\t\\t\\t\\t\\t\\t\\t\\t\\t\\t\\t\\t\\t\\t\\t</li>\\n\\t\\t\\t\\t\\t\\t\\t\\t\\t\\t\\t\\t\\t\\t\\t\\t\\t\\t\\t\\t\\t\\t</ul>\\n\\t\\t\\t\\t\\t\\t</div>\\n\\t\\t\\t\\t\\t</div>\\n\\t\\t\\t\\t\\t\\t\\t\\t\\t\\t\\t\\t\\t\\t\\t\\t\\t\\t\\t<div class=\"card\">\\n\\t\\t\\t\\t\\t\\t<div class=\"content\">\\n\\t\\t\\t\\t\\t\\t\\t<h2>Land an Interview</h2>\\n\\t\\t\\t\\t\\t\\t\\t<ul>\\n\\t\\t\\t\\t\\t\\t\\t\\t\\t\\t\\t\\t\\t\\t\\t\\t\\t\\t\\t\\t\\t\\t\\t\\t<li>\\n\\t\\t\\t\\t\\t\\t\\t\\t\\t\\t\\t\\t\\t\\t\\t\\t\\t\\t\\t\\t\\t<a href=\"?_ksl=1&amp;s=interviews&amp;ss=scheduled\">Scheduled On-Campus Interviews</a>\\n\\t\\t\\t\\t\\t\\t\\t\\t\\t\\t\\t\\t\\t\\t\\t\\t\\t\\t\\t</li>\\n\\t\\t\\t\\t\\t\\t\\t\\t\\t\\t\\t\\t\\t\\t\\t\\t\\t<li>\\n\\t\\t\\t\\t\\t\\t\\t\\t\\t\\t\\t\\t\\t\\t\\t\\t\\t\\t\\t\\t\\t<a href=\"?_ksl=1&amp;s=interviews&amp;ss=pending\">Pending On-Campus Interviews</a>\\n\\t\\t\\t\\t\\t\\t\\t\\t\\t\\t\\t\\t\\t\\t\\t\\t\\t\\t\\t</li>\\n\\t\\t\\t\\t\\t\\t\\t\\t\\t\\t\\t\\t\\t\\t\\t\\t\\t<li>\\n\\t\\t\\t\\t\\t\\t\\t\\t\\t\\t\\t\\t\\t\\t\\t\\t\\t\\t\\t\\t\\t<a\\n\\t\\t\\t\\t\\t\\t\\t\\t\\t\\t\\t\\t\\t\\t\\t\\t\\t\\t\\t\\t\\t\\t\\thref=\"?_ksl=1&amp;s=jobs&amp;ss=jobs&amp;mode=list&amp;_filter=qualify\" \\n\\t\\t\\t\\t\\t\\t\\t\\t\\t\\t\\t\\t\\t\\t\\t\\t\\t\\t\\t\\t\\t\\t\\tonclick=\"startFullSpinner(\\'jobsearch\\');\" \\n\\t\\t\\t\\t\\t\\t\\t\\t\\t\\t\\t\\t\\t\\t\\t\\t\\t\\t\\t\\t\\t\\t>On-Campus Interviews I Qualify For</a>\\n\\t\\t\\t\\t\\t\\t\\t\\t\\t\\t\\t\\t\\t\\t\\t\\t\\t\\t\\t</li>\\n\\t\\t\\t\\t\\t\\t\\t\\t\\t\\t\\t\\t\\t\\t\\t\\t\\t\\t\\t\\t\\t\\t</ul>\\n\\t\\t\\t\\t\\t\\t</div>\\n\\t\\t\\t\\t\\t</div>\\n\\t\\t\\t\\t\\t\\t\\t\\t\\t\\t\\t\\t\\t\\t\\t\\t\\t\\t\\t\\t\\t\\t\\t\\t\\t\\t\\t\\t<div class=\"card\">\\n\\t\\t\\t\\t\\t\\t<div class=\"content\">\\n\\t\\t\\t\\t\\t\\t\\t<h2>Attend Events</h2>\\n\\t\\t\\t\\t\\t\\t\\t<ul>\\n\\t\\t\\t\\t\\t\\t\\t\\t\\t\\t\\t\\t\\t\\t\\t\\t\\t\\t\\t\\t\\t\\t\\t\\t<li>\\n\\t\\t\\t\\t\\t\\t\\t\\t\\t\\t\\t\\t\\t\\t\\t\\t\\t\\t\\t\\t\\t<a href=\"?_ksl=1&amp;s=event&amp;ss=cf&amp;mode=form&amp;id=479958b7962bc056a9dbc2d5a4ddee96\">PRE-REGISTRATION EVENTS - For Bentley University Fall 2016 Career Fair (attend one date) Participants</a>\\n\\t\\t\\t\\t\\t\\t\\t\\t\\t\\t\\t\\t\\t\\t\\t\\t\\t\\t\\t</li>\\n\\t\\t\\t\\t\\t\\t\\t\\t\\t\\t\\t\\t\\t\\t\\t\\t\\t<li>\\n\\t\\t\\t\\t\\t\\t\\t\\t\\t\\t\\t\\t\\t\\t\\t\\t\\t\\t\\t\\t\\t<a href=\"?_ksl=1&amp;s=event&amp;ss=cf&amp;mode=form&amp;id=66dd07f80deab08fcf44d646b1082921\">Bentley University Spring 2017 Career Fair - 2/15/2017 Participants</a>\\n\\t\\t\\t\\t\\t\\t\\t\\t\\t\\t\\t\\t\\t\\t\\t\\t\\t\\t\\t</li>\\n\\t\\t\\t\\t\\t\\t\\t\\t\\t\\t\\t\\t\\t\\t\\t\\t\\t<li>\\n\\t\\t\\t\\t\\t\\t\\t\\t\\t\\t\\t\\t\\t\\t\\t\\t\\t\\t\\t\\t\\t<a href=\"?_ksl=1&amp;s=event&amp;ss=cf&amp;mode=form&amp;id=6db9e22192559b31b872c6fdb5ae6616\">Networking Night for Creative Engagement, Management, and Professional Sales - 10/25/16 Participants</a>\\n\\t\\t\\t\\t\\t\\t\\t\\t\\t\\t\\t\\t\\t\\t\\t\\t\\t\\t\\t</li>\\n\\t\\t\\t\\t\\t\\t\\t\\t\\t\\t\\t\\t\\t\\t\\t\\t\\t\\t\\t\\t\\t\\t</ul>\\n\\t\\t\\t\\t\\t\\t</div>\\n\\t\\t\\t\\t\\t</div>\\n\\t\\t\\t\\t\\t\\t\\t\\t\\t\\t\\t\\t\\t\\t\\t\\t\\t\\t\\t<div class=\"card\">\\n\\t\\t\\t\\t\\t\\t<div class=\"content\">\\n\\t\\t\\t\\t\\t\\t\\t<h2>more</h2>\\n\\t\\t\\t\\t\\t\\t\\t<ul>\\n\\t\\t\\t\\t\\t\\t\\t\\t\\t\\t\\t\\t\\t\\t\\t\\t\\t\\t\\t\\t\\t\\t\\t\\t<li>\\n\\t\\t\\t\\t\\t\\t\\t\\t\\t\\t\\t\\t\\t\\t\\t\\t\\t\\t\\t\\t\\t<a href=\"?_ksl=1&amp;s=profile&amp;ss=explearning\">Exp. Learning</a>\\n\\t\\t\\t\\t\\t\\t\\t\\t\\t\\t\\t\\t\\t\\t\\t\\t\\t\\t\\t</li>\\n\\t\\t\\t\\t\\t\\t\\t\\t\\t\\t\\t\\t\\t\\t\\t\\t\\t<li>\\n\\t\\t\\t\\t\\t\\t\\t\\t\\t\\t\\t\\t\\t\\t\\t\\t\\t\\t\\t\\t\\t<a href=\"?_ksl=1&amp;s=profile&amp;ss=summary\">Activity Summary</a>\\n\\t\\t\\t\\t\\t\\t\\t\\t\\t\\t\\t\\t\\t\\t\\t\\t\\t\\t\\t</li>\\n\\t\\t\\t\\t\\t\\t\\t\\t\\t\\t\\t\\t\\t\\t\\t\\t\\t<li>\\n\\t\\t\\t\\t\\t\\t\\t\\t\\t\\t\\t\\t\\t\\t\\t\\t\\t\\t\\t\\t\\t<a href=\"?_ksl=1&s=resource&ss=onet\">Career Explorer</a>\\n\\t\\t\\t\\t\\t\\t\\t\\t\\t\\t\\t\\t\\t\\t\\t\\t\\t\\t\\t</li>\\n\\t\\t\\t\\t\\t\\t\\t\\t\\t\\t\\t\\t\\t\\t\\t\\t\\t<li>\\n\\t\\t\\t\\t\\t\\t\\t\\t\\t\\t\\t\\t\\t\\t\\t\\t\\t\\t\\t\\t\\t<a href=\"?_ksl=1&amp;s=resource&amp;_ql=doclibrary\">View Virtual Career Center</a>\\n\\t\\t\\t\\t\\t\\t\\t\\t\\t\\t\\t\\t\\t\\t\\t\\t\\t\\t\\t</li>\\n\\t\\t\\t\\t\\t\\t\\t\\t\\t\\t\\t\\t\\t\\t\\t\\t\\t\\t\\t\\t\\t\\t</ul>\\n\\t\\t\\t\\t\\t\\t</div>\\n\\t\\t\\t\\t\\t</div>\\n\\t\\t\\t\\t\\t\\t\\t\\t\\t\\t\\t\\t\\t\\t\\t\\t\\t\\t\\t<div class=\"card jumpto-card\">\\n\\t\\t\\t\\t\\t<div class=\"content\">\\n\\t\\t\\t\\t\\t\\t<h2>Jump To</h2>\\n\\t\\t\\t\\t\\t\\t<div class=\"list-full-width\">\\n\\t\\t\\t\\t\\t\\t\\t<ul><li><a href=\"http://online.goinglobal.com/default.aspx?accid=20100906jdlksjdsiufoyewriuhewkjrhi37264873264iu3hekjwanhdkjsadkszgfcyutewuyri749836873terkjesanhfdk\" title=\"Login to Going Global\" target=\"goingglobal_win\"><img src=\"/si_ei/2010/jumpto-goingglobal.gif\" alt=\"Login to Going Global\" style=\"\" /></a></li><li><a href=\"http://online.usacareerguides.com/default.aspx?accid=20100906jdlksjdsiufoyewriuhewkjrhi37264873264iu3hekjwanhdkjsadkszgfcyutewuyri749836873terkjesanhfdk\" title=\"Login to Going Global City Guide\" target=\"goingglobal_city_win\"><img src=\"/si_ei/2010/jumpto-usacareerguides.gif\" alt=\"Login to Going Global City Guide\" style=\"\" /></a></li></ul>\\n\\t\\t\\t\\t\\t\\t</div>\\n\\t\\t\\t\\t\\t</div>\\n\\t\\t\\t\\t</div>\\n\\t\\t\\t\\t\\t\\t\\t\\t\\t\\t\\t\\t\\t\\t\\t\\t\\t\\t\\t\\t\\t\\t\\t\\t\\t\\t\\t\\t\\t\\t<div class=\"card gettingstarted-card\">\\n\\t\\t\\t\\t\\t\\t<div class=\"content\">\\n\\t\\t\\t\\t\\t\\t\\t<h2>Getting Started</h2>\\n\\t\\t\\t\\t\\t\\t\\t<ul>\\n\\t\\t\\t\\t\\t\\t\\t\\t\\t\\t\\t\\t\\t\\t\\t\\t\\t\\t\\t\\t\\t\\t\\t\\t\\t\\t\\t<li>\\n\\t\\t\\t\\t\\t\\t\\t\\t\\t\\t\\t<span class=\"ti-check\"></span>\\n\\t\\t\\t\\t\\t\\t\\t\\t\\t\\t\\t<a href=\"\" class=\"ql-complete\">Account Created</a>\\n\\t\\t\\t\\t\\t\\t\\t\\t\\t\\t</li>\\n\\t\\t\\t\\t\\t\\t\\t\\t\\t\\t\\t\\t\\t\\t\\t\\t\\t\\t\\t\\t\\t\\t\\t\\t\\t\\t\\t\\t\\t\\t\\t\\t\\t\\t\\t\\t<li>\\n\\t\\t\\t\\t\\t\\t\\t\\t\\t\\t\\t<span class=\"ti-check\"></span>\\n\\t\\t\\t\\t\\t\\t\\t\\t\\t\\t\\t<a href=\"?s=profile&=&ss=profile\" class=\"ql-complete\">Personal Profile</a>\\n\\t\\t\\t\\t\\t\\t\\t\\t\\t\\t</li>\\n\\t\\t\\t\\t\\t\\t\\t\\t\\t\\t\\t\\t\\t\\t\\t\\t\\t\\t\\t\\t\\t\\t\\t\\t\\t\\t\\t\\t\\t\\t\\t\\t\\t\\t\\t\\t<li>\\n\\t\\t\\t\\t\\t\\t\\t\\t\\t\\t\\t<span class=\"ti-check\"></span>\\n\\t\\t\\t\\t\\t\\t\\t\\t\\t\\t\\t<a href=\"?s=profile&ss=sprofile\" class=\"ql-complete\">Academic Profile</a>\\n\\t\\t\\t\\t\\t\\t\\t\\t\\t\\t</li>\\n\\t\\t\\t\\t\\t\\t\\t\\t\\t\\t\\t\\t\\t\\t\\t\\t\\t\\t\\t\\t\\t\\t\\t\\t\\t\\t\\t\\t\\t\\t\\t\\t\\t\\t\\t\\t<li>\\n\\t\\t\\t\\t\\t\\t\\t\\t\\t\\t\\t<span class=\"ti-check\"></span>\\n\\t\\t\\t\\t\\t\\t\\t\\t\\t\\t\\t<a href=\"?s=profile&=&ss=pref\" class=\"ql-complete\">Privacy Settings</a>\\n\\t\\t\\t\\t\\t\\t\\t\\t\\t\\t</li>\\n\\t\\t\\t\\t\\t\\t\\t\\t\\t\\t\\t\\t\\t\\t\\t\\t\\t\\t\\t\\t\\t\\t\\t\\t\\t\\n\\t\\t\\t\\t\\t\\t\\t\\t\\t\\t\\t\\t\\t\\t\\t\\t\\t\\t\\t\\t\\t\\t\\t\\t\\t\\t\\t\\t\\t\\t\\t\\t\\t\\t\\t\\t\\t\\t\\t\\t\\t\\t\\t\\t\\t\\t\\t\\t\\t\\t\\t\\t\\t\\t\\t\\t\\t\\t\\t\\t\\t\\t\\t\\t\\t\\t\\t\\t\\t\\t\\t\\t\\t\\t\\t\\t\\t\\t\\t\\t\\t\\t\\t</ul>\\n\\t\\t\\t\\t\\t\\t</div>\\n\\t\\t\\t\\t\\t</div>\\n\\t\\t\\t\\t\\n\\t\\t\\t\\t\\t\\t\\t\\t\\t\\t<div class=\"card\">\\n\\t\\t\\t\\t\\t<div class=\"content\">\\n\\t\\t\\t\\t\\t\\t<div id=\"fp-comment\"><a href=\"#\">Your feedback is welcome.</a>\\n<div id=\"home-feedback\" style=\"display:none\">\\n\\t<form method=\"post\" name=\"feedback_form\" action=\"?s=home\">\\n\\t\\t<div class=\"hd\">Any Comments or Questions?</div>\\n\\t\\t\\t\\t\\t<div class=\"bd\">\\n\\t\\t\\t\\t<div class=\"form\">\\n\\t\\t\\t\\t\\t<div class=\"field\">\\n\\t\\t\\t\\t\\t\\t<div class=\"field-label\"><label for=\"cq_field\">Your feedback is welcome.</label></div>\\n\\t\\t\\t\\t\\t\\t<div class=\"field-widget\"><textarea name=\"feedback_msg\" id=\"cq_field\"></textarea></div>\\n\\t\\t\\t\\t\\t</div>\\n\\t\\t\\t\\t\\t<div class=\"buttonbar buttonbar-bottom\">\\n\\t\\t\\t\\t\\t\\t<input type=\"submit\" name=\"feedback_submit\" value=\"submit\" class=\"input-submit btn btn_primary\">\\t\\t\\t\\t\\t</div>\\n\\t\\t\\t\\t</div>\\n\\t\\t\\t</div>\\n\\t\\t\\t</form>\\n</div>\\n</div>\\n\\n\\t\\t\\t\\t\\t</div>\\n\\t\\t\\t\\t</div>\\n\\t\\t\\t\\t\\t</div>\\n\\t</div>\\n</div>\\n\\t\\t\\t\\t\\t<div class=\"page-footer\">\\n\\t\\t\\t\\t<div class=\"footer-image\">\\n\\t\\t\\t\\t\\t\\t\\t\\t\\t\\t\\t<a href=\"http://symplicity.com/career_services_manager_csm\" target=\"_blank\"><img src=\"/si_ei/images/nacelink_csm_footer_branding.png\" alt=\"Software by Symplicity\" /></a>\\n\\t\\t\\t\\t\\t\\t\\t\\t\\t</div>\\n\\t\\t\\t\\t<div>\\n\\t\\t\\t\\t\\t\\t\\t\\t\\t\\t\\t<div class=\"footer-blurb\">\\n\\t\\t\\t\\t\\t\\t\\tNACElink Network is a collaboration between NACE, Symplicity, DirectEmployers and your college/university.\\t\\t\\t\\t\\t\\t</div>\\n\\t\\t\\t\\t\\t\\t\\t\\t\\t\\t<div class=\"footer-links\">\\n\\t\\t\\t\\t\\t\\t<a href=\"http://www.symplicity.com/privacy_policy\" target=\"_blank\">Privacy Policy</a> | <a href=\"http://www.symplicity.com/terms_of_use\" target=\"_blank\">Terms of Use</a>\\n\\t\\t\\t\\t\\t\\t\\t\\t\\t\\t\\t</div>\\n\\t\\t\\t\\t</div>\\n\\t\\t\\t</div>\\n\\t\\t\\t\\t\\t\\t\\t<div class=\"page-text-footer\">\\n\\t\\t\\t\\t\\r\\n\\r\\n\\r\\n\\r\\n  \\r\\n  \\r\\n    \\r\\n      \\r\\n        \\r\\n                  CAREER SERVICES CONTACT INFORMATION AND HOURS OF OPERATIONS\\r\\n          \\xc2\\xa0\\r\\n        \\r\\n        \\r\\n          UNDERGRADUATE\\r\\n          GRADUATE\\r\\n          RECRUITING OFFICE\\r\\n        \\r\\n        \\r\\n          <p>LaCava 225 | 781.891.2375<br />\\r\\n            <br />\\r\\n            Mon. - Fri.: 8:30 a.m. - 4:30 p.m.<br />\\r\\n            <br />\\r\\n          </p>\\r\\n          <p>LaCava 220 | 781.891.2164 <br>\\r\\n            <br>\\r\\n             Mon. - Fri.: 8:30 a.m. - 4:30 p.m.*<br>\\r\\n                              <br>\\r\\n                *By appointment only</p>              \\r\\n          <p>LaCava 205 | 781.891.3423<br />\\r\\n                  <br />\\r\\n            Mon. - Fri.: 8:30 a.m. - 4:30 p.m.</p>\\r\\n        \\r\\n        \\r\\n          \\xc2\\xa0\\r\\n          \\xc2\\xa0\\r\\n          \\xc2\\xa0\\r\\n        \\r\\n      \\r\\n    \\r\\n      \\r\\n      \\r\\n        <a href=\"http://www.bentley.edu/directions/\" class=\"nace-footer-footers\">175 Forest Street  \\t  Waltham,   \\t  Massachusetts  \\t  02452 USA</a> <a href=\"http://www.bentley.edu/contact.cfm\" class=\"nace-footer-footers\">T: +1.781.891.2000</a>\\r\\n        \\xc2\\xa0\\r\\n        <a href=\"http://www.bentley.edu/copyright.cfm\" class=\"nace-footer-footers\">Copyright</a> | <a href=\"http://www.bentley.edu/privacy.cfm\" class=\"nace-footer-footers\">Privacy</a> | <a href=\"http://www.bentley.edu/policies/index.cfm\" class=\"nace-footer-footers\">Policies</a> | <a href=\"http://www.bentley.edu/sitemap.cfm\" class=\"nace-footer-footers\">Sitemap</a>\\r\\n      \\r\\n    \\r\\n    \\r\\n\\r\\n\\r\\n\\r\\n\\n\\t\\t\\t</div>\\n\\t\\t\\t\\t<div>\\n\\t\\t\\t\\t\\t\\t\\t<IFRAME name=\"__hiddenframe1\" src=\"about:blank\" width=\"1\" height=\"1\" frameborder=\"0\"></IFRAME>\\n\\t\\t\\t\\t\\t\\t\\t<IFRAME name=\"__hiddenframe2\" src=\"about:blank\" width=\"1\" height=\"1\" frameborder=\"0\"></IFRAME>\\n\\t\\t\\t\\t\\t\\t\\t<IFRAME name=\"__hiddenframe3\" src=\"about:blank\" width=\"1\" height=\"1\" frameborder=\"0\"></IFRAME>\\n\\t\\t\\t\\t\\t\\t\\t<IFRAME name=\"__hiddenframe4\" src=\"about:blank\" width=\"1\" height=\"1\" frameborder=\"0\"></IFRAME>\\n\\t\\t\\t\\t\\t\\t\\t<IFRAME name=\"__hiddenframe5\" src=\"about:blank\" width=\"1\" height=\"1\" frameborder=\"0\"></IFRAME>\\n\\t\\t\\t\\t\\t</div>\\n\\t\\t\\n\\t\\t<div class=\"yui-skin-sam\">\\n\\t\\t\\t<div id=\"batcheditpanel\"></div>\\n\\t\\t\\t<div id=\"popdiv_placeholder\"></div>\\n\\t\\t\\t<div id=\"dialog_placeholder\"></div>\\n\\t\\t\\t<div id=\"notice_placeholder\"></div>\\n\\t\\t</div>\\n\\t</div>\\n\\t<script type=\"text/javascript\" src=\"/js/spinner.js?t=1480967843\"></script>\\n<script type=\"text/javascript\" src=\"/components/valkyrie/js/actions-toggle.js?t=1481753763\"></script>\\n<script type=\"text/javascript\" src=\"/jscache/0/0dea808893e9ab7cb8eb62cabc0f5a7c.js\"></script>\\n<script type=\"text/javascript\">\\nfunction printPreview(warn) {\\n  var confirmation = true;\\n  if (warn == true) {\\n    confirmation = confirm(\\'Only saved data will be printed. Click OK to continue or Cancel to go back and save first.\\');\\n  }\\n  if (confirmation) {\\n    window.open(\\'/students/index.php?_do_print=1&print_v=1484273772\\',\\'printer_friendly\\',\\'location=0,menubar=1,toolbar=1,resizable=1,scrollbars=1\\');\\n  } else {\\n    return false;\\n  }\\n}\\n\\nvar shouldprint = false;\\n\\nfunction printQuick() {\\n  \\n    frame = frames[\\'__hiddenframe\\'+nextFrame()];\\n    frame.location.href = \\'/students/index.php?_do_print=1&_do_print_quick=1&version=1484273772\\';\\n    shouldprint = true;\\n}\\nfunction printMeOnce(frame) {\\n  if (shouldprint) {\\n    frame.focus();\\n\\tif (typeof(frame.window.print) == \\'function\\') {\\n\\t  frame.window.print();\\n        }\\n        else {\\n          print();\\n        }\\n  }\\n}\\n\\n var _gaq = _gaq || [];\\n\\n_gaq.push([\\'_setAccount\\', \\'UA-12730569-6\\']);\\n_gaq.push([\\'_setDomainName\\', \\'career-bentley-csm.symplicity.com\\']);\\n\\n_gaq.push([\\'_setCustomVar\\', 1, \\'Section\\', \\'home\\', 3]);\\n_gaq.push([\\'_setCustomVar\\', 2, \\'Subsection\\', \\'None\\', 3]);\\n_gaq.push([\\'_setCustomVar\\', 3, \\'Subsystem\\', \\'students\\', 2]);\\n_gaq.push([\\'_setCustomVar\\', 4, \\'User\\', \\'li_xian@bentley.edu\\', 1]);\\n_gaq.push([\\'_setCustomVar\\', 5, \\'Instance\\', \\'career-bentley\\', 3]);\\n\\n_gaq.push([\\'_setCampNameKey\\',\\'SectionTracker\\']);\\n_gaq.push([\\'_setCampMediumKey\\',\\'cpc\\']);\\n_gaq.push([\\'_setCampSourceKey\\',\\'csm\\']);\\n_gaq.push([\\'_setCampTermKey\\',\\'section\\']);\\n_gaq.push([\\'_setCampContentKey\\',\\'home\\']);\\n\\n\\nvar ad_height = jQuery(\\'.adsense_wrapper\\').innerHeight() || 0;\\nvar ad_rendered = false;\\nvar ad_action = false;\\nif (ad_height > 100) {\\n\\tad_rendered = true;\\n\\tad_action = \\'rendered\\'\\n} else if (ad_height > 0) {\\n\\tad_rendered = true;\\n\\tad_action = \\'blocked\\';\\n}\\nif (ad_rendered) {\\n\\t_gaq.push([\\'_trackEvent\\', \\'Ads\\', ad_action, \\'/students/home\\']);\\n}\\n_gaq.push([\\'_trackPageview\\', \\'/students/home\\']);\\n\\n\\n          _gaq.push(\\n                    [\\'b._setAccount\\', \\'UA-38226995-1\\'],\\n                    [\\'b._setDomainName\\', \\'career-bentley-csm.symplicity.com\\'],\\n                    [\\'b._setCustomVar\\', 1, \\'Interface\\', \\'students\\', 2],\\n                    [\\'b._trackPageview\\', \\'/students/home\\']\\n                   );\\n\\n  (function() { var ga = document.createElement(\\'script\\'); ga.type = \\'text/javascript\\'; ga.async = true; ga.src = (\\'https:\\' == document.location.protocol ? \\'https://ssl\\' : \\'http://www\\') + \\'.google-analytics.com/ga.js\\'; var s = document.getElementsByTagName(\\'script\\')[0]; s.parentNode.insertBefore(ga, s);  })();\\n\\n\\n\\n\\t\\t\\t\\t\\t\\tnew SmartBanner({\\n\\t\\t\\t\\t\\t\\t\\t\\tdaysHidden: 15,\\n\\t\\t\\t\\t\\t\\t\\t\\tdaysReminder: 90,\\n\\t\\t\\t\\t\\t\\t\\t\\tappStoreLanguage: \\'us\\',\\n\\t\\t\\t\\t\\t\\t\\t\\ttitle: \\'Careers by Symplicity\\',\\n\\t\\t\\t\\t\\t\\t\\t\\tauthor: \\'Symplicity\\',\\n\\t\\t\\t\\t\\t\\t\\t\\tbutton: \\'OPEN\\'\\n\\t\\t\\t\\t\\t\\t});\\n\\t\\t\\t\\t\\t\\nJSRPC.Checksum = \"06269efd25360c05942a8a8de830c521\";\\nJSRPC.Action = \"\\\\/students\\\\/index.php\";\\nvar hideHint = new JSRPC.Method(\\'hideHint\\', \\'CLMhXK_mAYTvmH7Dogrwow\\', []);\\nHideHint = JSRPC.ExtendStatic(typeof HideHint == \\'undefined\\' ? {} : HideHint, {\\n\\tuser : \"li_xian@bentley.edu\"\\n});</script>\\n</body>\\n</html>'"
      ]
     },
     "execution_count": 33,
     "metadata": {},
     "output_type": "execute_result"
    }
   ],
   "source": [
    "result.content"
   ]
  },
  {
   "cell_type": "code",
   "execution_count": 51,
   "metadata": {
    "collapsed": true
   },
   "outputs": [],
   "source": [
    "sessiondict={}\n",
    "\n",
    "sessiondict['ASP.NET_SessionId']='tk4w1hkb5dyxozpnl0rlkflq'\n",
    "\n",
    "sessiondict['Auth_WebregLookup']='D451CA013C8BDAA9C88D7259B7C0093AB8F9251331CBFEFA6D636FEC3592E2C350ED397476545B9E59C334679560259F49E7D6E3B61D8012DCC9F5AE185BF6269CD6CCED0B77B8D038B5F613D4EACD90598DC1B8DD1D8D4F6B8A68CAD78A0A08'\n",
    "\n",
    "sessiondict['NSC_Qspe_tfdvsfsnw2010']='ffffffffaf191e2645525d5f4f58455e445a4a423660'\n",
    "\n",
    "sessiondict['SupportsCookies']='true&LoginAttempts=0'\n",
    "\n",
    "sessiondict['_ga']='GA1.3.1802863453.1484173031'\n",
    "\n",
    "sessiondict['_gat']='1'\n",
    "\n",
    "# Configure your cookie here"
   ]
  },
  {
   "cell_type": "code",
   "execution_count": 52,
   "metadata": {
    "collapsed": true
   },
   "outputs": [],
   "source": [
    "user_agent = ('Mozilla/5.0 (Macintosh; Intel Mac OS X 10_10_3) AppleWebKit/537.36 (KHTML, like Gecko) Chrome/55.0.2883.95 Safari/537.36')"
   ]
  },
  {
   "cell_type": "code",
   "execution_count": 53,
   "metadata": {
    "collapsed": true
   },
   "outputs": [],
   "source": [
    "session = requests.session()"
   ]
  },
  {
   "cell_type": "code",
   "execution_count": 54,
   "metadata": {
    "collapsed": true
   },
   "outputs": [],
   "source": [
    "session.headers['User-Agent'] = user_agent"
   ]
  },
  {
   "cell_type": "code",
   "execution_count": 55,
   "metadata": {
    "collapsed": true
   },
   "outputs": [],
   "source": [
    "session.headers[\"Connection\"] =\"close\""
   ]
  },
  {
   "cell_type": "code",
   "execution_count": 56,
   "metadata": {
    "collapsed": true
   },
   "outputs": [],
   "source": [
    "session.cookies.update(sessiondict)"
   ]
  },
  {
   "cell_type": "code",
   "execution_count": 58,
   "metadata": {
    "collapsed": false
   },
   "outputs": [],
   "source": [
    "r=session.get('https://secure.rmv.state.ma.us/myRMV/Dashboard.aspx')"
   ]
  },
  {
   "cell_type": "code",
   "execution_count": 59,
   "metadata": {
    "collapsed": false
   },
   "outputs": [
    {
     "data": {
      "text/plain": [
       "True"
      ]
     },
     "execution_count": 59,
     "metadata": {},
     "output_type": "execute_result"
    }
   ],
   "source": [
    "r.ok"
   ]
  },
  {
   "cell_type": "code",
   "execution_count": 61,
   "metadata": {
    "collapsed": false
   },
   "outputs": [],
   "source": [
    "text=r.content"
   ]
  },
  {
   "cell_type": "code",
   "execution_count": 62,
   "metadata": {
    "collapsed": false
   },
   "outputs": [
    {
     "name": "stderr",
     "output_type": "stream",
     "text": [
      "/Users/stact/anaconda/lib/python3.5/site-packages/bs4/__init__.py:181: UserWarning: No parser was explicitly specified, so I'm using the best available HTML parser for this system (\"lxml\"). This usually isn't a problem, but if you run this code on another system, or in a different virtual environment, it may use a different parser and behave differently.\n",
      "\n",
      "The code that caused this warning is on line 184 of the file /Users/stact/anaconda/lib/python3.5/runpy.py. To get rid of this warning, change code that looks like this:\n",
      "\n",
      " BeautifulSoup([your markup])\n",
      "\n",
      "to this:\n",
      "\n",
      " BeautifulSoup([your markup], \"lxml\")\n",
      "\n",
      "  markup_type=markup_type))\n"
     ]
    }
   ],
   "source": [
    "soup=BeautifulSoup(text)"
   ]
  },
  {
   "cell_type": "code",
   "execution_count": 63,
   "metadata": {
    "collapsed": false
   },
   "outputs": [
    {
     "data": {
      "text/plain": [
       "<title>\n",
       "\tmyRMV - Massachusetts Registry of Motor Vehicles\n",
       "</title>"
      ]
     },
     "execution_count": 63,
     "metadata": {},
     "output_type": "execute_result"
    }
   ],
   "source": [
    "soup.title"
   ]
  },
  {
   "cell_type": "code",
   "execution_count": 64,
   "metadata": {
    "collapsed": false
   },
   "outputs": [
    {
     "data": {
      "text/plain": [
       "<!DOCTYPE html>\n",
       "<html lang=\"en-us\" xmlns=\"http://www.w3.org/1999/xhtml\">\n",
       "<head><title>\n",
       "\tmyRMV - Massachusetts Registry of Motor Vehicles\n",
       "</title><meta charset=\"utf-8\"/><meta content=\"IE=edge\" http-equiv=\"X-UA-Compatible\"/><meta content=\"width=device-width, initial-scale=1\" name=\"viewport\"/><meta content=\"MassDOT and the Massachusetts Registry of Motor Vehicles are proud to offer myRMV, your portal to secure, straight-forward, and personal online service. myRMV includes License Renew, License Duplicate, License Status, Address Change, Organ Donor, Registration Status, Title Status and outstanding Obligations.\" name=\"Description\"/><link href=\"BotDetectCaptcha.ashx?get=layoutStyleSheet\" rel=\"stylesheet\" type=\"text/css\"/><link href=\"CSS/RMVStyle.css\" rel=\"stylesheet\"/><link href=\"Bootstrap/css/bootstrap.css\" rel=\"stylesheet\"/>\n",
       "<link href=\"/myRMV/WebResource.axd?d=UT1Cj7SEzX8U-GEgOjD-q9vt-6VBAJudlnG6ZD2rlptDqwB_LynvRy5cR5jc0qROkXlKoLTheYUYW4Odv3DVrwWDCB_QaAWueHdW5cf1wiDVy1L5MdgpRycl39ltAZJp8G7ByHkwR_8byO4cxMqOEQ2&amp;t=635767124420000000\" rel=\"stylesheet\" type=\"text/css\"/></head>\n",
       "<body>\n",
       "<form action=\"./Authentication.aspx?ReturnUrl=%2fmyRMV%2fDashboard.aspx\" autocomplete=\"off\" id=\"form1\" method=\"post\" onkeypress=\"javascript:return WebForm_FireDefaultButton(event, 'MasterPageContent_btnSignin')\" onsubmit=\"javascript:return WebForm_OnSubmit();\">\n",
       "<div class=\"aspNetHidden\">\n",
       "<input id=\"__EVENTTARGET\" name=\"__EVENTTARGET\" type=\"hidden\" value=\"\"/>\n",
       "<input id=\"__EVENTARGUMENT\" name=\"__EVENTARGUMENT\" type=\"hidden\" value=\"\"/>\n",
       "<input id=\"__VIEWSTATE\" name=\"__VIEWSTATE\" type=\"hidden\" value=\"yIS7WV40QpGVsMsDjZVfkp2w8VYxJzP3KKP+geIgsWJP1fo+wzMAziNrnCUs94ek8or5gvadmIEcldsk2/vjrP5eacICWoxR0Thnt25LGeekQt6GztQLIA9/xj/MFfJfumpiiKDZQQL/x+VHrANKJKyrXgQDEzZ+QIqFeXaq0Wk=\"/>\n",
       "</div>\n",
       "<script type=\"text/javascript\">\n",
       "//<![CDATA[\n",
       "var theForm = document.forms['form1'];\n",
       "if (!theForm) {\n",
       "    theForm = document.form1;\n",
       "}\n",
       "function __doPostBack(eventTarget, eventArgument) {\n",
       "    if (!theForm.onsubmit || (theForm.onsubmit() != false)) {\n",
       "        theForm.__EVENTTARGET.value = eventTarget;\n",
       "        theForm.__EVENTARGUMENT.value = eventArgument;\n",
       "        theForm.submit();\n",
       "    }\n",
       "}\n",
       "//]]>\n",
       "</script>\n",
       "<script src=\"/myRMV/WebResource.axd?d=pynGkmcFUV13He1Qd6_TZJTO0o2V1dRVp8nQfizN55awfD1C2Ar27qdZ3_32caNwPORdTNMmeMmG8-i2I9JgYw2&amp;t=635875329181218729\" type=\"text/javascript\"></script>\n",
       "<script src=\"/myRMV/ScriptResource.axd?d=nv7asgRUU0tRmHNR2D6t1K0DbNx7Pi25IrQtPQBeJfJ2GYwGuxX6yYxjn-hg7tRMk_-6N4G5iEzyfRvXNvKsGVBBf2kqa1QAHamS0ZeM1QlP0PYvIi_fKZ5LT8YU9R_HECBXvqsPyJfU-R528vfv6A2&amp;t=1c6690ce\" type=\"text/javascript\"></script>\n",
       "<script src=\"/myRMV/ScriptResource.axd?d=D9drwtSJ4hBA6O8UhT6CQiOskJjHcu4_OUpigECHbteKd6EiTXx12Ewagk1HrZJ7MuXUg-NNOTZzqFXtC-VHCKdpdhTplAXlKAqBJZ7425hUbwmoSLNn20czjUEKJ7mtQxeq_QDG-3GvltbXZ-06RqVwIVqxRHWQOiRLdtOR7Dw1&amp;t=ffffffffeea0dba9\" type=\"text/javascript\"></script>\n",
       "<script type=\"text/javascript\">\n",
       "//<![CDATA[\n",
       "if (typeof(Sys) === 'undefined') throw new Error('ASP.NET Ajax client-side framework failed to load.');\n",
       "//]]>\n",
       "</script>\n",
       "<script src=\"/myRMV/ScriptResource.axd?d=JnUc-DEDOM5KzzVKtsL1tfXJw5U3KXkLaKMvQy8dtOBE3nXS5z0oQuASW4-h9rrJNnzqtq9iFAZSqdEX3tQQ6hxu1Fi_ElZkZYEWphDkXg2bwozpQzSR2nc6mJGEqqnNIzGCxfnx1rdKTPeo9jllVEliMj9fnQXgHfewO4jWiJvQTOOpf58Z9CG5UzD1X9K_0&amp;t=ffffffffeea0dba9\" type=\"text/javascript\"></script>\n",
       "<script src=\"/myRMV/ScriptResource.axd?d=pVdHczR8HTv0TYtXLibFoPSyg-y3JzsRZtyQi0D-bT7tKqfzuazNEW39dG9IVLCZeFgQmU11j8cfMLM9MFNhS3S7_QAwXtr2Sz6WgLuWpiUeYPIP3eEXPAOAosMiJldbd45dCfvumnf6ZH7e_WP6kQ2&amp;t=ffffffff8fe80928\" type=\"text/javascript\"></script>\n",
       "<script src=\"/myRMV/ScriptResource.axd?d=-qISl4-OkT-7X02E4Fisr8QmACgS1KzkJf0cwQGXrR6BnWjbsHmM7bZZ1DKeS8CD4WKqfozJxhq1zE_W0SjyNpbHZ6BRkbxE7CBb41aIxJnfNxCcKVUo7uMsP7Wyqp7q0&amp;t=ffffffff8fe80928\" type=\"text/javascript\"></script>\n",
       "<script src=\"/myRMV/ScriptResource.axd?d=LpGQnoKUSgO3ODsBUs8GfdQLi_ugjvvEygWMhsS7D9BlxggjqqKStIyy4MBpFu-w4S5H3sOo7UO4oom3kbEXkH5eVUXzQxtooHwCfa1qF7RSYFVfgH_EQfFPQyUtURBL0&amp;t=ffffffff8fe80928\" type=\"text/javascript\"></script>\n",
       "<script src=\"/myRMV/ScriptResource.axd?d=VXG5HWKmJ5VfT6XbkUxKRl7YRmlnzuZmFKUeMnW4mtz6sQFpf_JinR-kFUvKi5t4sPWh4pkYXrLDfI4RcJ930YM_SpD0tTDh-4w5JuFbVtFdFb__jIORSX7XO1v-NzSe0&amp;t=ffffffff8fe80928\" type=\"text/javascript\"></script>\n",
       "<script src=\"/myRMV/ScriptResource.axd?d=GaxHcEbg13h06VA4YmIg9UXDQdG-Vjj1dGWWeW3L6PV_AlvR_GiUHlqM0J3lVgaPRtcNwqcUy2a1XJI_Qy_aJi_Nvf7ntm10yexjRN015MuxaXqmZU5vvGb5xNhx_sJV0&amp;t=ffffffff8fe80928\" type=\"text/javascript\"></script>\n",
       "<script type=\"text/javascript\">\n",
       "//<![CDATA[\n",
       "function WebForm_OnSubmit() {\n",
       "if (typeof(ValidatorOnSubmit) == \"function\" && ValidatorOnSubmit() == false) return false;\n",
       "return true;\n",
       "}\n",
       "//]]>\n",
       "</script>\n",
       "<div class=\"aspNetHidden\">\n",
       "<input id=\"__VIEWSTATEGENERATOR\" name=\"__VIEWSTATEGENERATOR\" type=\"hidden\" value=\"7EB7A27C\"/>\n",
       "<input id=\"__EVENTVALIDATION\" name=\"__EVENTVALIDATION\" type=\"hidden\" value=\"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\"/>\n",
       "</div>\n",
       "<div class=\"form-container\">\n",
       "<div class=\"container-fluid\">\n",
       "<div class=\"form-group row\">\n",
       "<div class=\"col-md-7 col-sm-7\">\n",
       "<a href=\"http://www.massrmv.com\">\n",
       "<img alt=\"Massachusetts Registry of Motor Vehicles\" class=\"img-responsive\" id=\"imgLogo\" src=\"Images/MassRMVLogo.jpg\"/>\n",
       "</a>\n",
       "</div>\n",
       "<div class=\"col-md-5 col-sm-5\">\n",
       "</div>\n",
       "</div>\n",
       "<link href=\"Bootstrap/css/Custom.css\" rel=\"stylesheet\"/>\n",
       "<script type=\"text/javascript\">\n",
       "//<![CDATA[\n",
       "Sys.WebForms.PageRequestManager._initialize('ctl00$MasterPageContent$ScriptManager1', 'form1', [], [], [], 90, 'ctl00');\n",
       "//]]>\n",
       "</script>\n",
       "<script type=\"text/javascript\">\n",
       "        var FLAG_DOB_MONTH = 1; // 0001\n",
       "        var FLAG_DOB_DAY = 2; // 0010\n",
       "        var FLAG_DOB_YEAR = 4; // 0100\n",
       "\n",
       "        var DOBMask\n",
       "\n",
       "        function SetDOBMask(val) {\n",
       "            DOBMask = DOBMask | val;\n",
       "            if (DOBMask == 7) {\n",
       "                window.ValidatorValidate(window.CustomValidator_DOB);\n",
       "            }\n",
       "        }\n",
       "\n",
       "\n",
       "        var FLAG_SSN_2 = 1; // 0001\n",
       "        var FLAG_SSN_3 = 2; // 0010\n",
       "        var FLAG_SSN_4 = 4; // 0100\n",
       "\n",
       "        var SSNMask\n",
       "\n",
       "        function SetSSNMask(val) {\n",
       "            SSNMask = SSNMask | val;\n",
       "            if (SSNMask == 7) {\n",
       "                window.ValidatorValidate(window.CustomValidator_SSN);\n",
       "            }\n",
       "        }\n",
       "\n",
       "    </script>\n",
       "<div class=\"form-horizontal\">\n",
       "<div class=\"rmv-page-header box-shadow--6dp\">\n",
       "<h1 class=\"rmv-page-header-text\">Welcome to myRMV</h1>\n",
       "<div class=\"center\" style=\"font-size:larger\">\n",
       "<span style=\"color: white\">All fields are required</span>\n",
       "</div>\n",
       "</div>\n",
       "<div class=\"content-container\">\n",
       "<div class=\"well\">\n",
       "<div class=\"sr-only\" id=\"ValidationSummary1\" role=\"alert\" style=\"display:none;\">\n",
       "</div>\n",
       "<div class=\"form-group row\">\n",
       "<label class=\"col-md-3 control-label\" for=\"MasterPageContent_txtFirstName\" id=\"MasterPageContent_lblFirstName\">First Name</label>\n",
       "<div class=\"col-md-3\">\n",
       "<input aria-required=\"true\" class=\"form-control\" id=\"MasterPageContent_txtFirstName\" maxlength=\"12\" name=\"ctl00$MasterPageContent$txtFirstName\" type=\"text\"/>\n",
       "<span class=\"text-danger\" id=\"MasterPageContent_RequiredFieldValidator_FirstName\" style=\"display:none;\">First Name is required</span>\n",
       "</div>\n",
       "<label class=\"col-md-2 control-label\" for=\"MasterPageContent_txtLastName\" id=\"MasterPageContent_lblLastName\">Last Name</label>\n",
       "<div class=\"col-md-3\">\n",
       "<input aria-required=\"true\" class=\"form-control\" id=\"MasterPageContent_txtLastName\" maxlength=\"16\" name=\"ctl00$MasterPageContent$txtLastName\" type=\"text\"/>\n",
       "<span class=\"text-danger\" id=\"MasterPageContent_RequiredFieldValidator_LastName\" style=\"display:none;\">Last Name is required</span>\n",
       "</div>\n",
       "<div class=\"col-md-1\">\n",
       "</div>\n",
       "</div>\n",
       "<div class=\"form row\">\n",
       "<label class=\"col-md-3 control-label\" for=\"inputKey\">Date of Birth</label>\n",
       "<div class=\"col-md-2\">\n",
       "<label class=\"sr-only\" for=\"MasterPageContent_ddlMonth\" id=\"MasterPageContent_Label3\">Date of Birth Month</label>\n",
       "<select aria-required=\"true\" class=\"form-control\" id=\"MasterPageContent_ddlMonth\" name=\"ctl00$MasterPageContent$ddlMonth\" onblur=\"SetDOBMask(FLAG_DOB_MONTH);\">\n",
       "<option disabled=\"\" selected=\"selected\" value=\"Month\">Month</option>\n",
       "<option value=\"1\">January</option>\n",
       "<option value=\"2\">February</option>\n",
       "<option value=\"3\">March</option>\n",
       "<option value=\"4\">April</option>\n",
       "<option value=\"5\">May</option>\n",
       "<option value=\"6\">June</option>\n",
       "<option value=\"7\">July</option>\n",
       "<option value=\"8\">August</option>\n",
       "<option value=\"9\">September</option>\n",
       "<option value=\"10\">October</option>\n",
       "<option value=\"11\">November</option>\n",
       "<option value=\"12\">December</option>\n",
       "</select>\n",
       "</div>\n",
       "<div class=\"col-md-2\">\n",
       "<label class=\"sr-only\" for=\"MasterPageContent_ddlDay\" id=\"MasterPageContent_Label4\">Date of Birth Day</label>\n",
       "<select aria-required=\"true\" class=\"form-control\" id=\"MasterPageContent_ddlDay\" name=\"ctl00$MasterPageContent$ddlDay\" onblur=\"SetDOBMask(FLAG_DOB_DAY);\">\n",
       "<option disabled=\"\" selected=\"selected\" value=\"Day\">Day</option>\n",
       "<option value=\"1\">1</option>\n",
       "<option value=\"2\">2</option>\n",
       "<option value=\"3\">3</option>\n",
       "<option value=\"4\">4</option>\n",
       "<option value=\"5\">5</option>\n",
       "<option value=\"6\">6</option>\n",
       "<option value=\"7\">7</option>\n",
       "<option value=\"8\">8</option>\n",
       "<option value=\"9\">9</option>\n",
       "<option value=\"10\">10</option>\n",
       "<option value=\"11\">11</option>\n",
       "<option value=\"12\">12</option>\n",
       "<option value=\"13\">13</option>\n",
       "<option value=\"14\">14</option>\n",
       "<option value=\"15\">15</option>\n",
       "<option value=\"16\">16</option>\n",
       "<option value=\"17\">17</option>\n",
       "<option value=\"18\">18</option>\n",
       "<option value=\"19\">19</option>\n",
       "<option value=\"20\">20</option>\n",
       "<option value=\"21\">21</option>\n",
       "<option value=\"22\">22</option>\n",
       "<option value=\"23\">23</option>\n",
       "<option value=\"24\">24</option>\n",
       "<option value=\"25\">25</option>\n",
       "<option value=\"26\">26</option>\n",
       "<option value=\"27\">27</option>\n",
       "<option value=\"28\">28</option>\n",
       "<option value=\"29\">29</option>\n",
       "<option value=\"30\">30</option>\n",
       "<option value=\"31\">31</option>\n",
       "</select>\n",
       "</div>\n",
       "<div class=\"col-md-2\">\n",
       "<label class=\"sr-only\" for=\"MasterPageContent_ddlYear\" id=\"MasterPageContent_Label5\">Date of Birth Year</label>\n",
       "<select aria-required=\"true\" class=\"form-control\" id=\"MasterPageContent_ddlYear\" name=\"ctl00$MasterPageContent$ddlYear\" onblur=\"SetDOBMask(FLAG_DOB_YEAR);\">\n",
       "<option disabled=\"\" selected=\"selected\" value=\"Year\">Year</option>\n",
       "<option value=\"2016\">2016</option>\n",
       "<option value=\"2015\">2015</option>\n",
       "<option value=\"2014\">2014</option>\n",
       "<option value=\"2013\">2013</option>\n",
       "<option value=\"2012\">2012</option>\n",
       "<option value=\"2011\">2011</option>\n",
       "<option value=\"2010\">2010</option>\n",
       "<option value=\"2009\">2009</option>\n",
       "<option value=\"2008\">2008</option>\n",
       "<option value=\"2007\">2007</option>\n",
       "<option value=\"2006\">2006</option>\n",
       "<option value=\"2005\">2005</option>\n",
       "<option value=\"2004\">2004</option>\n",
       "<option value=\"2003\">2003</option>\n",
       "<option value=\"2002\">2002</option>\n",
       "<option value=\"2001\">2001</option>\n",
       "<option value=\"2000\">2000</option>\n",
       "<option value=\"1999\">1999</option>\n",
       "<option value=\"1998\">1998</option>\n",
       "<option value=\"1997\">1997</option>\n",
       "<option value=\"1996\">1996</option>\n",
       "<option value=\"1995\">1995</option>\n",
       "<option value=\"1994\">1994</option>\n",
       "<option value=\"1993\">1993</option>\n",
       "<option value=\"1992\">1992</option>\n",
       "<option value=\"1991\">1991</option>\n",
       "<option value=\"1990\">1990</option>\n",
       "<option value=\"1989\">1989</option>\n",
       "<option value=\"1988\">1988</option>\n",
       "<option value=\"1987\">1987</option>\n",
       "<option value=\"1986\">1986</option>\n",
       "<option value=\"1985\">1985</option>\n",
       "<option value=\"1984\">1984</option>\n",
       "<option value=\"1983\">1983</option>\n",
       "<option value=\"1982\">1982</option>\n",
       "<option value=\"1981\">1981</option>\n",
       "<option value=\"1980\">1980</option>\n",
       "<option value=\"1979\">1979</option>\n",
       "<option value=\"1978\">1978</option>\n",
       "<option value=\"1977\">1977</option>\n",
       "<option value=\"1976\">1976</option>\n",
       "<option value=\"1975\">1975</option>\n",
       "<option value=\"1974\">1974</option>\n",
       "<option value=\"1973\">1973</option>\n",
       "<option value=\"1972\">1972</option>\n",
       "<option value=\"1971\">1971</option>\n",
       "<option value=\"1970\">1970</option>\n",
       "<option value=\"1969\">1969</option>\n",
       "<option value=\"1968\">1968</option>\n",
       "<option value=\"1967\">1967</option>\n",
       "<option value=\"1966\">1966</option>\n",
       "<option value=\"1965\">1965</option>\n",
       "<option value=\"1964\">1964</option>\n",
       "<option value=\"1963\">1963</option>\n",
       "<option value=\"1962\">1962</option>\n",
       "<option value=\"1961\">1961</option>\n",
       "<option value=\"1960\">1960</option>\n",
       "<option value=\"1959\">1959</option>\n",
       "<option value=\"1958\">1958</option>\n",
       "<option value=\"1957\">1957</option>\n",
       "<option value=\"1956\">1956</option>\n",
       "<option value=\"1955\">1955</option>\n",
       "<option value=\"1954\">1954</option>\n",
       "<option value=\"1953\">1953</option>\n",
       "<option value=\"1952\">1952</option>\n",
       "<option value=\"1951\">1951</option>\n",
       "<option value=\"1950\">1950</option>\n",
       "<option value=\"1949\">1949</option>\n",
       "<option value=\"1948\">1948</option>\n",
       "<option value=\"1947\">1947</option>\n",
       "<option value=\"1946\">1946</option>\n",
       "<option value=\"1945\">1945</option>\n",
       "<option value=\"1944\">1944</option>\n",
       "<option value=\"1943\">1943</option>\n",
       "<option value=\"1942\">1942</option>\n",
       "<option value=\"1941\">1941</option>\n",
       "<option value=\"1940\">1940</option>\n",
       "<option value=\"1939\">1939</option>\n",
       "<option value=\"1938\">1938</option>\n",
       "<option value=\"1937\">1937</option>\n",
       "<option value=\"1936\">1936</option>\n",
       "<option value=\"1935\">1935</option>\n",
       "<option value=\"1934\">1934</option>\n",
       "<option value=\"1933\">1933</option>\n",
       "<option value=\"1932\">1932</option>\n",
       "<option value=\"1931\">1931</option>\n",
       "<option value=\"1930\">1930</option>\n",
       "<option value=\"1929\">1929</option>\n",
       "<option value=\"1928\">1928</option>\n",
       "<option value=\"1927\">1927</option>\n",
       "<option value=\"1926\">1926</option>\n",
       "<option value=\"1925\">1925</option>\n",
       "<option value=\"1924\">1924</option>\n",
       "<option value=\"1923\">1923</option>\n",
       "<option value=\"1922\">1922</option>\n",
       "<option value=\"1921\">1921</option>\n",
       "<option value=\"1920\">1920</option>\n",
       "<option value=\"1919\">1919</option>\n",
       "<option value=\"1918\">1918</option>\n",
       "<option value=\"1917\">1917</option>\n",
       "<option value=\"1916\">1916</option>\n",
       "<option value=\"1915\">1915</option>\n",
       "<option value=\"1914\">1914</option>\n",
       "<option value=\"1913\">1913</option>\n",
       "<option value=\"1912\">1912</option>\n",
       "<option value=\"1911\">1911</option>\n",
       "<option value=\"1910\">1910</option>\n",
       "<option value=\"1909\">1909</option>\n",
       "<option value=\"1908\">1908</option>\n",
       "<option value=\"1907\">1907</option>\n",
       "<option value=\"1906\">1906</option>\n",
       "<option value=\"1905\">1905</option>\n",
       "<option value=\"1904\">1904</option>\n",
       "<option value=\"1903\">1903</option>\n",
       "<option value=\"1902\">1902</option>\n",
       "<option value=\"1901\">1901</option>\n",
       "<option value=\"1900\">1900</option>\n",
       "</select>\n",
       "</div>\n",
       "</div>\n",
       "<div class=\"form-group row\">\n",
       "<div class=\"col-md-3\">\n",
       "</div>\n",
       "<div class=\"col-md-9\">\n",
       "<span class=\"text-danger\" id=\"CustomValidator_DOB\" style=\"display:none;\">Date of Birth is required</span>\n",
       "</div>\n",
       "</div>\n",
       "<div id=\"MasterPageContent_divLicenseSection\">\n",
       "<div class=\"form-group\">\n",
       "<div class=\"col-md-7 \">\n",
       "<div class=\"row\">\n",
       "<div class=\"col-md-2 \">\n",
       "</div>\n",
       "<div class=\"col-md-10 \">\n",
       "<hr class=\"hr-darker\"/>\n",
       "<br/>\n",
       "</div>\n",
       "</div>\n",
       "<div class=\"form row\">\n",
       "<label class=\"col-md-7 control-label\" for=\"txtLicenseNumber\" id=\"MasterPageContent_lblLicenseNumber\">License, Permit or ID Number</label>\n",
       "<div class=\"col-md-5\">\n",
       "<input aria-required=\"true\" class=\"form-control text-uppercase\" id=\"txtLicenseNumber\" maxlength=\"9\" name=\"ctl00$MasterPageContent$txtLicenseNumber\" type=\"text\"/>\n",
       "</div>\n",
       "</div>\n",
       "<div class=\"form-group row\">\n",
       "<div class=\"col-md-7\">\n",
       "</div>\n",
       "<div class=\"col-md-5\">\n",
       "<span class=\"text-danger\" id=\"MasterPageContent_RequiredFieldValidator_LicenseNumber\" style=\"display:none;\">License, Permit or ID Number is required</span>\n",
       "<span class=\"text-danger\" id=\"MasterPageContent_RegularExpressionValidator_txtLicenseNumber\" style=\"display:none;\">Enter a valid License, Permit or ID Number (Ex. S99999999)</span>\n",
       "</div>\n",
       "</div>\n",
       "<div class=\"form row\">\n",
       "<label class=\"col-md-7 control-label\" for=\"MasterPageContent_txtLast4SSN\" id=\"MasterPageContent_Label1\">Last 4 of Social Security Number</label>\n",
       "<div class=\"col-md-5\">\n",
       "<input aria-required=\"true\" class=\"form-control\" id=\"MasterPageContent_txtLast4SSN\" maxlength=\"4\" name=\"ctl00$MasterPageContent$txtLast4SSN\" type=\"text\"/>\n",
       "</div>\n",
       "</div>\n",
       "<div class=\"form-group row\">\n",
       "<div class=\"col-md-7\">\n",
       "</div>\n",
       "<div class=\"col-md-5\">\n",
       "<span class=\"text-danger\" id=\"MasterPageContent_RequiredFieldValidator_txtLast4SSN\" style=\"display:none;\">Last 4 of SSN is required</span>\n",
       "<span class=\"text-danger\" id=\"MasterPageContent_RegularExpressionValidator_txtLast4SSN\" style=\"display:none;\">Invalid last 4 of SSN entered</span>\n",
       "</div>\n",
       "</div>\n",
       "<div class=\"form-group row\">\n",
       "<div class=\"col-md-12\">\n",
       "<label class=\"control-label\" for=\"btnDontKnowLicenseNumber\"><em> If you don’t know your License, Permit, or ID Number </em> </label>\n",
       "<input class=\"btn btn-warning btn-sm box-shadow--2dp\" id=\"btnDontKnowLicenseNumber\" name=\"ctl00$MasterPageContent$btnDontKnowLicenseNumber\" style=\"font-weight: bold; color: black\" type=\"submit\" value=\"Click Here\"/>\n",
       "</div>\n",
       "</div>\n",
       "</div>\n",
       "<div class=\"col-md-5\">\n",
       "<div class=\"\">\n",
       "<img alt=\"Sample License\" class=\"img-responsive\" src=\"Images/SampleLicense.png\"/>\n",
       "</div>\n",
       "</div>\n",
       "</div>\n",
       "</div>\n",
       "<div class=\"form-group row\">\n",
       "<div class=\"col-md-1\">\n",
       "</div>\n",
       "<div class=\"col-md-10\">\n",
       "<hr class=\"hr-darker\"/>\n",
       "</div>\n",
       "<div class=\"col-md-1\">\n",
       "</div>\n",
       "</div>\n",
       "<div class=\"form-group row\">\n",
       "<div class=\"col-md-4\">\n",
       "</div>\n",
       "<div class=\"col-md-8\">\n",
       "<div class=\"LBD_CaptchaDiv \" id=\"c_authentication_masterpagecontent_authcaptcha_CaptchaDiv\" style=\"width: 280px !important; height: 50px !important; \"><!--\n",
       "--><div class=\"LBD_CaptchaImageDiv\" id=\"c_authentication_masterpagecontent_authcaptcha_CaptchaImageDiv\" style=\"width: 250px !important; height: 50px !important;\"><!--\n",
       "--><img alt=\"CAPTCHA\" class=\"LBD_CaptchaImage\" id=\"c_authentication_masterpagecontent_authcaptcha_CaptchaImage\" src=\"/myRMV/BotDetectCaptcha.ashx?get=image&amp;c=c_authentication_masterpagecontent_authcaptcha&amp;t=7b9e5af5be624d959fe6272bc0c7aa81\"/><!--\n",
       "--></div><!--\n",
       "--><div class=\"LBD_CaptchaIconsDiv\" id=\"c_authentication_masterpagecontent_authcaptcha_CaptchaIconsDiv\" style=\"width: 24px !important;\"><!--\n",
       "--><a class=\"LBD_ReloadLink\" href=\"#\" id=\"c_authentication_masterpagecontent_authcaptcha_ReloadLink\" onclick=\"c_authentication_masterpagecontent_authcaptcha.ReloadImage(); this.blur(); return false;\" title=\"Change the CAPTCHA code\"><img alt=\"Change the CAPTCHA code\" class=\"LBD_ReloadIcon\" id=\"c_authentication_masterpagecontent_authcaptcha_ReloadIcon\" src=\"/myRMV/BotDetectCaptcha.ashx?get=ReloadIcon\"/></a><!--\n",
       "--><a class=\"LBD_SoundLink\" href=\"/myRMV/BotDetectCaptcha.ashx?get=sound&amp;c=c_authentication_masterpagecontent_authcaptcha&amp;t=7b9e5af5be624d959fe6272bc0c7aa81&amp;s=RyXR%2b35mi6QWYiWbSOxqs2QVThFTa8nP5k7hKN8vWyiSJSR2OwHus4enQEcihhT%2bB1tm6aj2MRtBiPOjE3SULg%3d%3d\" id=\"c_authentication_masterpagecontent_authcaptcha_SoundLink\" onclick=\"c_authentication_masterpagecontent_authcaptcha.PlaySound(); this.blur(); return false;\" title=\"Speak the CAPTCHA code\"><img alt=\"Speak the CAPTCHA code\" class=\"LBD_SoundIcon\" id=\"c_authentication_masterpagecontent_authcaptcha_SoundIcon\" src=\"/myRMV/BotDetectCaptcha.ashx?get=SoundIcon\"/></a><!--\n",
       "--><div class=\"LBD_Placeholder\" id=\"c_authentication_masterpagecontent_authcaptcha_AudioPlaceholder\"> </div><!--\n",
       "--></div>\n",
       "<script src=\"/myRMV/BotDetectCaptcha.ashx?get=clientScriptInclude\" type=\"text/javascript\"></script>\n",
       "<script type=\"text/javascript\">\n",
       "    //<![CDATA[\n",
       "      BotDetect.Init('c_authentication_masterpagecontent_authcaptcha', '7b9e5af5be624d959fe6272bc0c7aa81', null, true, true, true, true, 1200, 7200, 0, true);\n",
       "    //]]>\n",
       "    </script>\n",
       "<script type=\"text/javascript\">\n",
       "    //<![CDATA[\n",
       "      try{(function(){var bdrsn = document.createElement('script'); bdrsn.type = 'text/javascript'; bdrsn.async = true; bdrsn.src = document.location.protocol + '//remote.captcha.com/include.js?i=ATABMAExATMBMAIxOBRLZGNyIqbwPxGei3Y-ub0Fio4UUA'; var fsn = document.getElementsByTagName('script')[0]; fsn.parentNode.insertBefore(bdrsn, fsn);})();} catch(err){}\n",
       "    //]]>\n",
       "    </script>\n",
       "<input id=\"LBD_VCID_c_authentication_masterpagecontent_authcaptcha\" name=\"LBD_VCID_c_authentication_masterpagecontent_authcaptcha\" type=\"hidden\" value=\"7b9e5af5be624d959fe6272bc0c7aa81\"/>\n",
       "<input id=\"LBD_BackWorkaround_c_authentication_masterpagecontent_authcaptcha\" name=\"LBD_BackWorkaround_c_authentication_masterpagecontent_authcaptcha\" type=\"hidden\" value=\"0\"/>\n",
       "</div>\n",
       "</div>\n",
       "</div>\n",
       "<div class=\"form-group row\">\n",
       "<div class=\"col-md-4\">\n",
       "</div>\n",
       "<div class=\"col-md-3\">\n",
       "<label class=\"sr-only\" for=\"MasterPageContent_txtCaptchaCode\" id=\"MasterPageContent_Label2\">Security Code</label>\n",
       "<input aria-required=\"true\" class=\"form-control text-uppercase\" id=\"MasterPageContent_txtCaptchaCode\" maxlength=\"5\" name=\"ctl00$MasterPageContent$txtCaptchaCode\" type=\"text\"/>\n",
       "<span class=\"text-danger\" id=\"MasterPageContent_RequiredFieldValidator_Captcha\" style=\"display:none;\">Word Verification is required</span>\n",
       "</div>\n",
       "<div class=\"col-md-5\">\n",
       "</div>\n",
       "</div>\n",
       "<div class=\"form-group row\">\n",
       "<div class=\"col-md-1\">\n",
       "</div>\n",
       "<div class=\"col-md-10\">\n",
       "                        By clicking continue, I certify and affirm that the information provided above is my own or that I am the authorized and/or a permitted user of the information contained in this account.  I understand that it is unlawful to knowingly submit false information to the Registry of Motor Vehicles, punishable as perjury as allowed under MGL Chapter 90 24B.  For further information, please refer to MassDOT’s   <a href=\" http://www.massdot.state.ma.us/SitePolicies.aspx \" style=\"text-decoration: underline\">Site Policies</a>\n",
       "</div>\n",
       "<div class=\"col-md-1\">\n",
       "</div>\n",
       "</div>\n",
       "<div class=\"form-group row\">\n",
       "<div class=\"col-md-1\">\n",
       "</div>\n",
       "<div class=\"col-md-2 col-sm-2 col-xs-12\">\n",
       "<input class=\"btn btn-primary btn-lg box-shadow--6dp standard-button-150\" id=\"MasterPageContent_btnHomePage\" name=\"ctl00$MasterPageContent$btnHomePage\" type=\"submit\" value=\"Home Page\"/>\n",
       "</div>\n",
       "<div class=\"col-md-6 col-sm-6\">\n",
       "</div>\n",
       "<div class=\"col-md-2 col-sm-2 col-xs-12\">\n",
       "<input class=\"btn btn-primary btn-lg box-shadow--6dp pull-right-767 standard-button-150\" id=\"MasterPageContent_btnSignin\" name=\"ctl00$MasterPageContent$btnSignin\" onclick='javascript:WebForm_DoPostBackWithOptions(new WebForm_PostBackOptions(\"ctl00$MasterPageContent$btnSignin\", \"\", true, \"\", \"\", false, false))' type=\"submit\" value=\"Continue\"/>\n",
       "</div>\n",
       "<div class=\"col-md-1\">\n",
       "</div>\n",
       "</div>\n",
       "</div>\n",
       "<br/>\n",
       "<br/>\n",
       "</div>\n",
       "<br/>\n",
       "        \n",
       "         \n",
       "        \n",
       "\n",
       "    </div>\n",
       "<script type=\"text/javascript\">\n",
       "        function ValidateSSN(sender, args) {\n",
       "\n",
       "            if (document.getElementById(\"txtSSN3\").value && document.getElementById(\"txtSSN2\").value && document.getElementById(\"txtSSN4\").value && document.getElementById(\"txtSSN3\").value.length == 3 && document.getElementById(\"txtSSN2\").value.length == 2 && document.getElementById(\"txtSSN4\").value.length == 4) {\n",
       "                args.IsValid = true;\n",
       "            } else {\n",
       "                args.IsValid = false;\n",
       "            }\n",
       "        }\n",
       "\n",
       "        function ValidateDOB(sender, args) {\n",
       "\n",
       "            if (document.getElementById(\"MasterPageContent_ddlMonth\").value == 'Month' || document.getElementById(\"MasterPageContent_ddlDay\").value == 'Day' || document.getElementById(\"MasterPageContent_ddlYear\").value == 'Year') {\n",
       "                args.IsValid = false;\n",
       "            } else {\n",
       "                args.IsValid = true;\n",
       "            }\n",
       "\n",
       "        }\n",
       "\n",
       "        function ValidateLicenseformat(sender, args) {\n",
       "\n",
       "            if (document.getElementById(\"txtLicenseNumber\").value == 'Month' || document.getElementById(\"MasterPageContent_ddlDay\").value == 'Day' || document.getElementById(\"MasterPageContent_ddlYear\").value == 'Year') {\n",
       "                args.IsValid = false;\n",
       "            } else {\n",
       "                args.IsValid = true;\n",
       "            }\n",
       "\n",
       "        }\n",
       "\n",
       "        //Function to set focus on the next textbox in sequence when the user enters his/her SSN.\n",
       "        function SSNTextbox_KeyPress(SSNTextbox, evt, moveto) {\n",
       "            //Allowing tab out for keycodes 96 to 105, 48 to 57.\n",
       "            if ((evt.keyCode >= 45 && evt.keyCode <= 57) || (evt.keyCode >= 96 && evt.keyCode <= 105)) {\n",
       "                //If the next textbox exists, shifting focus to it.\n",
       "                if ((moveto == '2' && SSNTextbox.value.length == 3) || (moveto == '4' && SSNTextbox.value.length == 2)) {\n",
       "                    //Clear old value and shift focus.\n",
       "                    document.getElementById('txtSSN' + moveto).value = \"\";\n",
       "                    document.getElementById('txtSSN' + moveto).focus();\n",
       "                }\n",
       "                return true;\n",
       "            }\n",
       "            else {\n",
       "                return false;\n",
       "            }\n",
       "        }\n",
       "\n",
       "    </script>\n",
       "</div>\n",
       "</div>\n",
       "<!-- Google Analytics -->\n",
       "<script>\n",
       "            (function (i, s, o, g, r, a, m) {\n",
       "                i['GoogleAnalyticsObject'] = r; i[r] = i[r] || function () {\n",
       "                    (i[r].q = i[r].q || []).push(arguments)\n",
       "                }, i[r].l = 1 * new Date(); a = s.createElement(o),\n",
       "                m = s.getElementsByTagName(o)[0]; a.async = 1; a.src = g; m.parentNode.insertBefore(a, m)\n",
       "            })(window, document, 'script', '//www.google-analytics.com/analytics.js', 'ga');\n",
       "\n",
       "            ga('create', 'UA-36048366-1', 'auto', { allowLinker: true });\n",
       "            ga('require', 'linker');\n",
       "            ga('linker:autoLink', ['massrmv.com', 'secure.rmv.state.ma.us']);\n",
       "            ga('send', 'pageview');\n",
       "        </script>\n",
       "<!-- End Google Analytics -->\n",
       "<script type=\"text/javascript\">\n",
       "//<![CDATA[\n",
       "var Page_ValidationSummaries =  new Array(document.getElementById(\"ValidationSummary1\"));\n",
       "var Page_Validators =  new Array(document.getElementById(\"MasterPageContent_RequiredFieldValidator_FirstName\"), document.getElementById(\"MasterPageContent_RequiredFieldValidator_LastName\"), document.getElementById(\"CustomValidator_DOB\"), document.getElementById(\"MasterPageContent_RequiredFieldValidator_LicenseNumber\"), document.getElementById(\"MasterPageContent_RegularExpressionValidator_txtLicenseNumber\"), document.getElementById(\"MasterPageContent_RequiredFieldValidator_txtLast4SSN\"), document.getElementById(\"MasterPageContent_RegularExpressionValidator_txtLast4SSN\"), document.getElementById(\"MasterPageContent_RequiredFieldValidator_Captcha\"));\n",
       "//]]>\n",
       "</script>\n",
       "<script type=\"text/javascript\">\n",
       "//<![CDATA[\n",
       "var ValidationSummary1 = document.all ? document.all[\"ValidationSummary1\"] : document.getElementById(\"ValidationSummary1\");\n",
       "ValidationSummary1.displaymode = \"List\";\n",
       "var MasterPageContent_RequiredFieldValidator_FirstName = document.all ? document.all[\"MasterPageContent_RequiredFieldValidator_FirstName\"] : document.getElementById(\"MasterPageContent_RequiredFieldValidator_FirstName\");\n",
       "MasterPageContent_RequiredFieldValidator_FirstName.controltovalidate = \"MasterPageContent_txtFirstName\";\n",
       "MasterPageContent_RequiredFieldValidator_FirstName.errormessage = \"First Name is required\";\n",
       "MasterPageContent_RequiredFieldValidator_FirstName.display = \"Dynamic\";\n",
       "MasterPageContent_RequiredFieldValidator_FirstName.evaluationfunction = \"RequiredFieldValidatorEvaluateIsValid\";\n",
       "MasterPageContent_RequiredFieldValidator_FirstName.initialvalue = \"\";\n",
       "var MasterPageContent_RequiredFieldValidator_LastName = document.all ? document.all[\"MasterPageContent_RequiredFieldValidator_LastName\"] : document.getElementById(\"MasterPageContent_RequiredFieldValidator_LastName\");\n",
       "MasterPageContent_RequiredFieldValidator_LastName.controltovalidate = \"MasterPageContent_txtLastName\";\n",
       "MasterPageContent_RequiredFieldValidator_LastName.errormessage = \"Last Name is required\";\n",
       "MasterPageContent_RequiredFieldValidator_LastName.display = \"Dynamic\";\n",
       "MasterPageContent_RequiredFieldValidator_LastName.evaluationfunction = \"RequiredFieldValidatorEvaluateIsValid\";\n",
       "MasterPageContent_RequiredFieldValidator_LastName.initialvalue = \"\";\n",
       "var CustomValidator_DOB = document.all ? document.all[\"CustomValidator_DOB\"] : document.getElementById(\"CustomValidator_DOB\");\n",
       "CustomValidator_DOB.errormessage = \"Date of Birth is required\";\n",
       "CustomValidator_DOB.display = \"Dynamic\";\n",
       "CustomValidator_DOB.evaluationfunction = \"CustomValidatorEvaluateIsValid\";\n",
       "CustomValidator_DOB.clientvalidationfunction = \"ValidateDOB\";\n",
       "var MasterPageContent_RequiredFieldValidator_LicenseNumber = document.all ? document.all[\"MasterPageContent_RequiredFieldValidator_LicenseNumber\"] : document.getElementById(\"MasterPageContent_RequiredFieldValidator_LicenseNumber\");\n",
       "MasterPageContent_RequiredFieldValidator_LicenseNumber.controltovalidate = \"txtLicenseNumber\";\n",
       "MasterPageContent_RequiredFieldValidator_LicenseNumber.errormessage = \"License, Permit or ID Number is required\";\n",
       "MasterPageContent_RequiredFieldValidator_LicenseNumber.display = \"Dynamic\";\n",
       "MasterPageContent_RequiredFieldValidator_LicenseNumber.evaluationfunction = \"RequiredFieldValidatorEvaluateIsValid\";\n",
       "MasterPageContent_RequiredFieldValidator_LicenseNumber.initialvalue = \"\";\n",
       "var MasterPageContent_RegularExpressionValidator_txtLicenseNumber = document.all ? document.all[\"MasterPageContent_RegularExpressionValidator_txtLicenseNumber\"] : document.getElementById(\"MasterPageContent_RegularExpressionValidator_txtLicenseNumber\");\n",
       "MasterPageContent_RegularExpressionValidator_txtLicenseNumber.controltovalidate = \"txtLicenseNumber\";\n",
       "MasterPageContent_RegularExpressionValidator_txtLicenseNumber.errormessage = \"Enter a valid License, Permit or ID Number (Ex. S99999999)\";\n",
       "MasterPageContent_RegularExpressionValidator_txtLicenseNumber.display = \"Dynamic\";\n",
       "MasterPageContent_RegularExpressionValidator_txtLicenseNumber.evaluationfunction = \"RegularExpressionValidatorEvaluateIsValid\";\n",
       "MasterPageContent_RegularExpressionValidator_txtLicenseNumber.validationexpression = \"^[Ss][0-9]{8}$\";\n",
       "var MasterPageContent_RequiredFieldValidator_txtLast4SSN = document.all ? document.all[\"MasterPageContent_RequiredFieldValidator_txtLast4SSN\"] : document.getElementById(\"MasterPageContent_RequiredFieldValidator_txtLast4SSN\");\n",
       "MasterPageContent_RequiredFieldValidator_txtLast4SSN.controltovalidate = \"MasterPageContent_txtLast4SSN\";\n",
       "MasterPageContent_RequiredFieldValidator_txtLast4SSN.errormessage = \"Last 4 of SSN is required\";\n",
       "MasterPageContent_RequiredFieldValidator_txtLast4SSN.display = \"Dynamic\";\n",
       "MasterPageContent_RequiredFieldValidator_txtLast4SSN.evaluationfunction = \"RequiredFieldValidatorEvaluateIsValid\";\n",
       "MasterPageContent_RequiredFieldValidator_txtLast4SSN.initialvalue = \"\";\n",
       "var MasterPageContent_RegularExpressionValidator_txtLast4SSN = document.all ? document.all[\"MasterPageContent_RegularExpressionValidator_txtLast4SSN\"] : document.getElementById(\"MasterPageContent_RegularExpressionValidator_txtLast4SSN\");\n",
       "MasterPageContent_RegularExpressionValidator_txtLast4SSN.controltovalidate = \"MasterPageContent_txtLast4SSN\";\n",
       "MasterPageContent_RegularExpressionValidator_txtLast4SSN.errormessage = \"Invalid last 4 of SSN entered\";\n",
       "MasterPageContent_RegularExpressionValidator_txtLast4SSN.display = \"Dynamic\";\n",
       "MasterPageContent_RegularExpressionValidator_txtLast4SSN.evaluationfunction = \"RegularExpressionValidatorEvaluateIsValid\";\n",
       "MasterPageContent_RegularExpressionValidator_txtLast4SSN.validationexpression = \"\\\\d{4}\";\n",
       "var MasterPageContent_RequiredFieldValidator_Captcha = document.all ? document.all[\"MasterPageContent_RequiredFieldValidator_Captcha\"] : document.getElementById(\"MasterPageContent_RequiredFieldValidator_Captcha\");\n",
       "MasterPageContent_RequiredFieldValidator_Captcha.controltovalidate = \"MasterPageContent_txtCaptchaCode\";\n",
       "MasterPageContent_RequiredFieldValidator_Captcha.errormessage = \"Word Verification is required\";\n",
       "MasterPageContent_RequiredFieldValidator_Captcha.display = \"Dynamic\";\n",
       "MasterPageContent_RequiredFieldValidator_Captcha.evaluationfunction = \"RequiredFieldValidatorEvaluateIsValid\";\n",
       "MasterPageContent_RequiredFieldValidator_Captcha.initialvalue = \"\";\n",
       "//]]>\n",
       "</script>\n",
       "<script type=\"text/javascript\">\n",
       "//<![CDATA[\n",
       "\n",
       "(function(id) {\n",
       "    var e = document.getElementById(id);\n",
       "    if (e) {\n",
       "        e.dispose = function() {\n",
       "            Array.remove(Page_ValidationSummaries, document.getElementById(id));\n",
       "        }\n",
       "        e = null;\n",
       "    }\n",
       "})('ValidationSummary1');\n",
       "\n",
       "var Page_ValidationActive = false;\n",
       "if (typeof(ValidatorOnLoad) == \"function\") {\n",
       "    ValidatorOnLoad();\n",
       "}\n",
       "\n",
       "function ValidatorOnSubmit() {\n",
       "    if (Page_ValidationActive) {\n",
       "        return ValidatorCommonOnSubmit();\n",
       "    }\n",
       "    else {\n",
       "        return true;\n",
       "    }\n",
       "}\n",
       "        \n",
       "document.getElementById('MasterPageContent_RequiredFieldValidator_FirstName').dispose = function() {\n",
       "    Array.remove(Page_Validators, document.getElementById('MasterPageContent_RequiredFieldValidator_FirstName'));\n",
       "}\n",
       "Sys.Application.add_init(function() {\n",
       "    $create(Sys.Extended.UI.FilteredTextBoxBehavior, {\"FilterType\":12,\"id\":\"MasterPageContent_FilteredTextBoxExtender_txtFirstName\"}, null, null, $get(\"MasterPageContent_txtFirstName\"));\n",
       "});\n",
       "\n",
       "document.getElementById('MasterPageContent_RequiredFieldValidator_LastName').dispose = function() {\n",
       "    Array.remove(Page_Validators, document.getElementById('MasterPageContent_RequiredFieldValidator_LastName'));\n",
       "}\n",
       "Sys.Application.add_init(function() {\n",
       "    $create(Sys.Extended.UI.FilteredTextBoxBehavior, {\"FilterType\":13,\"ValidChars\":\"-\",\"id\":\"MasterPageContent_FilteredTextBoxExtender_txtLastName\"}, null, null, $get(\"MasterPageContent_txtLastName\"));\n",
       "});\n",
       "\n",
       "document.getElementById('CustomValidator_DOB').dispose = function() {\n",
       "    Array.remove(Page_Validators, document.getElementById('CustomValidator_DOB'));\n",
       "}\n",
       "Sys.Application.add_init(function() {\n",
       "    $create(Sys.Extended.UI.FilteredTextBoxBehavior, {\"FilterType\":3,\"ValidChars\":\"Ss\",\"id\":\"MasterPageContent_FilteredTextBoxExtender_txtLicenseNumber\"}, null, null, $get(\"txtLicenseNumber\"));\n",
       "});\n",
       "\n",
       "document.getElementById('MasterPageContent_RequiredFieldValidator_LicenseNumber').dispose = function() {\n",
       "    Array.remove(Page_Validators, document.getElementById('MasterPageContent_RequiredFieldValidator_LicenseNumber'));\n",
       "}\n",
       "\n",
       "document.getElementById('MasterPageContent_RegularExpressionValidator_txtLicenseNumber').dispose = function() {\n",
       "    Array.remove(Page_Validators, document.getElementById('MasterPageContent_RegularExpressionValidator_txtLicenseNumber'));\n",
       "}\n",
       "Sys.Application.add_init(function() {\n",
       "    $create(Sys.Extended.UI.FilteredTextBoxBehavior, {\"FilterType\":2,\"id\":\"MasterPageContent_FilteredTextBoxExtender_txtLast4SSN\"}, null, null, $get(\"MasterPageContent_txtLast4SSN\"));\n",
       "});\n",
       "\n",
       "document.getElementById('MasterPageContent_RequiredFieldValidator_txtLast4SSN').dispose = function() {\n",
       "    Array.remove(Page_Validators, document.getElementById('MasterPageContent_RequiredFieldValidator_txtLast4SSN'));\n",
       "}\n",
       "\n",
       "document.getElementById('MasterPageContent_RegularExpressionValidator_txtLast4SSN').dispose = function() {\n",
       "    Array.remove(Page_Validators, document.getElementById('MasterPageContent_RegularExpressionValidator_txtLast4SSN'));\n",
       "}\n",
       "\n",
       "document.getElementById('MasterPageContent_RequiredFieldValidator_Captcha').dispose = function() {\n",
       "    Array.remove(Page_Validators, document.getElementById('MasterPageContent_RequiredFieldValidator_Captcha'));\n",
       "}\n",
       "//]]>\n",
       "</script>\n",
       "</form>\n",
       "</body>\n",
       "</html>"
      ]
     },
     "execution_count": 64,
     "metadata": {},
     "output_type": "execute_result"
    }
   ],
   "source": [
    "soup"
   ]
  },
  {
   "cell_type": "code",
   "execution_count": null,
   "metadata": {
    "collapsed": true
   },
   "outputs": [],
   "source": []
  }
 ],
 "metadata": {
  "anaconda-cloud": {},
  "kernelspec": {
   "display_name": "Python [conda root]",
   "language": "python",
   "name": "conda-root-py"
  },
  "language_info": {
   "codemirror_mode": {
    "name": "ipython",
    "version": 3
   },
   "file_extension": ".py",
   "mimetype": "text/x-python",
   "name": "python",
   "nbconvert_exporter": "python",
   "pygments_lexer": "ipython3",
   "version": "3.5.2"
  }
 },
 "nbformat": 4,
 "nbformat_minor": 1
}
